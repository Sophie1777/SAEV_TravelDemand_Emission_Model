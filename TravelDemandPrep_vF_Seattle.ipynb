{
 "cells": [
  {
   "cell_type": "code",
   "execution_count": 93,
   "metadata": {
    "ExecuteTime": {
     "end_time": "2025-04-04T14:57:39.129721Z",
     "start_time": "2025-04-04T14:57:39.097452Z"
    }
   },
   "outputs": [],
   "source": [
    "# -------------------------------------------------------------------------------------------------------------------- #\n",
    "# external imports\n",
    "# ----------------\n",
    "import numpy as np\n",
    "import pandas as pd\n",
    "import matplotlib.pyplot as plt\n",
    "import seaborn as sns\n",
    "import statsmodels.api as sm\n",
    "import matplotlib.dates as mdates\n",
    "from statsmodels.tsa.holtwinters import ExponentialSmoothing\n",
    "from matplotlib.ticker import FuncFormatter, MultipleLocator\n",
    "from datetime import datetime\n",
    "from pandas.tseries.holiday import USFederalHolidayCalendar\n",
    "\n"
   ],
   "id": "591431f674fd38e4"
  },
  {
   "cell_type": "code",
   "outputs": [],
   "source": [
    "# Defining pathes\n",
    "PSRCpath =  \n",
    "VehicleDatapath = \n",
    "EmissionDatapath = "
   ],
   "metadata": {
    "collapsed": false,
    "ExecuteTime": {
     "end_time": "2025-04-04T14:57:40.203733Z",
     "start_time": "2025-04-04T14:57:40.189986Z"
    }
   },
   "id": "dd5fb94ceebeab5d",
   "execution_count": 94
  },
  {
   "cell_type": "markdown",
   "metadata": {},
   "source": [
    "# Travel Demand Model"
   ],
   "id": "5cac2852ea1e5a9b"
  },
  {
   "cell_type": "markdown",
   "metadata": {},
   "source": [
    "### Load data\n",
    "Reading the data and filtering to only include Seattle travel data "
   ],
   "id": "630ac5a23559a1a5"
  },
  {
   "cell_type": "code",
   "outputs": [
    {
     "name": "stderr",
     "output_type": "stream",
     "text": [
      "C:\\Users\\Sophie Westphal\\AppData\\Local\\Temp\\ipykernel_23624\\1180061563.py:5: DtypeWarning: Columns (7,8,10,13,18,22,28,39,41,42,43,45,46,49,50,54,55,61,62,63,64,65,66,67,68,70,71,72,75,79,83,84,85,89) have mixed types. Specify dtype option on import or set low_memory=False.\n",
      "  df = pd.read_csv(PSRCpath)\n"
     ]
    }
   ],
   "source": [
    "# Specify path for PSRC Household_Travel_Survey_Trips.csv\n",
    "# PSRCpath = \n",
    "\n",
    "# Load the CSV file into a DataFrame\n",
    "df = pd.read_csv(PSRCpath)\n",
    "\n",
    "df_sea = df[(df['origin_jurisdiction'] == 'Seattle')]\n",
    "\n",
    "df_sea_orig = df_sea.copy()\n",
    "df_sea_orig2 = df_sea.copy()\n"
   ],
   "metadata": {
    "collapsed": false,
    "ExecuteTime": {
     "end_time": "2025-04-04T14:57:43.547230Z",
     "start_time": "2025-04-04T14:57:40.289114Z"
    }
   },
   "id": "b77eccd23e35c186",
   "execution_count": 95
  },
  {
   "cell_type": "markdown",
   "metadata": {},
   "source": [
    "### Cleaning of data \n",
    "We clean the Seattle data by excluding hvm values that are not relevant. (everything except MIT and PT) Further, we drop all rows that don't list the mode of transport. Additionally, we exclude long paths >= 100km as these trips most likely are not done in the boundaries of the city. "
   ],
   "id": "1e7aa521b01036c1"
  },
  {
   "cell_type": "code",
   "execution_count": 96,
   "metadata": {
    "ExecuteTime": {
     "end_time": "2025-04-04T14:57:43.674366Z",
     "start_time": "2025-04-04T14:57:43.549385Z"
    }
   },
   "outputs": [
    {
     "name": "stderr",
     "output_type": "stream",
     "text": [
      "C:\\Users\\Sophie Westphal\\AppData\\Local\\Temp\\ipykernel_23624\\718463636.py:67: SettingWithCopyWarning: \n",
      "A value is trying to be set on a copy of a slice from a DataFrame.\n",
      "Try using .loc[row_indexer,col_indexer] = value instead\n",
      "\n",
      "See the caveats in the documentation: https://pandas.pydata.org/pandas-docs/stable/user_guide/indexing.html#returning-a-view-versus-a-copy\n",
      "  df_sea['hvm'] = df_sea['mode_1'].map(mode_mapping)\n"
     ]
    }
   ],
   "source": [
    "# Mapping for MiD categories\n",
    "mode_mapping = {\n",
    "    # Zu Fuß\n",
    "    \"Walk (or jog/wheelchair)\": 1,\n",
    "\n",
    "    # Fahrrad\n",
    "    \"Bicycle or e-bike (rSurvey only)\": 2,\n",
    "    \"Standard bicycle (my household's)\": 2,\n",
    "    \"Electric bicycle (my household's)\": 2,\n",
    "    \"Scooter or e-scooter (e.g., Lime, Bird, Razor)\": 2,\n",
    "    \"Bike-share - electric bicycle\": 2,\n",
    "    \"Bike-share - standard bicycle\": 2,\n",
    "    \"Bike-share bicycle (rMove only)\": 2,\n",
    "    \"Bicycle owned by my household (rMove only)\": 2,\n",
    "    \"Borrowed bicycle (e.g., from a friend)\": 2,\n",
    "    \"Borrowed bicycle (e.g., from a friend) (rMove only)\": 2,\n",
    "    \"Other rented bicycle\": 2,\n",
    "    \"Other rented bicycle (rMove only)\": 2,\n",
    "\n",
    "    # MIV Fahrer/Mitfahrer\n",
    "    \"Household vehicle 1\": 4,\n",
    "    \"Household vehicle 2\": 4,\n",
    "    \"Household vehicle 3\": 4,\n",
    "    \"Household vehicle 4\": 4,\n",
    "    \"Household vehicle 5\": 4,\n",
    "    \"Household vehicle 6\": 4,\n",
    "    \"Household vehicle 7\": 4,\n",
    "    \"Household vehicle 8\": 4,\n",
    "    \"Car from work\": 4,\n",
    "    \"Other non-household vehicle\": 4,\n",
    "    \"Friend/colleague's car\": 4,\n",
    "    \"Other vehicle in household\": 4,\n",
    "    \"Rental car\": 4,\n",
    "    \"Carshare service (e.g., Turo, Zipcar, ReachNow)\": 4,\n",
    "    \"Carshare service (e.g., Turo, Zipcar, Getaround, GIG)\": 4,\n",
    "\n",
    "    # ÖPV\n",
    "    \"Bus (public transit)\": 5,\n",
    "    \"Private bus or shuttle\": 5,\n",
    "    \"Taxi (e.g., Yellow Cab)\": 5,\n",
    "    \"Vanpool\": 5,\n",
    "    \"Urban Rail (e.g., Link light rail, monorail)\": 5,\n",
    "    \"Urban Rail (e.g., Link light rail, monorail, streetcar)\": 5,\n",
    "    \"School bus\": 5,\n",
    "    \"Ferry or water taxi\": 5,\n",
    "    \"Other rail (e.g., streetcar)\": 5,\n",
    "    \"Other bus (rMove only)\": 5,\n",
    "    \"Commuter rail (Sounder, Amtrak)\": 5,\n",
    "    \"Paratransit\": 5,\n",
    "\n",
    "    # Keine Angabe/Andere\n",
    "    \"Missing: Non-response\": 9,\n",
    "    \"Missing Response\": 9,\n",
    "    \"Airplane or helicopter\": 9,\n",
    "    \"Other hired service (Uber, Lyft, or other smartphone-app car service)\": 9,\n",
    "    \"Other hired car service (e.g., black car, limo)\": 9,\n",
    "    \"Other motorcycle/moped/scooter\": 9,\n",
    "    \"Other mode (e.g., skateboard, kayak, motorhome, etc.)\": 9,\n",
    "    \"Other rail\": 9,\n",
    "    \"Other motorcycle in household\": 9,\n",
    "    \"Other scooter, moped, skateboard\": 9,\n",
    "    \"Vehicle ferry (took vehicle on board)\": 9,\n",
    "    \"Segway or Onewheel/electric unicycle\": 9\n",
    "}\n",
    "\n",
    "# Spalte 'mode_1_encoded' erstellen basierend auf dem Mapping\n",
    "df_sea['hvm'] = df_sea['mode_1'].map(mode_mapping)\n",
    "\n",
    "\n",
    "# Zeilen mit nicht zuordenbaren Werten entfernen\n",
    "df_sea = df_sea.dropna(subset=['hvm'])\n",
    "\n"
   ],
   "id": "dc0f1d6fff65ce50"
  },
  {
   "cell_type": "code",
   "outputs": [],
   "source": [
    "df_sea_orig['hvm'] = df_sea['mode_1'].map(mode_mapping)"
   ],
   "metadata": {
    "collapsed": false,
    "ExecuteTime": {
     "end_time": "2025-04-04T14:57:43.691027Z",
     "start_time": "2025-04-04T14:57:43.675394Z"
    }
   },
   "id": "e15036c20dcb616e",
   "execution_count": 97
  },
  {
   "cell_type": "code",
   "execution_count": 98,
   "metadata": {
    "ExecuteTime": {
     "end_time": "2025-04-04T14:57:43.814559Z",
     "start_time": "2025-04-04T14:57:43.693123Z"
    }
   },
   "outputs": [],
   "source": [
    "mode_mapping = {\n",
    "    # Zu Fuß\n",
    "    \"Walk (or jog/wheelchair)\": 1,\n",
    "    \n",
    "    # Fahrrad\n",
    "    \"Bicycle or e-bike (rSurvey only)\": 2,\n",
    "    \"Standard bicycle (my household's)\": 2,\n",
    "    \"Electric bicycle (my household's)\": 3,\n",
    "    \"Scooter or e-scooter (e.g., Lime, Bird, Razor)\": 3,\n",
    "    \"Bike-share - electric bicycle\": 3,\n",
    "    \"Bike-share - standard bicycle\": 2,\n",
    "    \"Bike-share bicycle (rMove only)\": 2,\n",
    "    \"Bicycle owned by my household (rMove only)\": 2,\n",
    "    \"Borrowed bicycle (e.g., a friend's)\": 2,\n",
    "    \"Borrowed bicycle (e.g., from a friend) (rMove only)\": 2,\n",
    "    \"Other rented bicycle\": 2,\n",
    "    \"Other rented bicycle (rMove only)\": 2,\n",
    "    \n",
    "    # Moped/Mofa und Motorrad\n",
    "    \"Scooter or e-scooter (e.g., Lime, Bird, Razor)\": 4,\n",
    "    \"Other motorcycle/moped/scooter\": 5,\n",
    "    \"Other motorcycle (not my household's)\": 5,\n",
    "    \"Motorrad/Moped (PAPI)\": 5,\n",
    "    \"Motorrad (Mitfahrer)\": 6,\n",
    "    \"Motorrad (Fahrer)\": 7,\n",
    "    \n",
    "    # Pkw\n",
    "    \"Household vehicle 1\": 9,\n",
    "    \"Household vehicle 2\": 9,\n",
    "    \"Household vehicle 3\": 9,\n",
    "    \"Household vehicle 4\": 9,\n",
    "    \"Household vehicle 5\": 9,\n",
    "    \"Household vehicle 6\": 9,\n",
    "    \"Household vehicle 7\": 9,\n",
    "    \"Household vehicle 8\": 9,\n",
    "    \"Car from work\": 9,\n",
    "    \"Other non-household vehicle\": 8,\n",
    "    \"Friend/colleague's car\": 8,\n",
    "    \"Other vehicle in household\": 8,\n",
    "    \"Rental car\": 9,\n",
    "    \"Carshare service (e.g., Turo, Zipcar, ReachNow)\": 10,\n",
    "    \"Carshare service (e.g., Turo, Zipcar, Getaround, GIG)\": 10,\n",
    "\n",
    "    # Taxi\n",
    "    \"Taxi (e.g., Yellow Cab)\": 11,\n",
    "\n",
    "    # Öffentlicher Verkehr\n",
    "    \"Bus (public transit)\": 13,\n",
    "    \"Private bus or shuttle\": 13,\n",
    "    \"Vanpool\": 13,\n",
    "    \"Urban Rail (e.g., Link light rail, monorail)\": 15,\n",
    "    \"Urban Rail (e.g., Link light rail, monorail, streetcar)\": 15,\n",
    "    \"School bus\": 13,\n",
    "    \"Ferry or water taxi\": 19,\n",
    "    \"Other rail (e.g., streetcar)\": 14,\n",
    "    \"Commuter rail (Sounder, Amtrak)\": 16,\n",
    "    \"Paratransit\": 13,\n",
    "    \n",
    "    # Flugzeug\n",
    "    \"Airplane or helicopter\": 23,\n",
    "\n",
    "    # Sonstiges\n",
    "    \"Missing: Non-response\": 99,\n",
    "    \"Missing Response\": 99,\n",
    "    \"Other mode (e.g., skateboard, kayak, motorhome, etc.)\": 24,\n",
    "    \"Segway or Onewheel/electric unicycle\": 24,\n",
    "    \"Other hired service (Uber, Lyft, or other smartphone-app car service)\": 24,\n",
    "    \"Other hired car service (e.g., black car, limo)\": 24,\n",
    "    \"Vehicle ferry (took vehicle on board)\": 24,\n",
    "    \"anderes\": 24\n",
    "}\n",
    "\n",
    "# Anwendung des Mappings auf die Spalte 'mode_1'\n",
    "df_sea['hvm_diff2'] = df_sea['mode_1'].map(mode_mapping)\n",
    "\n",
    "# Entferne Zeilen mit nicht zuordenbaren Werten\n",
    "df_sea = df_sea.dropna(subset=['hvm_diff2'])"
   ],
   "id": "1d7ce326fcc46ea0"
  },
  {
   "cell_type": "code",
   "outputs": [],
   "source": [
    "df_sea_orig['hvm_diff2'] = df_sea['mode_1'].map(mode_mapping)"
   ],
   "metadata": {
    "collapsed": false,
    "ExecuteTime": {
     "end_time": "2025-04-04T14:57:43.829606Z",
     "start_time": "2025-04-04T14:57:43.815979Z"
    }
   },
   "id": "dc7f0cceb418f7b2",
   "execution_count": 99
  },
  {
   "cell_type": "code",
   "execution_count": 100,
   "metadata": {
    "ExecuteTime": {
     "end_time": "2025-04-04T14:57:44.464136Z",
     "start_time": "2025-04-04T14:57:43.831801Z"
    }
   },
   "outputs": [],
   "source": [
    "# Encoding so that it resembles MiD Regional Wege\n",
    "\n",
    "# Include only city traffic and therefore take out LKW (17+18), Schiff/Fähre (19), Fernzug (20), Fernlinienbus (21), Reisebus (22), Flugzeug (23), andere (24) ('hvm_diff2' column equals) [position 71 in codebook]                                   \n",
    "# Define the list of modes to exclude\n",
    "modes_to_exclude = [\n",
    "    \"Walk (or jog/wheelchair)\", \"Bicycle or e-bike (rSurvey only)\", \n",
    "    \"Other mode (e.g., skateboard, kayak, motorhome, etc.)\",\n",
    "    \"Ferry or water taxi\", \"Paratransit\",\n",
    "    \"Scooter or e-scooter (e.g., Lime, Bird, Razor)\", \"Skateboard or rollerblade\",\n",
    "    \"Standard bicycle (my household's)\", \"Electric bicycle (my household's)\",\n",
    "    \"Personal scooter or moped (not shared)\", \"Scooter-share (e.g., Bird, Lime)\", \n",
    "    \"Bike-share - electric bicycle\", \"Other scooter, moped, skateboard\",\n",
    "    \"Vehicle ferry (took vehicle on board)\", \"Segway or Onewheel/electric unicycle\",\n",
    "    \"Borrowed bicycle (e.g., a friend's)\", \"Bike-share - standard bicycle\",\n",
    "    \"Bike-share bicycle (rMove only)\", \"Bicycle owned by my household (rMove only)\",\n",
    "    \"Borrowed bicycle (e.g., from a friend) (rMove only)\", \n",
    "    \"Other rented bicycle (rMove only)\"\n",
    "]\n",
    "\n",
    "\n",
    "# Exclude rows where mode_1 matches any mode in the list\n",
    "df_sea_clean = df_sea[~df_sea['mode_1'].isin(modes_to_exclude)]\n",
    "\n",
    "# Drop rows where hvm equals 1, 2 and 9(Zu Fuß, Fahrrad, keine Angabe)                                             \n",
    "df_sea_clean = df_sea_clean[~df_sea_clean['hvm'].isin([1, 2, 9])] # hvm = 9 = 106 entries\n",
    "\n",
    "\n",
    "# Exclude long paths >= 100km, using wegkm_imp here as we would underestimate otherwise                           \n",
    "df_sea_clean = df_sea_clean[(df_sea_clean['distance_miles'] < 62.137)]\n",
    "\n",
    "# Date Encoding\n",
    "df_sea_clean[['Month', 'Day', 'Year']] = df_sea_clean['depart_date'].str.split('/', expand=True)\n",
    "\n",
    "df_sea_clean['ST_MONAT'] = df_sea_clean['Month'].fillna(0).astype(int)\n",
    "df_sea_clean['ST_MONAT'] = df_sea_clean['ST_MONAT'].astype(int)\n",
    "df_sea_clean['ST_TAG'] = df_sea_clean['Day'].fillna(0).astype(int)\n",
    "df_sea_clean['ST_TAG'] = df_sea_clean['ST_TAG'].astype(int)\n",
    "df_sea_clean['ST_JAHR'] = df_sea_clean['Year'].fillna(0).astype(int)\n",
    "df_sea_clean['ST_JAHR'] = df_sea_clean['ST_JAHR'].astype(int)\n",
    "\n",
    "# Woche encoding\n",
    "df_sea_clean['depart_date'] = pd.to_datetime(df_sea_clean['depart_date'])\n",
    "df_sea_clean['ST_WOCHE'] = df_sea_clean['depart_date'].dt.isocalendar().week\n",
    "\n",
    "# Weekday Encoding\n",
    "dow_mapping = {\n",
    "    \"Monday\": 1,\n",
    "    \"Tuesday\": 2,\n",
    "    \"Wednesday\": 3,\n",
    "    \"Thursday\": 4,\n",
    "    \"Friday\": 5,\n",
    "    \"Saturday\": 6,\n",
    "    \"Sunday\": 7\n",
    "}\n",
    "df_sea_clean['ST_WOTAG'] = df_sea_clean['travel_dow'].map(dow_mapping)\n",
    "\n",
    "# Arbeitswoche Encoding\n",
    "work_mapping = {\n",
    "    \"Monday\": 1,\n",
    "    \"Tuesday\": 1,\n",
    "    \"Wednesday\": 1,\n",
    "    \"Thursday\": 1,\n",
    "    \"Friday\": 1,\n",
    "    \"Saturday\": 2,\n",
    "    \"Sunday\": 2\n",
    "}\n",
    "df_sea_clean['arbwo'] = df_sea_clean['travel_dow'].map(work_mapping)\n",
    "\n",
    "\n",
    "cal = USFederalHolidayCalendar()\n",
    "\n",
    "# Generate a list of US federal holidays for the relevant range\n",
    "# Assume that your dataset includes years, or set a fixed range\n",
    "holidays = cal.holidays(start='2017-01-01', end='2019-12-31')\n",
    "holiday_weekdays = pd.to_datetime(holidays).strftime('%A').tolist()\n",
    "df_sea_clean['feiertag'] = df_sea_clean['travel_dow'].isin(holiday_weekdays).astype(int)\n",
    "df_sea_clean['feiertag'] = df_sea_clean['feiertag'].map({1: 0, 0: 1})\n",
    "\n",
    "\n",
    "# Funktion zur Zuordnung von Monaten zu Jahreszeiten\n",
    "def get_season(month):\n",
    "    if month in [12, 1, 2]:  # Winter: Dezember, Januar, Februar\n",
    "        return 1  # Winter\n",
    "    elif month in [3, 4, 5]:  # Frühling: März, April, Mai\n",
    "        return 2  # Frühling\n",
    "    elif month in [6, 7, 8]:  # Sommer: Juni, Juli, August\n",
    "        return 3  # Sommer\n",
    "    elif month in [9, 10, 11]:  # Herbst: September, Oktober, November\n",
    "        return 4  # Herbst\n",
    "df_sea_clean['saison'] = df_sea_clean['Month'].apply(get_season)\n",
    "\n",
    "# Fülle fehlende Werte mit einem Standardwert (z. B. 0)\n",
    "df_sea_clean['depart_time_hour'] = df_sea_clean['depart_time_hour'].fillna(0).astype(int)\n",
    "df_sea_clean['depart_time_minute'] = df_sea_clean['depart_time_minute'].fillna(0).astype(int)\n",
    "\n",
    "df_sea_clean['W_SZ'] = pd.to_datetime(\n",
    "    df_sea_clean['depart_time_hour'].astype(str) + ':' +\n",
    "    df_sea_clean['depart_time_minute'].astype(str).str.zfill(2) + ':00',\n",
    "    format='%H:%M:%S'\n",
    ").dt.time\n",
    "\n",
    "purpose_mapping = {\n",
    "    # Arbeit/Geschäftlich\n",
    "    \"Went to primary workplace\": 1,\n",
    "    \"Went to work-related place (e.g., meeting, second job, delivery)\": 1,\n",
    "    \"Went to other work-related activity\": 1,\n",
    "    # Ausbildung\n",
    "    \"Went to school/daycare (e.g., daycare, K-12, college)\": 2,\n",
    "    # Besorgung und Service\n",
    "    \"Went grocery shopping\": 3,\n",
    "    \"Went to other shopping (e.g., mall, pet store)\": 3,\n",
    "    \"Went to medical appointment (e.g., doctor, dentist)\": 3,\n",
    "    \"Other appointment/errands (rMove only)\": 3,\n",
    "     # Freizeit\n",
    "    \"Attended social event (e.g., visit with friends, family, co-workers)\": 4,\n",
    "    \"Went to restaurant to eat/get take-out\": 4,\n",
    "    \"Attended recreational event (e.g., movies, sporting event)\": 4,\n",
    "    \"Went to exercise (e.g., gym, walk, jog, bike ride)\": 4,\n",
    "    \"Went to religious/community/volunteer activity\": 4,\n",
    "    \"Went to a family activity (e.g., child's softball game)\": 4,\n",
    "    \"Other social/leisure (rMove only)\": 4,\n",
    "    # Nach Hause/Sonstiges\n",
    "    \"Went home\": 5,\n",
    "    \"Dropped off/picked up someone (e.g., son at a friend's house, spouse at bus stop)\": 5,\n",
    "    \"Other purpose\": 5,\n",
    "    \"Transferred to another mode of transportation (e.g., change from ferry to bus)\": 5,\n",
    "}\n",
    "df_sea_clean['zweck_mop'] = df_sea_clean['dest_purpose'].map(purpose_mapping)\n",
    "df_sea_clean = df_sea_clean.dropna(subset=['zweck_mop'])\n",
    "# Miles in km\n",
    "df_sea_clean['wegkm'] = df_sea_clean['distance_miles'] * 1.60934\n",
    "df_sea_clean['wegkm_imp'] = df_sea_clean['distance_miles'] * 1.60934\n",
    "\n"
   ],
   "id": "cee1a7bf2a981149"
  },
  {
   "cell_type": "code",
   "outputs": [],
   "source": [
    "df_sea_orig[['Month', 'Day', 'Year']] = df_sea_orig['depart_date'].str.split('/', expand=True)\n",
    "\n",
    "df_sea_orig['ST_MONAT'] = df_sea_orig['Month'].fillna(0).astype(int)\n",
    "df_sea_orig['ST_MONAT'] = df_sea_orig['ST_MONAT'].astype(int)\n",
    "df_sea_orig['ST_TAG'] = df_sea_orig['Day'].fillna(0).astype(int)\n",
    "df_sea_orig['ST_TAG'] = df_sea_orig['ST_TAG'].astype(int)\n",
    "df_sea_orig['ST_JAHR'] = df_sea_orig['Year'].fillna(0).astype(int)\n",
    "df_sea_orig['ST_JAHR'] = df_sea_orig['ST_JAHR'].astype(int)\n",
    "df_sea_orig['zweck_mop'] = df_sea_orig['dest_purpose'].map(purpose_mapping)\n",
    "df_sea_orig['wegkm'] = df_sea_orig['distance_miles'] * 1.60934\n",
    "df_sea_orig['wegkm_imp'] = df_sea_orig['distance_miles'] * 1.60934\n",
    "df_sea_orig['ST_WOTAG'] = df_sea_orig['travel_dow'].map(dow_mapping)\n",
    "df_sea_orig['arbwo'] = df_sea_orig['travel_dow'].map(work_mapping)\n",
    "df_sea_orig['depart_date'] = pd.to_datetime(df_sea_orig['depart_date'])\n",
    "df_sea_orig['ST_WOCHE'] = df_sea_orig['depart_date'].dt.isocalendar().week\n",
    "df_sea_orig['feiertag'] = df_sea_orig['travel_dow'].isin(holiday_weekdays).astype(int)\n",
    "df_sea_orig['feiertag'] = df_sea_orig['feiertag'].map({1: 0, 0: 1})\n",
    "df_sea_orig['saison'] = df_sea_orig['Month'].apply(get_season)\n",
    "# Fülle fehlende Werte mit einem Standardwert (z. B. 0)\n",
    "df_sea_orig['depart_time_hour'] = df_sea_orig['depart_time_hour'].fillna(0).astype(int)\n",
    "df_sea_orig['depart_time_minute'] = df_sea_orig['depart_time_minute'].fillna(0).astype(int)\n",
    "df_sea_orig['W_SZ'] = pd.to_datetime(\n",
    "    df_sea_orig['depart_time_hour'].astype(str) + ':' +\n",
    "    df_sea_orig['depart_time_minute'].astype(str).str.zfill(2) + ':00',\n",
    "    format='%H:%M:%S'\n",
    ").dt.time\n"
   ],
   "metadata": {
    "collapsed": false,
    "ExecuteTime": {
     "end_time": "2025-04-04T14:57:45.376988Z",
     "start_time": "2025-04-04T14:57:44.467314Z"
    }
   },
   "id": "31700f76b6411306",
   "execution_count": 101
  },
  {
   "cell_type": "code",
   "execution_count": 102,
   "metadata": {
    "ExecuteTime": {
     "end_time": "2025-04-04T14:57:45.407690Z",
     "start_time": "2025-04-04T14:57:45.378146Z"
    }
   },
   "outputs": [],
   "source": [
    "selected_columns = [\"ST_MONAT\",\"ST_TAG\",\"ST_JAHR\",\"ST_WOTAG\",\"ST_WOCHE\",\"arbwo\",\"feiertag\",\"saison\",\"W_SZ\",\"zweck_mop\",\"wegkm\",\"wegkm_imp\",\"hvm\",\"hvm_diff2\",\"trip_weight\"]\n",
    "df_sea_clean = df_sea_clean[selected_columns]\n"
   ],
   "id": "f06ac3180ade6e07"
  },
  {
   "cell_type": "code",
   "outputs": [],
   "source": [
    "df_sea_orig = df_sea_orig[selected_columns]"
   ],
   "metadata": {
    "collapsed": false,
    "ExecuteTime": {
     "end_time": "2025-04-04T14:57:45.433186Z",
     "start_time": "2025-04-04T14:57:45.408772Z"
    }
   },
   "id": "9f160c9c6add4b52",
   "execution_count": 103
  },
  {
   "cell_type": "markdown",
   "metadata": {},
   "source": [
    "### Cleaning of data 2\n",
    "We drop all rows that don't have a starting time as these rows are unusable for our analysis. We change the index to datetime, round 'W_SZ' to 30min and sort the data by 'ST_WOTAG', 'W_SZ' and 'wegkm_imp' to prepare for further processing."
   ],
   "id": "7835c8ad8ae1471"
  },
  {
   "cell_type": "code",
   "execution_count": 104,
   "metadata": {
    "ExecuteTime": {
     "end_time": "2025-04-04T14:57:45.536259Z",
     "start_time": "2025-04-04T14:57:45.437640Z"
    }
   },
   "outputs": [],
   "source": [
    "# Replace blanks with NaN values\n",
    "df_sea_sort = df_sea_clean.replace(' ', np.nan)\n",
    "\n",
    "# Drop rows with NaN values in 'W_SZ' column                                                                      \n",
    "df_sea_sort.dropna(subset=['W_SZ'], inplace=True)\n",
    "\n",
    "# Convert 'W_SZ' column to datetime with time only\n",
    "df_sea_sort['W_SZ'] = pd.to_datetime(df_sea_sort['W_SZ'], format='%H:%M:%S', errors='coerce')\n",
    "\n",
    "# Drop rows with NaT values in 'W_SZ' column\n",
    "df_sea_sort = df_sea_sort.dropna(subset=['W_SZ'])\n",
    "\n",
    "# Round 'W_SZ' to nearest 60 minutes \n",
    "df_sea_sort['W_SZ'] = df_sea_sort['W_SZ'].dt.floor('60min')#.dt.strftime('%H:%M:%S')\n",
    "\n",
    "\n",
    "# Sort df by datetime in 'W_SZ' column\n",
    "df_sea_sort = df_sea_sort.sort_values(by=[\"ST_WOTAG\", 'W_SZ', 'wegkm_imp'])\n",
    "\n",
    "# Reorder columns\n",
    "new_column_order = [\"ST_WOCHE\", \"ST_WOTAG\", \"W_SZ\", \"wegkm_imp\", \"wegkm\", \"ST_MONAT\", \"ST_JAHR\", \"feiertag\", \"saison\", \"zweck_mop\", \"hvm\", \"hvm_diff2\", \"arbwo\",\"trip_weight\"]\n",
    "df_sea_sort = df_sea_sort[new_column_order]\n"
   ],
   "id": "23db4349cd722dfe"
  },
  {
   "cell_type": "markdown",
   "source": [
    "### Compensation Factor"
   ],
   "metadata": {
    "collapsed": false
   },
   "id": "ed04648b91db7e26"
  },
  {
   "cell_type": "markdown",
   "metadata": {},
   "source": [
    "#### First Compensation Factor\n",
    "Calculating first compensation factor (factor_9_703_hoch) to counteract underestimation of wegkm_imp_hoch after eliminating data without mode of transport (hvm = 9, 703). We assume that the distribution of mode of transport for hvm = 9, 703 is the same as in the data with mode of transport. (we use wegkm_imp_hoch for calculation)"
   ],
   "id": "1aa064d2136a16e0"
  },
  {
   "cell_type": "code",
   "execution_count": 105,
   "metadata": {
    "ExecuteTime": {
     "end_time": "2025-04-04T14:57:45.608837Z",
     "start_time": "2025-04-04T14:57:45.537453Z"
    }
   },
   "outputs": [],
   "source": [
    "### Preparation of the data for the calculation of factor_9_703_hoch\n",
    "selected_columns = [\"hvm\", \"hvm_diff2\", \"ST_MONAT\", \"ST_JAHR\", \"ST_WOTAG\", \"ST_WOCHE\", \"W_SZ\", \"wegkm\", \"wegkm_imp\", \"saison\", \"arbwo\", \"feiertag\", \"zweck_mop\"]\n",
    "df_sea_factor_9_703 = df_sea_orig[selected_columns].copy()\n",
    "\n",
    "# Replace values where hvm is 4 with 3\n",
    "df_sea_factor_9_703.loc[df_sea_factor_9_703['hvm'] == 4, 'hvm'] = 3\n",
    "\n",
    "df_sea_factor_9_703 = df_sea_factor_9_703[(df_sea_factor_9_703['wegkm_imp'] < 62.137)]\n",
    "\n",
    "df_sea_factor_9_703 = df_sea_factor_9_703[~df_sea_factor_9_703['hvm_diff2'].isin(range(17, 25))]\n",
    "\n",
    "# Calculate wegkm_imp_hoch \n",
    "df_sea_factor_9_703['wegkm_imp_hoch'] =  df_sea_factor_9_703['wegkm_imp']\n",
    "\n",
    "# Calculate sum of wegkm_imp_hoch for all hvm values and store them in a new DataFrame\n",
    "df_hvm_sums = df_sea_factor_9_703.groupby('hvm')['wegkm_imp_hoch'].sum().reset_index(name='sum_hvm_wegkm')\n",
    "\n",
    "# Calculate sum of wegkm_imp_hoch for 9 and 703\n",
    "sum_hvm_9_703 = df_hvm_sums[df_hvm_sums['hvm'].isin([9,703])]['sum_hvm_wegkm'].sum()\n",
    "\n",
    "# Sum the sums of 1,2,3,5 and divide each sum by the total sum\n",
    "sum_hvm_1_2_3_5 = df_hvm_sums[df_hvm_sums['hvm'].isin([1, 2, 3, 5])]['sum_hvm_wegkm'].sum()\n",
    "df_hvm_sums['share'] = df_hvm_sums[df_hvm_sums['hvm'].isin([1, 2, 3, 5])]['sum_hvm_wegkm'] / sum_hvm_1_2_3_5\n",
    "\n",
    "# Calculation of lost kilometers that are attributable to hvm = 3 and hvm = 5 respectively\n",
    "lost_wegkm_3 = np.ceil(sum_hvm_9_703 * df_hvm_sums[df_hvm_sums['hvm'] == 3]['share'].values[0])\n",
    "lost_wegkm_5 = np.ceil(sum_hvm_9_703 * df_hvm_sums[df_hvm_sums['hvm'] == 5]['share'].values[0])\n",
    "lost_wegkm_3_5 = lost_wegkm_3 + lost_wegkm_5\n",
    "\n",
    "# Calculate the compensation factor for hvm 3 and 5 combined\n",
    "sum_hvm_3_5 = df_hvm_sums[df_hvm_sums['hvm'].isin([3, 5])]['sum_hvm_wegkm'].sum()\n",
    "\n",
    "# We only have one compensation factor because we don't know the split between hvm = 3 and hvm = 5\n",
    "factor_9_703_hoch = (lost_wegkm_3_5 + sum_hvm_3_5) / sum_hvm_3_5"
   ],
   "id": "b38b6ce0e0a6e3b6"
  },
  {
   "cell_type": "markdown",
   "source": [
    "#### Second and third compensation factor\n",
    "Calculating second and third compensation factor for hvm = 3 (factor_3_no_SZ_hoch) and hvm = 5 (factor_5_no_SZ_hoch) to counteract underestimation of wegkm_imp_hoch after eliminating data without a starting time. (using wegkm_imp_hoch for calculation)"
   ],
   "metadata": {
    "collapsed": false
   },
   "id": "1fc6266a94784c63"
  },
  {
   "cell_type": "code",
   "outputs": [],
   "source": [
    "df_sea_orig2['hvm'] = df_sea_orig2['mode_1'].map(mode_mapping)\n",
    "df_sea_orig2['hvm_diff2'] = df_sea_orig2['mode_1'].map(mode_mapping)\n",
    "df_sea_orig2[['Month', 'Day', 'Year']] = df_sea_orig2['depart_date'].str.split('/', expand=True)\n",
    "\n",
    "df_sea_orig2['ST_MONAT'] = df_sea_orig2['Month'].fillna(0).astype(int)\n",
    "df_sea_orig2['ST_MONAT'] = df_sea_orig2['ST_MONAT'].astype(int)\n",
    "df_sea_orig2['ST_TAG'] = df_sea_orig2['Day'].fillna(0).astype(int)\n",
    "df_sea_orig2['ST_TAG'] = df_sea_orig2['ST_TAG'].astype(int)\n",
    "df_sea_orig2['ST_JAHR'] = df_sea_orig2['Year'].fillna(0).astype(int)\n",
    "df_sea_orig2['ST_JAHR'] = df_sea_orig2['ST_JAHR'].astype(int)\n",
    "df_sea_orig2['zweck_mop'] = df_sea_orig2['dest_purpose'].map(purpose_mapping)\n",
    "df_sea_orig2['wegkm'] = df_sea_orig2['distance_miles'] * 1.60934\n",
    "df_sea_orig2['wegkm_imp'] = df_sea_orig2['distance_miles'] * 1.60934\n",
    "df_sea_orig2['ST_WOTAG'] = df_sea_orig2['travel_dow'].map(dow_mapping)\n",
    "df_sea_orig2['arbwo'] = df_sea_orig2['travel_dow'].map(work_mapping)\n",
    "df_sea_orig2['depart_date'] = pd.to_datetime(df_sea_orig2['depart_date'])\n",
    "df_sea_orig2['ST_WOCHE'] = df_sea_orig2['depart_date'].dt.isocalendar().week\n",
    "df_sea_orig2['feiertag'] = df_sea_orig2['travel_dow'].isin(holiday_weekdays).astype(int)\n",
    "df_sea_orig2['feiertag'] = df_sea_orig2['feiertag'].map({1: 0, 0: 1})\n",
    "df_sea_orig2['saison'] = df_sea_orig2['Month'].apply(get_season)\n",
    "# Fülle fehlende Werte mit einem Standardwert (z. B. 0)\n",
    "df_sea_orig2['depart_time_hour'] = df_sea_orig2['depart_time_hour'].fillna(0).astype(int)\n",
    "df_sea_orig2['depart_time_minute'] = df_sea_orig2['depart_time_minute'].fillna(0).astype(int)"
   ],
   "metadata": {
    "collapsed": false,
    "ExecuteTime": {
     "end_time": "2025-04-04T14:57:46.551207Z",
     "start_time": "2025-04-04T14:57:45.609925Z"
    }
   },
   "id": "c2a78ebe4553b6d9",
   "execution_count": 106
  },
  {
   "cell_type": "code",
   "outputs": [],
   "source": [
    "### Preparation of the data for the calculation of factor_9_703_hoch\n",
    "selected_columns = [\"hvm\", \"hvm_diff2\", \"ST_MONAT\", \"ST_JAHR\", \"ST_WOTAG\", \"ST_WOCHE\", \"depart_time_hour\", \"wegkm\", \"wegkm_imp\", \"saison\", \"arbwo\", \"feiertag\", \"zweck_mop\"]\n",
    "df_sea_factor_9_703 = df_sea_orig2[selected_columns].copy()\n",
    "df_sea_factor_9_703['wegkm_imp_hoch'] =  df_sea_factor_9_703['wegkm_imp']"
   ],
   "metadata": {
    "collapsed": false,
    "ExecuteTime": {
     "end_time": "2025-04-04T14:57:46.574367Z",
     "start_time": "2025-04-04T14:57:46.552307Z"
    }
   },
   "id": "17bd99c124b4d314",
   "execution_count": 107
  },
  {
   "cell_type": "code",
   "execution_count": 108,
   "metadata": {
    "ExecuteTime": {
     "end_time": "2025-04-04T14:57:46.606365Z",
     "start_time": "2025-04-04T14:57:46.575446Z"
    }
   },
   "outputs": [],
   "source": [
    "# Drop rows where hvm equals 1, 2 and 9(Zu Fuß, Fahrrad, keine Angabe)                                              -> 28323 entries\n",
    "df_sea_factor_no_SZ = df_sea_factor_9_703[~df_sea_factor_9_703['hvm'].isin([1, 2, 9])] # hvm = 9 = 106 entries\n",
    "\n",
    "# Drop rows where hvm equals 703 (Weg ohne Detail) as we cant use this data                                         -> 25774 entries\n",
    "df_sea_factor_no_SZ = df_sea_factor_no_SZ[~df_sea_factor_no_SZ['hvm'].isin([703])] # hvm = 703 = 2549 entries\n",
    "\n",
    "# Replace blanks with NaN values\n",
    "df_sea_factor_no_SZ = df_sea_factor_no_SZ.replace(' ', np.nan)\n",
    "\n",
    "# Filter by 'W_SZ' column and only include rows where 'W_SZ' is NaN\n",
    "df_sea_only_no_SZ = df_sea_factor_no_SZ[df_sea_factor_no_SZ['depart_time_hour'].isna()]\n",
    "\n",
    "sum_wegkm_imp_hoch_no_SZ = df_sea_only_no_SZ['wegkm_imp_hoch'].sum()\n",
    "\n",
    "sum_wegkm_imp_hoch_no_SZ_3 = df_sea_only_no_SZ[df_sea_only_no_SZ['hvm'] == 3]['wegkm_imp_hoch'].sum()\n",
    "sum_wegkm_imp_hoch_no_SZ_5 = df_sea_only_no_SZ[df_sea_only_no_SZ['hvm'] == 5]['wegkm_imp_hoch'].sum()\n",
    "\n",
    "sum_wegkm_imp_hoch_3 = df_sea_factor_no_SZ[df_sea_factor_no_SZ['hvm'] == 3]['wegkm_imp_hoch'].sum()\n",
    "sum_wegkm_imp_hoch_5 = df_sea_factor_no_SZ[df_sea_factor_no_SZ['hvm'] == 5]['wegkm_imp_hoch'].sum()\n",
    "\n",
    "# Calculating the compensation factor for hvm = 3 and hvm = 5 for no 'W_SZ' values (how many wegkm are lost in relative terms by missing starting times for hvm = 3 and hvm = 5)\n",
    "factor_3_no_SZ_hoch =  sum_wegkm_imp_hoch_3 / (sum_wegkm_imp_hoch_3 - sum_wegkm_imp_hoch_no_SZ_3)\n",
    "factor_5_no_SZ_hoch = sum_wegkm_imp_hoch_5 / (sum_wegkm_imp_hoch_5 - sum_wegkm_imp_hoch_no_SZ_5)\n"
   ],
   "id": "49838462cd7b185b"
  },
  {
   "cell_type": "markdown",
   "metadata": {},
   "source": [
    "#### Inclusion of compensation factors\n",
    "We include factor_9_703_hoch, factor_3_no_SZ_hoch, factor_5_no_SZ_hoch in df_sea_sort"
   ],
   "id": "7b374ff1345713b"
  },
  {
   "cell_type": "code",
   "execution_count": 109,
   "metadata": {
    "ExecuteTime": {
     "end_time": "2025-04-04T14:57:46.613895Z",
     "start_time": "2025-04-04T14:57:46.607463Z"
    }
   },
   "outputs": [],
   "source": [
    "# Create a new column for factor_9_703_hoch\n",
    "df_sea_sort['factor_9_703_hoch'] = factor_9_703_hoch\n",
    "\n",
    "# Create a new column for factor_3_no_SZ_hoch and factor_5_no_SZ_hoch\n",
    "df_sea_sort['factor_no_SZ_hoch'] = np.nan\n",
    "\n",
    "# Apply factor_3_no_SZ_hoch for entries where hvm == 3\n",
    "df_sea_sort.loc[df_sea_sort['hvm'] == 3, 'factor_no_SZ_hoch'] = factor_3_no_SZ_hoch\n",
    "\n",
    "# Apply factor_5_no_SZ_hoch for entries where hvm == 5\n",
    "df_sea_sort.loc[df_sea_sort['hvm'] == 5, 'factor_no_SZ_hoch'] = factor_5_no_SZ_hoch"
   ],
   "id": "670335fc12053d88"
  },
  {
   "cell_type": "markdown",
   "source": [],
   "metadata": {
    "collapsed": false
   },
   "id": "2e9da99dfeb97078"
  },
  {
   "cell_type": "markdown",
   "metadata": {},
   "source": [
    "#### Extrapolation of wegkm\n",
    "Next we calculate 'wegkm_imp_hoch' (wegkm extrapolated for the total Seattle population) by multiplying 'wegkm_imp' with the provided extrapolation factor 'W_HOCH' and the three compensation factors."
   ],
   "id": "a802047789fda39"
  },
  {
   "cell_type": "code",
   "execution_count": 110,
   "metadata": {
    "ExecuteTime": {
     "end_time": "2025-04-04T14:57:46.625706Z",
     "start_time": "2025-04-04T14:57:46.615026Z"
    }
   },
   "outputs": [],
   "source": [
    "# Add a new column 'wegkm_imp_hoch' which is the product of 'W_HOCH' and 'wegkm_imp'\n",
    "# Rounding up to lessen the effect of underestimation\n",
    "df_sea_sort['wegkm_imp_hoch'] =  df_sea_sort['factor_9_703_hoch'] * df_sea_sort['wegkm_imp'] * df_sea_sort['trip_weight']\n",
    "\n",
    "# Specify the new column order\n",
    "new_column_order = [\"ST_WOCHE\", \"ST_WOTAG\", \"W_SZ\", \"wegkm_imp_hoch\",  \"wegkm_imp\", \"wegkm\", \"ST_MONAT\", \"ST_JAHR\", \"feiertag\", \"saison\", \"zweck_mop\", \"hvm\", \"hvm_diff2\", \"arbwo\", \"factor_9_703_hoch\", \"factor_no_SZ_hoch\",'trip_weight']\n",
    "\n",
    "# Reassign the DataFrame to the new column order\n",
    "df_sea_sort = df_sea_sort[new_column_order]"
   ],
   "id": "2fda3d44581f997a"
  },
  {
   "cell_type": "markdown",
   "metadata": {},
   "source": [
    "#### Scaling of extrapolation factors\n",
    "As the extrapolation factors are calculated for one sample day, we have to multiply the wegkm_imp_hoch by 7 because we split the data into 7 days and therefore roughly only have 1/7 of total wegkm per day. Below, three different approaches are discussed."
   ],
   "id": "c0bcfe2e9fb12402"
  },
  {
   "cell_type": "markdown",
   "metadata": {},
   "source": [
    "#### Calculate weekly km\n",
    "Multiplying all wegkm_imp_hoch values by 7 to account for the split into 7 days"
   ],
   "id": "738b73ab149ff9fb"
  },
  {
   "cell_type": "code",
   "execution_count": 111,
   "metadata": {
    "ExecuteTime": {
     "end_time": "2025-04-04T14:57:46.637111Z",
     "start_time": "2025-04-04T14:57:46.626861Z"
    }
   },
   "outputs": [],
   "source": [
    "# Create 'wegkm_imp_hoch_fac' column -> Multiply all wegkm_imp_hoch values by 7 to account for the split into 7 days\n",
    "df_sea_sort['wegkm_imp_hoch_fac'] = df_sea_sort['wegkm_imp_hoch'] * 1\n",
    "\n",
    "# Specify the new column order\n",
    "new_column_order = [\"ST_WOCHE\", \"ST_WOTAG\",\"W_SZ\", \"wegkm_imp_hoch\", \"wegkm_imp_hoch_fac\",  \"wegkm_imp\", \"wegkm\",  \"ST_MONAT\", \"ST_JAHR\", \"feiertag\", \"saison\", \"zweck_mop\", \"hvm\", \"hvm_diff2\", \"arbwo\", \"factor_9_703_hoch\", \"factor_no_SZ_hoch\"]\n",
    "\n",
    "# Reassign the DataFrame to the new column order\n",
    "df_sea_sort = df_sea_sort[new_column_order]"
   ],
   "id": "9d4f17f90e96aa51"
  },
  {
   "cell_type": "code",
   "outputs": [],
   "source": [
    "# Function to format y-axis ticks as millions\n",
    "def millions(x, pos):\n",
    "    'The two args are the value and tick position'\n",
    "    return '%1.1fM' % (x * 1e-6)"
   ],
   "metadata": {
    "collapsed": false,
    "ExecuteTime": {
     "end_time": "2025-04-04T14:57:46.642494Z",
     "start_time": "2025-04-04T14:57:46.638216Z"
    }
   },
   "id": "55e42ba79dbbc472",
   "execution_count": 112
  },
  {
   "cell_type": "code",
   "execution_count": 113,
   "metadata": {
    "ExecuteTime": {
     "end_time": "2025-04-04T14:57:46.653554Z",
     "start_time": "2025-04-04T14:57:46.643563Z"
    }
   },
   "outputs": [],
   "source": [
    "# Group by 'ST_WOTAG' and calculate the sum for 'wegkm_imp_hoch_fac'\n",
    "total_wegkm_day = df_sea_sort.groupby('ST_WOTAG')['wegkm_imp_hoch_fac'].sum().reset_index()\n",
    "\n",
    "# Rename the columns for better clarity\n",
    "total_wegkm_day.columns = ['Day of Week', 'Total wegkm_imp_hoch_fac']\n",
    "\n",
    "# Optionally, map numeric days to weekday names\n",
    "weekday_names = {1: 'Monday', 2: 'Tuesday', 3: 'Wednesday', 4: 'Thursday', 5: 'Friday', 6: 'Saturday', 7: 'Sunday'}\n",
    "total_wegkm_day['Day of Week'] = total_wegkm_day['Day of Week'].map(weekday_names)\n"
   ],
   "id": "7414b4dd1545bc27"
  },
  {
   "cell_type": "markdown",
   "metadata": {},
   "source": [
    "### Exponential smoothing of data\n",
    "Applying Holt-Winters Exponential Smoothing to the dataset before aggregation and saving aggregated data of plots in dictionary with dfs for each day. (dfs_tot_MIT_PT_nohw_hw)"
   ],
   "id": "3c02ab9848a2069"
  },
  {
   "cell_type": "code",
   "outputs": [
    {
     "name": "stderr",
     "output_type": "stream",
     "text": [
      "C:\\Anaconda3\\Lib\\site-packages\\statsmodels\\tsa\\base\\tsa_model.py:473: ValueWarning: An unsupported index was provided and will be ignored when e.g. forecasting.\n",
      "  self._init_dates(dates, freq)\n",
      "C:\\Anaconda3\\Lib\\site-packages\\statsmodels\\tsa\\holtwinters\\model.py:917: ConvergenceWarning: Optimization failed to converge. Check mle_retvals.\n",
      "  warnings.warn(\n",
      "C:\\Anaconda3\\Lib\\site-packages\\statsmodels\\tsa\\base\\tsa_model.py:473: ValueWarning: An unsupported index was provided and will be ignored when e.g. forecasting.\n",
      "  self._init_dates(dates, freq)\n",
      "C:\\Anaconda3\\Lib\\site-packages\\statsmodels\\tsa\\holtwinters\\model.py:917: ConvergenceWarning: Optimization failed to converge. Check mle_retvals.\n",
      "  warnings.warn(\n",
      "C:\\Anaconda3\\Lib\\site-packages\\statsmodels\\tsa\\base\\tsa_model.py:473: ValueWarning: An unsupported index was provided and will be ignored when e.g. forecasting.\n",
      "  self._init_dates(dates, freq)\n",
      "C:\\Anaconda3\\Lib\\site-packages\\statsmodels\\tsa\\holtwinters\\model.py:917: ConvergenceWarning: Optimization failed to converge. Check mle_retvals.\n",
      "  warnings.warn(\n",
      "C:\\Anaconda3\\Lib\\site-packages\\statsmodels\\tsa\\base\\tsa_model.py:473: ValueWarning: An unsupported index was provided and will be ignored when e.g. forecasting.\n",
      "  self._init_dates(dates, freq)\n",
      "C:\\Anaconda3\\Lib\\site-packages\\statsmodels\\tsa\\holtwinters\\model.py:917: ConvergenceWarning: Optimization failed to converge. Check mle_retvals.\n",
      "  warnings.warn(\n",
      "C:\\Anaconda3\\Lib\\site-packages\\statsmodels\\tsa\\base\\tsa_model.py:473: ValueWarning: An unsupported index was provided and will be ignored when e.g. forecasting.\n",
      "  self._init_dates(dates, freq)\n",
      "C:\\Anaconda3\\Lib\\site-packages\\statsmodels\\tsa\\holtwinters\\model.py:917: ConvergenceWarning: Optimization failed to converge. Check mle_retvals.\n",
      "  warnings.warn(\n",
      "C:\\Anaconda3\\Lib\\site-packages\\statsmodels\\tsa\\base\\tsa_model.py:473: ValueWarning: An unsupported index was provided and will be ignored when e.g. forecasting.\n",
      "  self._init_dates(dates, freq)\n",
      "C:\\Anaconda3\\Lib\\site-packages\\statsmodels\\tsa\\holtwinters\\model.py:917: ConvergenceWarning: Optimization failed to converge. Check mle_retvals.\n",
      "  warnings.warn(\n",
      "C:\\Anaconda3\\Lib\\site-packages\\statsmodels\\tsa\\base\\tsa_model.py:473: ValueWarning: An unsupported index was provided and will be ignored when e.g. forecasting.\n",
      "  self._init_dates(dates, freq)\n",
      "C:\\Anaconda3\\Lib\\site-packages\\statsmodels\\tsa\\holtwinters\\model.py:917: ConvergenceWarning: Optimization failed to converge. Check mle_retvals.\n",
      "  warnings.warn(\n",
      "C:\\Anaconda3\\Lib\\site-packages\\statsmodels\\tsa\\base\\tsa_model.py:473: ValueWarning: An unsupported index was provided and will be ignored when e.g. forecasting.\n",
      "  self._init_dates(dates, freq)\n",
      "C:\\Anaconda3\\Lib\\site-packages\\statsmodels\\tsa\\holtwinters\\model.py:917: ConvergenceWarning: Optimization failed to converge. Check mle_retvals.\n",
      "  warnings.warn(\n",
      "C:\\Anaconda3\\Lib\\site-packages\\statsmodels\\tsa\\base\\tsa_model.py:473: ValueWarning: An unsupported index was provided and will be ignored when e.g. forecasting.\n",
      "  self._init_dates(dates, freq)\n",
      "C:\\Anaconda3\\Lib\\site-packages\\statsmodels\\tsa\\holtwinters\\model.py:917: ConvergenceWarning: Optimization failed to converge. Check mle_retvals.\n",
      "  warnings.warn(\n",
      "C:\\Anaconda3\\Lib\\site-packages\\statsmodels\\tsa\\base\\tsa_model.py:473: ValueWarning: An unsupported index was provided and will be ignored when e.g. forecasting.\n",
      "  self._init_dates(dates, freq)\n",
      "C:\\Anaconda3\\Lib\\site-packages\\statsmodels\\tsa\\holtwinters\\model.py:917: ConvergenceWarning: Optimization failed to converge. Check mle_retvals.\n",
      "  warnings.warn(\n",
      "C:\\Anaconda3\\Lib\\site-packages\\statsmodels\\tsa\\base\\tsa_model.py:473: ValueWarning: An unsupported index was provided and will be ignored when e.g. forecasting.\n",
      "  self._init_dates(dates, freq)\n",
      "C:\\Anaconda3\\Lib\\site-packages\\statsmodels\\tsa\\holtwinters\\model.py:917: ConvergenceWarning: Optimization failed to converge. Check mle_retvals.\n",
      "  warnings.warn(\n",
      "C:\\Anaconda3\\Lib\\site-packages\\statsmodels\\tsa\\base\\tsa_model.py:473: ValueWarning: An unsupported index was provided and will be ignored when e.g. forecasting.\n",
      "  self._init_dates(dates, freq)\n",
      "C:\\Anaconda3\\Lib\\site-packages\\statsmodels\\tsa\\holtwinters\\model.py:917: ConvergenceWarning: Optimization failed to converge. Check mle_retvals.\n",
      "  warnings.warn(\n",
      "C:\\Anaconda3\\Lib\\site-packages\\statsmodels\\tsa\\base\\tsa_model.py:473: ValueWarning: An unsupported index was provided and will be ignored when e.g. forecasting.\n",
      "  self._init_dates(dates, freq)\n",
      "C:\\Anaconda3\\Lib\\site-packages\\statsmodels\\tsa\\holtwinters\\model.py:917: ConvergenceWarning: Optimization failed to converge. Check mle_retvals.\n",
      "  warnings.warn(\n",
      "C:\\Anaconda3\\Lib\\site-packages\\statsmodels\\tsa\\base\\tsa_model.py:473: ValueWarning: An unsupported index was provided and will be ignored when e.g. forecasting.\n",
      "  self._init_dates(dates, freq)\n",
      "C:\\Anaconda3\\Lib\\site-packages\\statsmodels\\tsa\\holtwinters\\model.py:917: ConvergenceWarning: Optimization failed to converge. Check mle_retvals.\n",
      "  warnings.warn(\n",
      "C:\\Anaconda3\\Lib\\site-packages\\statsmodels\\tsa\\base\\tsa_model.py:473: ValueWarning: An unsupported index was provided and will be ignored when e.g. forecasting.\n",
      "  self._init_dates(dates, freq)\n",
      "C:\\Anaconda3\\Lib\\site-packages\\statsmodels\\tsa\\holtwinters\\model.py:917: ConvergenceWarning: Optimization failed to converge. Check mle_retvals.\n",
      "  warnings.warn(\n",
      "C:\\Anaconda3\\Lib\\site-packages\\statsmodels\\tsa\\base\\tsa_model.py:473: ValueWarning: An unsupported index was provided and will be ignored when e.g. forecasting.\n",
      "  self._init_dates(dates, freq)\n",
      "C:\\Anaconda3\\Lib\\site-packages\\statsmodels\\tsa\\holtwinters\\model.py:917: ConvergenceWarning: Optimization failed to converge. Check mle_retvals.\n",
      "  warnings.warn(\n",
      "C:\\Anaconda3\\Lib\\site-packages\\statsmodels\\tsa\\base\\tsa_model.py:473: ValueWarning: An unsupported index was provided and will be ignored when e.g. forecasting.\n",
      "  self._init_dates(dates, freq)\n",
      "C:\\Anaconda3\\Lib\\site-packages\\statsmodels\\tsa\\holtwinters\\model.py:917: ConvergenceWarning: Optimization failed to converge. Check mle_retvals.\n",
      "  warnings.warn(\n",
      "C:\\Anaconda3\\Lib\\site-packages\\statsmodels\\tsa\\base\\tsa_model.py:473: ValueWarning: An unsupported index was provided and will be ignored when e.g. forecasting.\n",
      "  self._init_dates(dates, freq)\n",
      "C:\\Anaconda3\\Lib\\site-packages\\statsmodels\\tsa\\holtwinters\\model.py:917: ConvergenceWarning: Optimization failed to converge. Check mle_retvals.\n",
      "  warnings.warn(\n",
      "C:\\Anaconda3\\Lib\\site-packages\\statsmodels\\tsa\\base\\tsa_model.py:473: ValueWarning: An unsupported index was provided and will be ignored when e.g. forecasting.\n",
      "  self._init_dates(dates, freq)\n",
      "C:\\Anaconda3\\Lib\\site-packages\\statsmodels\\tsa\\holtwinters\\model.py:1411: RuntimeWarning: divide by zero encountered in log\n",
      "  aic = self.nobs * np.log(sse / self.nobs) + k * 2\n",
      "C:\\Anaconda3\\Lib\\site-packages\\statsmodels\\tsa\\holtwinters\\model.py:1418: RuntimeWarning: divide by zero encountered in log\n",
      "  bic = self.nobs * np.log(sse / self.nobs) + k * np.log(self.nobs)\n",
      "C:\\Anaconda3\\Lib\\site-packages\\statsmodels\\tsa\\base\\tsa_model.py:473: ValueWarning: An unsupported index was provided and will be ignored when e.g. forecasting.\n",
      "  self._init_dates(dates, freq)\n",
      "C:\\Anaconda3\\Lib\\site-packages\\statsmodels\\tsa\\holtwinters\\model.py:1411: RuntimeWarning: divide by zero encountered in log\n",
      "  aic = self.nobs * np.log(sse / self.nobs) + k * 2\n",
      "C:\\Anaconda3\\Lib\\site-packages\\statsmodels\\tsa\\holtwinters\\model.py:1418: RuntimeWarning: divide by zero encountered in log\n",
      "  bic = self.nobs * np.log(sse / self.nobs) + k * np.log(self.nobs)\n",
      "C:\\Anaconda3\\Lib\\site-packages\\statsmodels\\tsa\\base\\tsa_model.py:473: ValueWarning: An unsupported index was provided and will be ignored when e.g. forecasting.\n",
      "  self._init_dates(dates, freq)\n",
      "C:\\Anaconda3\\Lib\\site-packages\\statsmodels\\tsa\\holtwinters\\model.py:1411: RuntimeWarning: divide by zero encountered in log\n",
      "  aic = self.nobs * np.log(sse / self.nobs) + k * 2\n",
      "C:\\Anaconda3\\Lib\\site-packages\\statsmodels\\tsa\\holtwinters\\model.py:1418: RuntimeWarning: divide by zero encountered in log\n",
      "  bic = self.nobs * np.log(sse / self.nobs) + k * np.log(self.nobs)\n"
     ]
    }
   ],
   "source": [
    "# Mapping dictionary for hvm labels\n",
    "hvm_labels = {\n",
    "    3: \"MIV\",\n",
    "    5: \"ÖPNV\",\n",
    "}\n",
    "\n",
    "# Mapping dictionary for ST_WOTAG to weekday names\n",
    "weekday_names = {\n",
    "    1: \"Monday\",\n",
    "    2: \"Tuesday\",\n",
    "    3: \"Wednesday\",\n",
    "    4: \"Thursday\",\n",
    "    5: \"Friday\",\n",
    "    6: \"Saturday\",\n",
    "    7: \"Sunday\"\n",
    "}\n",
    "# Dictionary to store DataFrames for each day\n",
    "dfs_tot_MIT_PT_nohw_hw = {}\n",
    "\n",
    "# Function to smooth and aggregate data\n",
    "def smooth_and_aggregate(group, col, periods):\n",
    "    model = ExponentialSmoothing(\n",
    "        group[col],\n",
    "        seasonal='add',\n",
    "        seasonal_periods=periods\n",
    "    )\n",
    "    fitted_model = model.fit(optimized=True)\n",
    "    group[f'HW_{col}'] = fitted_model.fittedvalues\n",
    "    aggregated_smoothed = group.groupby('W_SZ')[f'HW_{col}'].sum().reset_index()\n",
    "    aggregated_original = group.groupby('W_SZ')[col].sum().reset_index()\n",
    "    return aggregated_smoothed, aggregated_original\n",
    "\n",
    "# Group by 'ST_WOTAG' and apply the smoothing function\n",
    "for name, group in df_sea_sort.groupby('ST_WOTAG'):\n",
    "\n",
    "    # Aggregate original and smoothed 'wegkm_imp_hoch_fac' data\n",
    "    aggregated_smoothed, aggregated_group = smooth_and_aggregate(group.copy(), 'wegkm_imp_hoch_fac', periods)\n",
    "    \n",
    "    # Combine aggregated and smoothed data into one DataFrame\n",
    "    combined_df = pd.merge(aggregated_group, aggregated_smoothed, on='W_SZ')\n",
    "    \n",
    "    # Aggregate original and smoothed 'MIV' data if available\n",
    "    miv_group = group[group['hvm'] == 4].copy()  # Prevent SettingWithCopyWarning\n",
    "    if not miv_group.empty:\n",
    "        miv_smoothed, miv_original = smooth_and_aggregate(miv_group, 'wegkm_imp_hoch_fac', periods)\n",
    "        combined_df = pd.merge(combined_df, miv_original, on='W_SZ', how='left', suffixes=('', '_MIV'))\n",
    "        combined_df = pd.merge(combined_df, miv_smoothed, on='W_SZ', how='left', suffixes=('', '_MIV'))\n",
    "        \n",
    "    # Aggregate original and smoothed 'MIV' data if available\n",
    "    pt_group = group[group['hvm'] == 5].copy()  # Prevent SettingWithCopyWarning\n",
    "    if not pt_group.empty:\n",
    "        pt_smoothed, pt_original = smooth_and_aggregate(pt_group, 'wegkm_imp_hoch_fac', periods)\n",
    "        combined_df = pd.merge(combined_df, pt_original, on='W_SZ', how='left', suffixes=('', '_PT'))\n",
    "        combined_df = pd.merge(combined_df, pt_smoothed, on='W_SZ', how='left', suffixes=('', '_PT'))\n",
    "    \n",
    "    # Store the combined DataFrame in the dictionary\n",
    "    day_name = weekday_names.get(name, \"Unknown\")\n",
    "    dfs_tot_MIT_PT_nohw_hw[day_name] = combined_df"
   ],
   "metadata": {
    "collapsed": false,
    "ExecuteTime": {
     "end_time": "2025-04-04T14:57:48.527797Z",
     "start_time": "2025-04-04T14:57:46.654799Z"
    }
   },
   "id": "3b556de2f98e5ea7",
   "execution_count": 114
  },
  {
   "cell_type": "markdown",
   "metadata": {},
   "source": [
    "### Interpolation of values\n",
    "Interpolating values."
   ],
   "id": "fc5e7b7395f5f1d1"
  },
  {
   "cell_type": "code",
   "execution_count": 115,
   "metadata": {
    "ExecuteTime": {
     "end_time": "2025-04-04T14:57:48.610319Z",
     "start_time": "2025-04-04T14:57:48.530016Z"
    }
   },
   "outputs": [],
   "source": [
    "# Copying dictionary to avoid overwriting the original data\n",
    "dfs_interpolated = dfs_tot_MIT_PT_nohw_hw.copy()\n",
    "\n",
    "# Create a full time index by including missing times and reindexing, and fill missing values with NaN\n",
    "full_time_index = pd.date_range(start='1900-01-01 00:00:00', end='1900-01-01 23:00:00', freq='60T')\n",
    "for day, df in dfs_interpolated.items():\n",
    "    dfs_interpolated[day] = df.set_index('W_SZ').reindex(full_time_index)\n",
    "    \n",
    "# Interpolate missing values with method='time' in dfs_interpolated for all days\n",
    "for day, df in dfs_interpolated.items():\n",
    "    dfs_interpolated[day] = df.interpolate(method='time')\n",
    "    \n",
    "# ONLY NEEDED FOR 30 MINUTE INTERVALS: Manually calculate the missing value on Monday at 00:00:00 for MIV (idea of wrap around time interpolation) \n",
    "# dfs_interpolated['Monday'].iloc[0]['wegkm_imp_hoch_fac_HW_MIV'] = (dfs_interpolated['Monday'].iloc[1]['wegkm_imp_hoch_fac_HW_MIV'] + dfs_interpolated['Monday'].iloc[-1]['wegkm_imp_hoch_fac_HW_MIV']) / 2 \n",
    "# Manually calculate the missing value on Wednesday at 00:00:00 for PT\n",
    "# dfs_interpolated['Wednesday'].iloc[0]['wegkm_imp_hoch_fac_HW_PT'] = (dfs_interpolated['Wednesday'].iloc[1]['wegkm_imp_hoch_fac_HW_PT'] + dfs_interpolated['Wednesday'].iloc[-1]['wegkm_imp_hoch_fac_HW_PT']) / 2"
   ],
   "id": "1d74dbf454633cbf"
  },
  {
   "cell_type": "code",
   "execution_count": 116,
   "metadata": {
    "ExecuteTime": {
     "end_time": "2025-04-04T14:57:48.630404Z",
     "start_time": "2025-04-04T14:57:48.611390Z"
    }
   },
   "outputs": [],
   "source": [
    "# Copying dictionary to avoid overwriting the original data\n",
    "dfs_interpolated = dfs_tot_MIT_PT_nohw_hw.copy()\n",
    "\n",
    "# Create a full time index by including missing times and reindexing, and fill missing values with NaN\n",
    "full_time_index = pd.date_range(start='1900-01-01 00:00:00', end='1900-01-01 23:00:00', freq='60T')\n",
    "\n",
    "for day, df in dfs_interpolated.items():\n",
    "    # Reindex to include missing times\n",
    "    df = df.set_index('W_SZ').reindex(full_time_index)\n",
    "    \n",
    "    # Replace all NaN values with zero\n",
    "    df = df.fillna(0)\n",
    "    \n",
    "    # Store back to the dictionary\n",
    "    dfs_interpolated[day] = df\n",
    "\n",
    "# Interpolate missing values with method='time' in dfs_interpolated for all days\n",
    "for day, df in dfs_interpolated.items():\n",
    "    dfs_interpolated[day] = df.interpolate(method='time')\n"
   ],
   "id": "f7eea2fff6da0f68"
  },
  {
   "cell_type": "markdown",
   "metadata": {},
   "source": [
    "### Calculating daily values"
   ],
   "id": "2b2b78a96ea4e01"
  },
  {
   "cell_type": "code",
   "outputs": [],
   "source": [
    "\n",
    "# Initialize DataFrame to collect daily totals\n",
    "daily_totals = pd.DataFrame()\n",
    "\n",
    "# Calculate daily totals from dfs_interpolated\n",
    "for day, df in dfs_interpolated.items():\n",
    "    # Sum each column for the current day to get total values\n",
    "    day_total = df[['wegkm_imp_hoch_fac', 'wegkm_imp_hoch_fac_MIV', 'wegkm_imp_hoch_fac_PT']].sum().to_frame().T\n",
    "    day_total['Day'] = day  # Add day information\n",
    "    daily_totals = pd.concat([daily_totals, day_total], ignore_index=True)\n",
    "\n",
    "# Ensure 'Day' is treated as a categorical variable to control the order\n",
    "daily_totals['Day'] = pd.Categorical(daily_totals['Day'], categories=['Monday', 'Tuesday', 'Wednesday', 'Thursday', 'Friday', 'Saturday', 'Sunday'], ordered=True)\n",
    "\n",
    "# Sort by 'Day' to ensure correct plotting order\n",
    "daily_totals = daily_totals.sort_values('Day')\n"
   ],
   "metadata": {
    "collapsed": false,
    "ExecuteTime": {
     "end_time": "2025-04-04T14:57:48.650754Z",
     "start_time": "2025-04-04T14:57:48.631472Z"
    }
   },
   "id": "122e4dcac06af67f",
   "execution_count": 117
  },
  {
   "cell_type": "markdown",
   "metadata": {},
   "source": [
    "# Price Elasticity Model"
   ],
   "id": "393f6e14b49e75be"
  },
  {
   "cell_type": "markdown",
   "metadata": {},
   "source": [
    "**Formula:**\n",
    "\n",
    "$$\n",
    "C_{vd} = (FC_{vd} + OHC_{vd}) + (VC_{vkm} \\cdot vkm_{tot/d}) + (VSC_{vh} \\cdot DT_{h/d})\n",
    "$$"
   ],
   "id": "c3ff289c97162f64"
  },
  {
   "cell_type": "markdown",
   "source": [
    "### Initializing of data"
   ],
   "metadata": {
    "collapsed": false
   },
   "id": "5f3ae4463e0325a4"
  },
  {
   "cell_type": "code",
   "execution_count": 119,
   "metadata": {
    "ExecuteTime": {
     "end_time": "2025-04-04T14:57:48.752148Z",
     "start_time": "2025-04-04T14:57:48.655914Z"
    }
   },
   "outputs": [],
   "source": [
    "# Load parameter data from Excel\n",
    "params_df = pd.read_excel(VehicleDatapath, sheet_name='BaseValuesSeattle', index_col='Parameter')\n",
    "\n",
    "# Load the exchange rate from the \"BerlinExchangeRate\" sheet\n",
    "# Try loading with header=None if unsure about the format\n",
    "exchange_rate_df = pd.read_excel(VehicleDatapath, sheet_name='BerlinExchangeRate', header=None)\n",
    "#print(exchange_rate_df)  # This will help us understand the data structure\n",
    "exchange_rate = exchange_rate_df.iloc[1, 0]\n",
    "\n",
    "# Convert DataFrame to a dictionary for base values\n",
    "pricing_values = params_df['Base Value'].to_dict()\n",
    "\n",
    "# Extract individual values from the dictionary\n",
    "r = pricing_values['r']       # Profit Margin (3%) (gleich wie aus der vorherigen Zelle)\n",
    "p = pricing_values['p']       # Transaction fee (0.44%) (gleich wie aus der vorherigen Zelle)\n",
    "VAT = pricing_values['VAT']   # VAT (19%) (Deutschland)\n",
    "C_conv_priv = pricing_values['C_conv_priv'] #* exchange_rate\n",
    "C_conv_bus = pricing_values['C_conv_bus'] #* exchange_rate\n",
    "C_AE_ind_taxi = pricing_values['C_AE_ind_taxi'] #* exchange_rate\n",
    "C_AE_pool_taxi = pricing_values['C_AE_pool_taxi'] #* exchange_rate\n",
    "\n",
    "P_conv_priv = (C_conv_priv / ((1 - r) * (1 - p)))  * (1 + VAT)\n",
    "P_conv_bus = (C_conv_bus / ((1 - r) * (1 - p)))  * (1 + VAT)\n",
    "P_AE_ind_taxi = (C_AE_ind_taxi / ((1 - r) * (1 - p)))  * (1 + VAT)\n",
    "P_AE_pool_taxi= (C_AE_pool_taxi / ((1 - r) * (1 - p)))  * (1 + VAT)\n",
    "\n"
   ],
   "id": "b1e67d1ed120f2a9"
  },
  {
   "cell_type": "code",
   "execution_count": 120,
   "metadata": {
    "ExecuteTime": {
     "end_time": "2025-04-04T14:57:48.761228Z",
     "start_time": "2025-04-04T14:57:48.754500Z"
    }
   },
   "outputs": [],
   "source": [
    "# Calculate the blocks for the waterfall\n",
    "additional_block = 0\n",
    "first_block = P_conv_priv - P_AE_ind_taxi\n",
    "\n",
    "second_block = (P_AE_ind_taxi-(P_AE_ind_taxi - 0.01))\n",
    "third_block = (P_AE_ind_taxi - 0.01) - P_AE_pool_taxi\n",
    "fourth_block = P_AE_pool_taxi\n",
    "\n",
    "# Define the initial total value and the blocks\n",
    "total_value = P_conv_priv\n",
    "blocks = [additional_block, first_block , second_block, third_block, fourth_block]\n",
    "\n",
    "# Calculate the cumulative values to create a falling waterfall\n",
    "cumulative = [total_value]\n",
    "for block in blocks:\n",
    "    cumulative.append(cumulative[-1] - block)\n",
    "\n"
   ],
   "id": "e4155f575f49ba77"
  },
  {
   "cell_type": "code",
   "execution_count": 121,
   "metadata": {
    "ExecuteTime": {
     "end_time": "2025-04-04T14:57:48.766743Z",
     "start_time": "2025-04-04T14:57:48.762489Z"
    }
   },
   "outputs": [],
   "source": [
    "# Price elasticities taken from literature -> khanna2023 (fuel price elasticity)\n",
    "e_MIV = float(- 0.435)"
   ],
   "id": "fcdb4d75b7b68342"
  },
  {
   "cell_type": "code",
   "execution_count": 122,
   "metadata": {
    "ExecuteTime": {
     "end_time": "2025-04-04T14:57:48.780872Z",
     "start_time": "2025-04-04T14:57:48.772124Z"
    }
   },
   "outputs": [],
   "source": [
    "# Set 'W_SZ' as index for all DataFrames in the dictionary dfs_tot_MIT_PT_nohw_hw\n",
    "for day, df in dfs_tot_MIT_PT_nohw_hw.items():\n",
    "    dfs_tot_MIT_PT_nohw_hw[day] = df.set_index('W_SZ')"
   ],
   "id": "9fe17b3742788c80"
  },
  {
   "cell_type": "markdown",
   "metadata": {},
   "source": [
    "### Assumptions for the calculation of SAEV demand\n",
    "1. Total travel demand is inelastic and remains constant\n",
    "2. The difference between D_MIT_AE_S and D_MIT is the additional demand for SAEVs for which we calculate the energy consumption\n",
    "\n"
   ],
   "id": "59dc3db109aefb19"
  },
  {
   "cell_type": "markdown",
   "metadata": {},
   "source": [
    "**Formula:**\n",
    "\n",
    "$$\n",
    "D_{\\text{individual, AEV, t=2}} = \\epsilon_{\\text{individual}} \\cdot D_{\\text{individual, t=1}} \\cdot \\Delta P_{\\text{individual, AEV, t=2}} + D_{\\text{individual, t=1}}\n",
    "$$"
   ],
   "id": "b72daa7d25ea1abb"
  },
  {
   "cell_type": "markdown",
   "metadata": {},
   "source": [
    "## Scenario 1"
   ],
   "id": "a9f6559fd0b6b211"
  },
  {
   "cell_type": "code",
   "execution_count": 123,
   "metadata": {
    "ExecuteTime": {
     "end_time": "2025-04-04T14:57:48.826703Z",
     "start_time": "2025-04-04T14:57:48.782002Z"
    }
   },
   "outputs": [],
   "source": [
    "# Function to calculate D_MIV_neu, D_OPNV_neu, and D_MIV_AE_S based on conditions\n",
    "def calculate_values_scenario1(row):  \n",
    "    # Preiselastizität (-) * wegkm * Preisunterschied pro km (-) + wegkm (Berechnung zusätzliche wegkm durch geringeren Preis)\n",
    "    d_miv_ae = e_MIV * row['wegkm_imp_hoch_fac_MIV'] * (P_AE_ind_taxi - P_conv_priv) + row['wegkm_imp_hoch_fac_MIV'] # Demand MIV autonomous electric\n",
    "       \n",
    "    # Preiselastizität (-) * wegkm * Preisunterschied pro km (-) + wegkm (Berechnung zusätzliche wegkm durch geringeren Preis)\n",
    "    d_miv_ae_s = e_MIV * d_miv_ae * (P_AE_pool_taxi - P_AE_ind_taxi) + d_miv_ae # Demand MIV autonomous electric shared\n",
    "    return pd.Series([d_miv_ae, d_miv_ae_s])\n",
    "\n",
    "import copy\n",
    "\n",
    "# Create a deep copy of the original dictionary\n",
    "dfs_tot_MIT_PT_nohw_hw_scenario1 = copy.deepcopy(dfs_interpolated)\n",
    "\n",
    "# Apply the function to each DataFrame in the dictionary\n",
    "for day, df in dfs_tot_MIT_PT_nohw_hw_scenario1.items():\n",
    "    df[['d_miv_ae',  'd_miv_ae_s']] = df.apply(calculate_values_scenario1, axis=1)\n",
    "    \n"
   ],
   "id": "bbbf58243e964dfc"
  },
  {
   "cell_type": "markdown",
   "metadata": {},
   "source": [
    "## Scenario 2 / 3"
   ],
   "id": "e2ea5646a8b01403"
  },
  {
   "cell_type": "code",
   "execution_count": 124,
   "metadata": {
    "ExecuteTime": {
     "end_time": "2025-04-04T14:57:48.880160Z",
     "start_time": "2025-04-04T14:57:48.827807Z"
    }
   },
   "outputs": [],
   "source": [
    "\n",
    "# Function to calculate D_MIV_neu, D_OPNV_neu, and D_MIV_AE_S based on conditions\n",
    "def calculate_values(row):\n",
    "    if row['wegkm_imp_hoch_fac_MIV'] < row['wegkm_imp_hoch_fac']: # if MIV wegkm is less than all wegkm\n",
    "        # Preiselastizität (-) * wegkm * Preisunterschied pro km (-) + wegkm (Berechnung zusätzliche wegkm durch geringeren Preis)\n",
    "        d_miv_ae = e_MIV * row['wegkm_imp_hoch_fac_MIV'] * (P_AE_ind_taxi - P_conv_priv) + row['wegkm_imp_hoch_fac_MIV'] # Demand MIV autonomous electric\n",
    "        # Annahme: Gesamtnachfrage bleibt gleich. Zusätzliche Nachfrage durch geringeren Preis bei d_miv_ae wird von ÖPNV abgezogen\n",
    "        d_opnv_ae = row['wegkm_imp_hoch_fac'] - d_miv_ae # Demand public transport autonomous electric\n",
    "        # Preiselastizität (-) * wegkm * Preisunterschied pro km (-) + wegkm (Berechnung zusätzliche wegkm durch geringeren Preis)\n",
    "        d_miv_ae_s = e_MIV * d_miv_ae * (P_AE_pool_taxi - P_AE_ind_taxi) + d_miv_ae # Demand MIV autonomous electric shared\n",
    "        # Annahme: Gesamtnachfrage bleibt gleich. Zusätzliche Nachfrage durch geringeren Preis bei d_miv_ae wird von ÖPNV abgezogen\n",
    "        d_opnv_ae_s = row['wegkm_imp_hoch_fac'] - d_miv_ae_s # Demand public transport autonomous electric shared\n",
    "\n",
    "        # Ensure sum conditions\n",
    "        if d_miv_ae + d_opnv_ae >= row['wegkm_imp_hoch_fac']:\n",
    "            excess = (d_miv_ae + d_opnv_ae) - row['wegkm_imp_hoch_fac']\n",
    "            d_opnv_ae -= excess\n",
    "\n",
    "        if d_miv_ae_s + d_opnv_ae_s >= row['wegkm_imp_hoch_fac']:\n",
    "            excess = (d_miv_ae_s + d_opnv_ae_s) - row['wegkm_imp_hoch_fac']\n",
    "            d_opnv_ae_s -= excess\n",
    "            \n",
    "        if d_miv_ae > row['wegkm_imp_hoch_fac']:\n",
    "            d_miv_ae = row['wegkm_imp_hoch_fac']\n",
    "            d_opnv_ae = d_miv_ae - d_miv_ae\n",
    "            \n",
    "        if d_miv_ae_s > row['wegkm_imp_hoch_fac']:\n",
    "            d_miv_ae_s = row['wegkm_imp_hoch_fac']\n",
    "            d_opnv_ae_s = d_miv_ae_s - d_miv_ae_s\n",
    "\n",
    "    else:\n",
    "        d_miv_ae = row['wegkm_imp_hoch_fac_MIV']  # or any default value you want\n",
    "        d_opnv_ae = 0  # or any default value you want\n",
    "        d_opnv_ae_s = 0\n",
    "        d_miv_ae_s = d_miv_ae  # or any default value you want\n",
    "\n",
    "    return pd.Series([d_miv_ae, d_opnv_ae, d_miv_ae_s, d_opnv_ae_s])\n",
    "\n",
    "# Apply the function to each DataFrame in the dictionary\n",
    "for day, df in dfs_interpolated.items():\n",
    "    df[['d_miv_ae', 'd_opnv_ae', 'd_miv_ae_s', 'd_opnv_ae_s']] = df.apply(calculate_values, axis=1)\n",
    "\n"
   ],
   "id": "f91491bab810cd74"
  },
  {
   "cell_type": "markdown",
   "metadata": {},
   "source": [
    "### Calculating SAEV wegkm"
   ],
   "id": "7390240d9c4f2163"
  },
  {
   "cell_type": "markdown",
   "metadata": {},
   "source": [
    " Upper boundary / Scenario 1: Assuming total travel demand is elastic and MIT demand and PT demand is inelastic (we add additional SAEV on top)\n",
    " Lower boundary / Scenario 2: Assuming total travel demand and MIT demand is inelastic and PT demand is elastic (only PT travellers switch to SAEV)\n",
    " Lower boundary / Scenario 3: Assuming total travel demand and PT is inelastic and MIT demand is elastic (only MIT travellers switch to SAEV)"
   ],
   "id": "17577bae86a738fc"
  },
  {
   "cell_type": "code",
   "execution_count": 125,
   "metadata": {
    "ExecuteTime": {
     "end_time": "2025-04-04T14:57:48.894057Z",
     "start_time": "2025-04-04T14:57:48.881184Z"
    }
   },
   "outputs": [],
   "source": [
    "# Calculate a new column for all dfs in the dictionary that is called wegkm_saev and calculated by d_miv_ae_s - wegkm_imp_hoch_fac_MIV\n",
    "for day, df in dfs_tot_MIT_PT_nohw_hw_scenario1.items():\n",
    "    df['wegkm_saev'] = df['d_miv_ae_s'] - df['wegkm_imp_hoch_fac_MIV']\n",
    "    \n",
    "# Calculate a new column for all dfs in the dictionary that is called wegkm_saev and calculated by d_miv_ae_s - wegkm_imp_hoch_fac_MIV\n",
    "for day, df in dfs_interpolated.items():\n",
    "    df['wegkm_saev'] = df['d_miv_ae_s'] - df['wegkm_imp_hoch_fac_MIV']"
   ],
   "id": "bfd37f187dccf845"
  },
  {
   "cell_type": "markdown",
   "metadata": {},
   "source": [
    "## Scenario 1"
   ],
   "id": "dfb74899a3fc3a58"
  },
  {
   "cell_type": "code",
   "execution_count": 126,
   "metadata": {
    "ExecuteTime": {
     "end_time": "2025-04-04T14:57:48.919833Z",
     "start_time": "2025-04-04T14:57:48.895236Z"
    }
   },
   "outputs": [],
   "source": [
    "# Group dfs_tot_MIT_PT_nohw_hw_scenario1 by 'wegkm_imp_hoch_fac', 'wegkm_imp_hoch_fac_MIV', wegkm_imp_hoch_fac_PT, and 'wegkm_saev' by 'ST_WOTAG' and save in a new df\n",
    "# Initialize an empty DataFrame to collect the results\n",
    "total_wegkm_day_SAEV = pd.DataFrame()\n",
    "\n",
    "# Iterate over the dictionary of DataFrames\n",
    "for day, df in dfs_tot_MIT_PT_nohw_hw_scenario1.items():\n",
    "    # Sum the specified columns for each day DataFrame\n",
    "    day_sum = df[['wegkm_imp_hoch_fac', 'wegkm_imp_hoch_fac_MIV', 'wegkm_imp_hoch_fac_PT', 'wegkm_saev']].sum().to_frame().T\n",
    "    \n",
    "    # Add the day information (could be an index or a column as needed)\n",
    "    day_sum['day'] = day\n",
    "    \n",
    "    # Append the summed DataFrame to the results\n",
    "    total_wegkm_day_SAEV = pd.concat([total_wegkm_day_SAEV, day_sum], ignore_index=True)\n",
    "    \n",
    "# Calculate the total sum of the other columns (excluding 'wegkm_saev')\n",
    "total_wegkm_day_SAEV['total_wegkm'] = total_wegkm_day_SAEV[['wegkm_imp_hoch_fac_MIV', 'wegkm_imp_hoch_fac_PT']].sum(axis=1)\n",
    "\n",
    "# Calculate the ratio d_saev/d_tot\n",
    "total_wegkm_day_SAEV['d_saev/d_tot'] = total_wegkm_day_SAEV['wegkm_saev'] / (total_wegkm_day_SAEV['wegkm_saev'] + total_wegkm_day_SAEV['total_wegkm'])\n",
    "# Save only the data that was plotted in a new DataFrame called total_wegkm_day_Scenario3 and rename the column in the same line\n",
    "total_wegkm_day_Scenario1 = total_wegkm_day_SAEV[['day', 'wegkm_imp_hoch_fac_MIV', 'wegkm_imp_hoch_fac_PT', 'wegkm_saev', 'd_saev/d_tot']].rename(columns={'wegkm_imp_hoch_fac_MIV': 'd_mit_ae_s', 'wegkm_imp_hoch_fac_PT': 'd_opnv_ae_s'}).copy()\n",
    "\n"
   ],
   "id": "118a9a3fdb0e4710"
  },
  {
   "cell_type": "code",
   "execution_count": 127,
   "metadata": {
    "ExecuteTime": {
     "end_time": "2025-04-04T14:57:49.233983Z",
     "start_time": "2025-04-04T14:57:48.920985Z"
    }
   },
   "outputs": [
    {
     "data": {
      "text/plain": "<Figure size 800x400 with 1 Axes>",
      "image/png": "[encoded data removed]"
     },
     "metadata": {},
     "output_type": "display_data"
    }
   ],
   "source": [
    "custom_colors = ['#fba72f', '#f7251c', '#49fdfe']\n",
    "\n",
    "# Plot the data using pandas plot with stacked bars\n",
    "ax = total_wegkm_day_SAEV.plot(x='day', y=['wegkm_imp_hoch_fac_MIV', 'wegkm_imp_hoch_fac_PT', 'wegkm_saev'], kind='bar', stacked=True, figsize=(8, 4), rot=0, color=custom_colors)\n",
    "\n",
    "# Set title and labels\n",
    "ax.set_xlabel('Day')\n",
    "ax.set_ylabel('Total Travel Demand per Day (km)')\n",
    "ax.set_title('Scenario 1: Total Travel Demand per Representative Weekday in Seattle')\n",
    "\n",
    "# Customize the legend with new labels\n",
    "handles, labels = ax.get_legend_handles_labels()\n",
    "labels = ['D_MIT', 'D_PT', 'D_SAEV']\n",
    "ax.legend(handles[::-1], labels[::-1], title='Type', bbox_to_anchor=(1, 1.02), loc='upper left')\n",
    "\n",
    "# The last container corresponds to 'wegkm_saev'\n",
    "container = ax.containers[-1]\n",
    "labels = [f'{(v*100):.1f}%' if v != 0 else '' for v in total_wegkm_day_SAEV['d_saev/d_tot']]\n",
    "ax.bar_label(container, labels=labels, label_type='center')\n",
    "\n",
    "# Apply the custom formatter to the y-axis\n",
    "ax.yaxis.set_major_formatter(FuncFormatter(millions))\n",
    "\n",
    "\n",
    "# Show the plot\n",
    "plt.tight_layout()\n",
    "plt.show()"
   ],
   "id": "a698ae36eefae4bd"
  },
  {
   "cell_type": "markdown",
   "metadata": {},
   "source": [
    "## Scenario 2"
   ],
   "id": "e7feb6d9f43b572c"
  },
  {
   "cell_type": "code",
   "execution_count": 128,
   "metadata": {
    "ExecuteTime": {
     "end_time": "2025-04-04T14:57:49.258332Z",
     "start_time": "2025-04-04T14:57:49.235048Z"
    }
   },
   "outputs": [],
   "source": [
    "# Group dfs_tot_MIT_PT_nohw_hw by 'wegkm_imp_hoch_fac', 'wegkm_imp_hoch_fac_MIV', d_opnv_ae_s, and 'wegkm_saev' by 'ST_WOTAG' and save in a new df\n",
    "# Initialize an empty DataFrame to collect the results\n",
    "total_wegkm_day_SAEV = pd.DataFrame()\n",
    "\n",
    "# Iterate over the dictionary of DataFrames\n",
    "for day, df in dfs_interpolated.items():\n",
    "    # Sum the specified columns for each day DataFrame\n",
    "    day_sum = df[['wegkm_imp_hoch_fac', 'wegkm_imp_hoch_fac_MIV', 'd_opnv_ae_s', 'wegkm_saev']].sum().to_frame().T\n",
    "    \n",
    "    # Add the day information (could be an index or a column as needed)\n",
    "    day_sum['day'] = day\n",
    "    \n",
    "    # Append the summed DataFrame to the results\n",
    "    total_wegkm_day_SAEV = pd.concat([total_wegkm_day_SAEV, day_sum], ignore_index=True)\n",
    "    \n",
    "total_wegkm_day_SAEV['d_saev/d_miv'] = total_wegkm_day_SAEV['wegkm_saev'] / total_wegkm_day_SAEV['wegkm_imp_hoch_fac_MIV']\n",
    "total_wegkm_day_SAEV['d_saev/d_tot'] = total_wegkm_day_SAEV['wegkm_saev'] / total_wegkm_day_SAEV['wegkm_imp_hoch_fac']\n",
    "\n",
    "# Save only the data that was plotted in a new DataFrame called total_wegkm_day_Scenario2 and rename the column in the same line\n",
    "total_wegkm_day_Scenario2 = total_wegkm_day_SAEV[['day', 'wegkm_imp_hoch_fac_MIV', 'd_opnv_ae_s', 'wegkm_saev', 'd_saev/d_tot']].rename(columns={'wegkm_imp_hoch_fac_MIV': 'd_mit_ae_s'}).copy()\n",
    "\n"
   ],
   "id": "d4e217655c384edf"
  },
  {
   "cell_type": "code",
   "execution_count": 129,
   "metadata": {
    "ExecuteTime": {
     "end_time": "2025-04-04T14:57:49.655860Z",
     "start_time": "2025-04-04T14:57:49.259397Z"
    }
   },
   "outputs": [
    {
     "data": {
      "text/plain": "<Figure size 800x400 with 1 Axes>",
      "image/png": "[encoded data removed]"
     },
     "metadata": {},
     "output_type": "display_data"
    }
   ],
   "source": [
    "custom_colors = ['#fba72f', '#f7251c', '#49fdfe']\n",
    "\n",
    "# Plot the data using pandas plot with stacked bars\n",
    "ax = total_wegkm_day_SAEV.plot(x='day', y=['wegkm_imp_hoch_fac_MIV', 'd_opnv_ae_s', 'wegkm_saev'], kind='bar', stacked=True, figsize=(8, 4), rot=0, color=custom_colors)\n",
    "\n",
    "# Set title and labels\n",
    "ax.set_xlabel('Day')\n",
    "ax.set_ylabel('Total Travel Demand per Day (km)')\n",
    "ax.set_title('Scenario 2: Total Travel Demand per Representative Weekday in Seattle')\n",
    "\n",
    "# Customize the legend with new labels\n",
    "handles, labels = ax.get_legend_handles_labels()\n",
    "labels = ['D_MIT', 'D_PT', 'D_SAEV']\n",
    "ax.legend(handles[::-1], labels[::-1], title='Type', bbox_to_anchor=(1, 1.02), loc='upper left')\n",
    "\n",
    "# The last container corresponds to 'wegkm_saev'\n",
    "container = ax.containers[-1]\n",
    "labels = [f'{(v*100):.1f}%' if v != 0 else '' for v in total_wegkm_day_SAEV['d_saev/d_tot']]\n",
    "ax.bar_label(container, labels=labels, label_type='center')\n",
    "\n",
    "# Apply the custom formatter to the y-axis\n",
    "ax.yaxis.set_major_formatter(FuncFormatter(millions))\n",
    "\n",
    "# Show the plot\n",
    "plt.tight_layout()\n",
    "plt.show()"
   ],
   "id": "d50ad1c10f268f54"
  },
  {
   "cell_type": "code",
   "execution_count": 130,
   "metadata": {
    "ExecuteTime": {
     "end_time": "2025-04-04T14:57:49.666627Z",
     "start_time": "2025-04-04T14:57:49.657006Z"
    }
   },
   "outputs": [],
   "source": [
    "# Initialize an empty DataFrame to store the cumulative sum across all days\n",
    "week_sum_df = pd.DataFrame()\n",
    "\n",
    "# Iterate over the dictionary of DataFrames\n",
    "for day, df in dfs_interpolated.items():\n",
    "    if week_sum_df.empty:\n",
    "        # If week_sum_df is empty, initialize it with the current DataFrame\n",
    "        week_sum_df = df.copy()\n",
    "    else:\n",
    "        # Add the current day's DataFrame to the cumulative sum DataFrame\n",
    "        week_sum_df = week_sum_df.add(df, fill_value=0)\n",
    "\n",
    "\n",
    "\n",
    "# Sum each column\n",
    "week_column_sum_df = week_sum_df.sum(axis=0).to_frame().T\n",
    "\n"
   ],
   "id": "8136631310de1653"
  },
  {
   "cell_type": "markdown",
   "source": [
    "## Scenario 3"
   ],
   "metadata": {},
   "id": "28dc9476c8bfb3fe"
  },
  {
   "cell_type": "code",
   "outputs": [],
   "source": [
    "# Calculate a new column for all dfs in the dictionary that is called wegkm_saev and calculated by d_miv_ae_s - wegkm_imp_hoch_fac_MIV\n",
    "for day, df in dfs_interpolated.items():\n",
    "    df['wegkm_saev'] = df['d_miv_ae_s'] - df['wegkm_imp_hoch_fac_MIV']\n",
    "    df['d_mit_ae_s'] =  df['wegkm_imp_hoch_fac_MIV'] - df['wegkm_saev']\n",
    "    "
   ],
   "metadata": {
    "ExecuteTime": {
     "end_time": "2025-04-04T14:57:49.676588Z",
     "start_time": "2025-04-04T14:57:49.667755Z"
    }
   },
   "id": "79ce6316c615712b",
   "execution_count": 131
  },
  {
   "cell_type": "code",
   "outputs": [],
   "source": [
    "# Group dfs_tot_MIT_PT_nohw_hw by 'wegkm_imp_hoch_fac', 'wegkm_imp_hoch_fac_MIV', d_opnv_ae_s, and 'wegkm_saev' by 'ST_WOTAG' and save in a new df\n",
    "# Initialize an empty DataFrame to collect the results\n",
    "total_wegkm_day_SAEV = pd.DataFrame()\n",
    "\n",
    "# Iterate over the dictionary of DataFrames\n",
    "for day, df in dfs_interpolated.items():\n",
    "    # Sum the specified columns for each day DataFrame\n",
    "    day_sum = df[['wegkm_imp_hoch_fac', 'd_mit_ae_s', 'wegkm_imp_hoch_fac_PT', 'wegkm_saev']].sum().to_frame().T\n",
    "    \n",
    "    # Add the day information (could be an index or a column as needed)\n",
    "    day_sum['day'] = day\n",
    "    \n",
    "    # Append the summed DataFrame to the results\n",
    "    total_wegkm_day_SAEV = pd.concat([total_wegkm_day_SAEV, day_sum], ignore_index=True)\n",
    "    \n",
    "#total_wegkm_day_SAEV['d_saev/d_miv'] = total_wegkm_day_SAEV['wegkm_saev'] / total_wegkm_day_SAEV['wegkm_imp_hoch_fac_MIV']\n",
    "total_wegkm_day_SAEV['d_saev/d_tot'] = total_wegkm_day_SAEV['wegkm_saev'] / total_wegkm_day_SAEV['wegkm_imp_hoch_fac']\n",
    "\n",
    "# Save only the data that was plotted in a new DataFrame called total_wegkm_day_Scenario3 and rename the column in the same line\n",
    "total_wegkm_day_Scenario3 = total_wegkm_day_SAEV[['day', 'd_mit_ae_s', 'wegkm_imp_hoch_fac_PT', 'wegkm_saev', 'd_saev/d_tot']].rename(columns={'wegkm_imp_hoch_fac_PT': 'd_opnv_ae_s'}).copy()\n",
    "\n"
   ],
   "metadata": {
    "ExecuteTime": {
     "end_time": "2025-04-04T14:57:49.701386Z",
     "start_time": "2025-04-04T14:57:49.677743Z"
    }
   },
   "id": "573425848b7c7a9e",
   "execution_count": 132
  },
  {
   "cell_type": "code",
   "outputs": [
    {
     "data": {
      "text/plain": "<Figure size 800x400 with 1 Axes>",
      "image/png": "[encoded data removed]"
     },
     "metadata": {},
     "output_type": "display_data"
    }
   ],
   "source": [
    "custom_colors = ['#fba72f', '#f7251c', '#49fdfe']\n",
    "\n",
    "# Plot the data using pandas plot with stacked bars\n",
    "ax = total_wegkm_day_SAEV.plot(x='day', y=['d_mit_ae_s', 'wegkm_imp_hoch_fac_PT', 'wegkm_saev'], kind='bar', stacked=True, figsize=(8, 4), rot=0, color=custom_colors)\n",
    "\n",
    "# Set title and labels\n",
    "ax.set_xlabel('Day')\n",
    "ax.set_ylabel('Total Travel Demand per Day (km)')\n",
    "ax.set_title('Scenario 3: Total Travel Demand per Representative Weekday in Seattle')\n",
    "\n",
    "# Customize the legend with new labels\n",
    "handles, labels = ax.get_legend_handles_labels()\n",
    "labels = ['D_MIT', 'D_PT', 'D_SAEV']\n",
    "ax.legend(handles[::-1], labels[::-1], title='Type', bbox_to_anchor=(1, 1.02), loc='upper left')\n",
    "\n",
    "# The last container corresponds to 'wegkm_saev'\n",
    "container = ax.containers[-1]\n",
    "labels = [f'{(v*100):.1f}%' if v != 0 else '' for v in total_wegkm_day_SAEV['d_saev/d_tot']]\n",
    "ax.bar_label(container, labels=labels, label_type='center')\n",
    "\n",
    "# Apply the custom formatter to the y-axis\n",
    "ax.yaxis.set_major_formatter(FuncFormatter(millions))\n",
    "\n",
    "\n",
    "# Show the plot\n",
    "plt.tight_layout()\n",
    "plt.show()"
   ],
   "metadata": {
    "collapsed": false,
    "ExecuteTime": {
     "end_time": "2025-04-04T14:57:50.043885Z",
     "start_time": "2025-04-04T14:57:49.703476Z"
    }
   },
   "id": "6ec0d7950a8f7475",
   "execution_count": 133
  },
  {
   "cell_type": "code",
   "execution_count": 134,
   "metadata": {
    "ExecuteTime": {
     "end_time": "2025-04-04T14:57:50.625874Z",
     "start_time": "2025-04-04T14:57:50.044994Z"
    }
   },
   "outputs": [
    {
     "data": {
      "text/plain": "<Figure size 1200x600 with 1 Axes>",
      "image/png": "[encoded data removed]"
     },
     "metadata": {},
     "output_type": "display_data"
    }
   ],
   "source": [
    "# Custom colors for the types\n",
    "custom_colors = ['#fba72f', '#f7251c', '#49fdfe']  # Colors for D_MIT, D_PT, D_SAEV\n",
    "\n",
    "# Assuming you have the data in DataFrames\n",
    "# total_wegkm_day_Scenario1, total_wegkm_day_Scenario2, total_wegkm_day_Scenario3\n",
    "\n",
    "# Add a 'Scenario' column to each DataFrame to distinguish between the scenarios\n",
    "total_wegkm_day_Scenario1['Scenario'] = 'Scenario 1'\n",
    "total_wegkm_day_Scenario2['Scenario'] = 'Scenario 2'\n",
    "total_wegkm_day_Scenario3['Scenario'] = 'Scenario 3'\n",
    "\n",
    "# Combine the DataFrames\n",
    "combined_df = pd.concat([total_wegkm_day_Scenario1, total_wegkm_day_Scenario2, total_wegkm_day_Scenario3])\n",
    "\n",
    "# Ensure 'day' is treated as a categorical variable to control the order\n",
    "combined_df['day'] = pd.Categorical(combined_df['day'], categories=['Monday', 'Tuesday', 'Wednesday', 'Thursday', 'Friday', 'Saturday', 'Sunday'], ordered=True)\n",
    "\n",
    "# Sort by 'day' and 'Scenario' to ensure correct plotting order\n",
    "combined_df = combined_df.sort_values(['day', 'Scenario'])\n",
    "\n",
    "# Create a pivot table for plotting\n",
    "pivot_df = combined_df.pivot_table(index='day', columns='Scenario', values=['d_mit_ae_s', 'd_opnv_ae_s', 'wegkm_saev', 'd_saev/d_tot'])\n",
    "\n",
    "# Set up the plot\n",
    "fig, ax = plt.subplots(figsize=(12, 6))\n",
    "\n",
    "# Set the width of each bar\n",
    "bar_width = 0.2\n",
    "\n",
    "# Set the positions of the bars on the x-axis\n",
    "positions = np.arange(len(pivot_df))\n",
    "\n",
    "# Plot the data for each scenario\n",
    "for i, scenario in enumerate(pivot_df.columns.levels[1]):\n",
    "    scenario_data = pivot_df.xs(scenario, level='Scenario', axis=1)\n",
    "    bars_mit = ax.bar(positions + i * bar_width, scenario_data['d_mit_ae_s'], bar_width, label=f'Scenario {i+1}', color=custom_colors[0])\n",
    "    bars_opnv = ax.bar(positions + i * bar_width, scenario_data['d_opnv_ae_s'], bar_width, bottom=scenario_data['d_mit_ae_s'], color=custom_colors[1])\n",
    "    bars_saev = ax.bar(positions + i * bar_width, scenario_data['wegkm_saev'], bar_width, bottom=scenario_data['d_mit_ae_s'] + scenario_data['d_opnv_ae_s'], color=custom_colors[2])\n",
    "\n",
    "    # Add labels below the bars indicating the scenario\n",
    "    for bar in bars_saev:\n",
    "        ax.text(\n",
    "            bar.get_x() + bar.get_width() / 2, \n",
    "            -0.2,  # Adjust this value for positioning below the x-axis\n",
    "            f'Scenario {i+1}', \n",
    "            ha='center', \n",
    "            va='top', \n",
    "            fontsize=8, \n",
    "            rotation = 90,\n",
    "            color='black', \n",
    "            transform=ax.get_xaxis_transform()  # Ensures the text is positioned relative to the x-axis\n",
    "        )\n",
    "\n",
    "# Add percentage labels for 'wegkm_saev' for each scenario explicitly\n",
    "# Scenario 1\n",
    "container_scenario_1 = ax.containers[2]  # The container for Scenario 1 'wegkm_saev' bars\n",
    "labels_scenario_1 = [f'{(v * 100):.1f}%' if v != 0 else '' for v in pivot_df[('d_saev/d_tot', 'Scenario 1')]]\n",
    "ax.bar_label(container_scenario_1, labels=labels_scenario_1, label_type='center')\n",
    "\n",
    "# Scenario 2\n",
    "container_scenario_2 = ax.containers[5]  # The container for Scenario 2 'wegkm_saev' bars\n",
    "labels_scenario_2 = [f'{(v * 100):.1f}%' if v != 0 else '' for v in pivot_df[('d_saev/d_tot', 'Scenario 2')]]\n",
    "ax.bar_label(container_scenario_2, labels=labels_scenario_2, label_type='center')\n",
    "\n",
    "# Scenario 3\n",
    "container_scenario_3 = ax.containers[8]  # The container for Scenario 3 'wegkm_saev' bars\n",
    "labels_scenario_3 = [f'{(v * 100):.1f}%' if v != 0 else '' for v in pivot_df[('d_saev/d_tot', 'Scenario 3')]]\n",
    "ax.bar_label(container_scenario_3, labels=labels_scenario_3, label_type='center')\n",
    "\n",
    "# Set x-axis labels\n",
    "ax.set_xticks(positions + bar_width)\n",
    "ax.set_xticklabels(pivot_df.index)\n",
    "\n",
    "# Set title and labels\n",
    "ax.set_xlabel('Day')\n",
    "ax.set_ylabel('Total Travel Demand per Day (km)')\n",
    "ax.set_title('Total Travel Demand per Representative Weekday in Seattle Across Scenarios')\n",
    "\n",
    "# Customize the legend with new labels\n",
    "handles, labels = ax.get_legend_handles_labels()\n",
    "labels = ['D_SAEV', 'D_PT', 'D_MIT']\n",
    "ax.legend(handles[::-1], labels[::-1], title='Type', bbox_to_anchor=(1, 1.02), loc='upper left')\n",
    "\n",
    "# Apply the custom formatter to the y-axis\n",
    "ax.yaxis.set_major_formatter(FuncFormatter(lambda x, _: f'{x/1e6:.1f}M'))\n",
    "\n",
    "# Apply tight layout\n",
    "plt.tight_layout()\n",
    "\n",
    "# Show the plot\n",
    "plt.show()"
   ],
   "id": "aa073a6d1cc092bd"
  },
  {
   "cell_type": "code",
   "outputs": [
    {
     "data": {
      "text/plain": "<Figure size 1000x600 with 1 Axes>",
      "image/png": "[encoded data removed]"
     },
     "metadata": {},
     "output_type": "display_data"
    }
   ],
   "source": [
    "# Compute total travel demand per week for each mode across all scenarios\n",
    "total_demand_week = pd.DataFrame({\n",
    "    'MT': [pivot_df[('d_mit_ae_s', 'Scenario 1')].sum(), pivot_df[('d_mit_ae_s', 'Scenario 2')].sum(), pivot_df[('d_mit_ae_s', 'Scenario 3')].sum()],\n",
    "    'PT': [pivot_df[('d_opnv_ae_s', 'Scenario 1')].sum(), pivot_df[('d_opnv_ae_s', 'Scenario 2')].sum(), pivot_df[('d_opnv_ae_s', 'Scenario 3')].sum()],\n",
    "    'SAEV': [pivot_df[('wegkm_saev', 'Scenario 1')].sum(), pivot_df[('wegkm_saev', 'Scenario 2')].sum(), pivot_df[('wegkm_saev', 'Scenario 3')].sum()]\n",
    "}, index=['Scenario 1', 'Scenario 2', 'Scenario 3'])\n",
    "\n",
    "# Baseline data: Calculate the total baseline travel demand per week for each mode\n",
    "baseline_demand = {\n",
    "    'MT': daily_totals['wegkm_imp_hoch_fac_MIV'].sum(),  # Total demand over the whole week for MT\n",
    "    'PT': daily_totals['wegkm_imp_hoch_fac_PT'].sum(),  # Total demand over the whole week for PT\n",
    "    'SAEV': 0  # Assuming no baseline value for SAEV\n",
    "}\n",
    "\n",
    "# Add baseline data as a separate DataFrame\n",
    "baseline_df_demand = pd.DataFrame({\n",
    "    'MT': [baseline_demand['MT']],\n",
    "    'PT': [baseline_demand['PT']],\n",
    "    'SAEV': [baseline_demand['SAEV']]\n",
    "}, index=['Baseline'])\n",
    "\n",
    "# Calculate the total baseline for the horizontal line\n",
    "total_baseline_demand = baseline_df_demand.sum(axis=1).values[0]\n",
    "\n",
    "# Concatenate baseline data with scenario data\n",
    "combined_data_demand = pd.concat([baseline_df_demand, total_demand_week])\n",
    "\n",
    "# Custom colors for the bars to match the original plot colors\n",
    "bar_colors_demand = ['#fba72f', '#f7251c', '#49fdfe']  # MT, PT, SAEV\n",
    "\n",
    "# Plotting the stacked bar chart for travel demand\n",
    "fig, ax = plt.subplots(figsize=(10, 6))\n",
    "\n",
    "# Plot each mode as a stacked bar with cyan outline for SAEV\n",
    "combined_data_demand[['MT', 'PT', 'SAEV']].plot(\n",
    "    kind='bar', \n",
    "    stacked=True, \n",
    "    color=bar_colors_demand, \n",
    "    ax=ax, \n",
    "    edgecolor=['black', 'black', 'black']  # Cyan outline for SAEV\n",
    ")\n",
    "\n",
    "# Draw a single horizontal dotted line for the total baseline\n",
    "ax.axhline(total_baseline_demand, color='black', linestyle='--', linewidth=1, label='Total Baseline')\n",
    "\n",
    "# Add percentage labels for 'SAEV' for each scenario explicitly\n",
    "for i, scenario in enumerate(combined_data_demand.index):\n",
    "    if combined_data_demand['SAEV'][i] > 0:  # Only add labels for non-zero SAEV values\n",
    "        saev_percent = (combined_data_demand['SAEV'][i] / combined_data_demand.loc[scenario].sum()) * 100\n",
    "        ax.text(i, combined_data_demand.loc[scenario].sum() - combined_data_demand['SAEV'][i] / 2, \n",
    "                f'{saev_percent:.1f}%', ha='center', va='center', fontsize=10, color='black')\n",
    "\n",
    "# Set labels and title\n",
    "ax.set_xlabel('Scenario')\n",
    "ax.set_ylabel('Total Travel Demand per Week (km)')\n",
    "ax.set_title('Total Travel Demand per Week for Different Modes Across Scenarios and Baseline')\n",
    "\n",
    "# Apply the custom formatter to the y-axis\n",
    "ax.yaxis.set_major_formatter(FuncFormatter(lambda x, _: f'{x/1e6:.1f}M'))\n",
    "\n",
    "# Customize the legend\n",
    "ax.legend(title='Transport Mode', loc='upper left', bbox_to_anchor=(1, 1))\n",
    "\n",
    "plt.tight_layout()\n",
    "\n",
    "\n",
    "# Show plot\n",
    "plt.show()"
   ],
   "metadata": {
    "collapsed": false,
    "ExecuteTime": {
     "end_time": "2025-04-04T14:57:50.897428Z",
     "start_time": "2025-04-04T14:57:50.627533Z"
    }
   },
   "id": "f1a04fee0d477baf",
   "execution_count": 135
  },
  {
   "cell_type": "code",
   "outputs": [
    {
     "data": {
      "text/plain": "<Figure size 1000x600 with 1 Axes>",
      "image/png": "[encoded data removed]"
     },
     "metadata": {},
     "output_type": "display_data"
    }
   ],
   "source": [
    "# Ensure 'daily_totals' is properly filtered for Thursday\n",
    "thursday_daily_totals = daily_totals[daily_totals['Day'] == 'Thursday']\n",
    "\n",
    "# Compute total travel demand per mode for Thursday across all scenarios\n",
    "total_demand_thursday = pd.DataFrame({\n",
    "    'MT': [pivot_df.loc[pivot_df.index.get_level_values('day') == 'Thursday', ('d_mit_ae_s', 'Scenario 1')].sum(), \n",
    "           pivot_df.loc[pivot_df.index.get_level_values('day') == 'Thursday', ('d_mit_ae_s', 'Scenario 2')].sum(), \n",
    "           pivot_df.loc[pivot_df.index.get_level_values('day') == 'Thursday', ('d_mit_ae_s', 'Scenario 3')].sum()],\n",
    "    \n",
    "    'PT': [pivot_df.loc[pivot_df.index.get_level_values('day') == 'Thursday', ('d_opnv_ae_s', 'Scenario 1')].sum(), \n",
    "           pivot_df.loc[pivot_df.index.get_level_values('day') == 'Thursday', ('d_opnv_ae_s', 'Scenario 2')].sum(), \n",
    "           pivot_df.loc[pivot_df.index.get_level_values('day') == 'Thursday', ('d_opnv_ae_s', 'Scenario 3')].sum()],\n",
    "    \n",
    "    'SAEV': [pivot_df.loc[pivot_df.index.get_level_values('day') == 'Thursday', ('wegkm_saev', 'Scenario 1')].sum(), \n",
    "             pivot_df.loc[pivot_df.index.get_level_values('day') == 'Thursday', ('wegkm_saev', 'Scenario 2')].sum(), \n",
    "             pivot_df.loc[pivot_df.index.get_level_values('day') == 'Thursday', ('wegkm_saev', 'Scenario 3')].sum()]\n",
    "}, index=['Scenario 1', 'Scenario 2', 'Scenario 3'])\n",
    "\n",
    "# Compute baseline travel demand for Thursday\n",
    "baseline_demand_thursday = {\n",
    "    'MT': thursday_daily_totals['wegkm_imp_hoch_fac_MIV'].sum(),\n",
    "    'PT': thursday_daily_totals['wegkm_imp_hoch_fac_PT'].sum(),\n",
    "    'SAEV': 0  # Assuming no baseline value for SAEV\n",
    "}\n",
    "\n",
    "# Create baseline DataFrame for Thursday\n",
    "baseline_df_demand_thursday = pd.DataFrame({\n",
    "    'MT': [baseline_demand_thursday['MT']],\n",
    "    'PT': [baseline_demand_thursday['PT']],\n",
    "    'SAEV': [baseline_demand_thursday['SAEV']]\n",
    "}, index=['Baseline'])\n",
    "\n",
    "# Calculate total baseline for the horizontal line\n",
    "total_baseline_demand_thursday = baseline_df_demand_thursday.sum(axis=1).values[0]\n",
    "\n",
    "# Concatenate baseline data with scenario data\n",
    "combined_data_demand_thursday = pd.concat([baseline_df_demand_thursday, total_demand_thursday])\n",
    "\n",
    "# Define colors for the bars\n",
    "bar_colors_demand = ['#fba72f', '#f7251c', '#49fdfe']  # MT, PT, SAEV\n",
    "\n",
    "# Plotting the stacked bar chart for travel demand (Thursday)\n",
    "fig, ax = plt.subplots(figsize=(10, 6))\n",
    "\n",
    "# Stacked bar plot\n",
    "combined_data_demand_thursday[['MT', 'PT', 'SAEV']].plot(\n",
    "    kind='bar', \n",
    "    stacked=True, \n",
    "    color=bar_colors_demand, \n",
    "    ax=ax, \n",
    "    edgecolor=['black', 'black', 'black']\n",
    ")\n",
    "\n",
    "# Draw a horizontal dashed line for total baseline (Thursday)\n",
    "ax.axhline(total_baseline_demand_thursday, color='black', linestyle='--', linewidth=1, label='Total Baseline')\n",
    "\n",
    "# Add percentage labels for 'SAEV' for each scenario\n",
    "for i, scenario in enumerate(combined_data_demand_thursday.index):\n",
    "    if combined_data_demand_thursday['SAEV'][i] > 0:  # Only add labels for non-zero SAEV values\n",
    "        saev_percent = (combined_data_demand_thursday['SAEV'][i] / combined_data_demand_thursday.loc[scenario].sum()) * 100\n",
    "        ax.text(i, combined_data_demand_thursday.loc[scenario].sum() - combined_data_demand_thursday['SAEV'][i] / 2, \n",
    "                f'{saev_percent:.1f}%', ha='center', va='center', fontsize=10, color='black')\n",
    "\n",
    "# Set labels and title\n",
    "ax.set_xlabel('Scenario')\n",
    "ax.set_ylabel('Total Travel Demand for Thursday (km)')\n",
    "ax.set_title('Total Travel Demand for Thursday for Different Modes Across Scenarios and Baseline')\n",
    "\n",
    "# Apply custom formatter to the y-axis\n",
    "ax.yaxis.set_major_formatter(FuncFormatter(lambda x, _: f'{x/1e6:.1f}M'))\n",
    "\n",
    "# Customize the legend\n",
    "ax.legend(title='Transport Mode', loc='upper left', bbox_to_anchor=(1, 1))\n",
    "\n",
    "plt.tight_layout()\n",
    "\n",
    "# Show the plot\n",
    "plt.show()"
   ],
   "metadata": {
    "collapsed": false,
    "ExecuteTime": {
     "end_time": "2025-04-04T14:57:51.192589Z",
     "start_time": "2025-04-04T14:57:50.898556Z"
    }
   },
   "id": "b8c8efdc03b2a8b3",
   "execution_count": 136
  },
  {
   "cell_type": "code",
   "execution_count": 137,
   "metadata": {
    "ExecuteTime": {
     "end_time": "2025-04-04T14:57:51.198298Z",
     "start_time": "2025-04-04T14:57:51.193649Z"
    }
   },
   "outputs": [],
   "source": [
    "import copy\n",
    "\n",
    "# Create a deep copy of the original dictionary\n",
    "dfs_tot_MIT_PT_nohw_hw_copy = copy.deepcopy(dfs_tot_MIT_PT_nohw_hw)"
   ],
   "id": "d872bb3fc6101496"
  },
  {
   "cell_type": "markdown",
   "source": [
    "# Emission Model"
   ],
   "metadata": {
    "collapsed": false
   },
   "id": "c34587d52edebf16"
  },
  {
   "cell_type": "code",
   "outputs": [],
   "source": [
    "# Specify path for EmissionDatav2.xlsx\n",
    "# EmissionDatapath = \n",
    "params_df = pd.read_excel(EmissionDatapath, sheet_name='Seattle')"
   ],
   "metadata": {
    "collapsed": false,
    "ExecuteTime": {
     "end_time": "2025-04-04T14:57:51.233336Z",
     "start_time": "2025-04-04T14:57:51.199433Z"
    }
   },
   "id": "5161ba5282e55f62",
   "execution_count": 138
  },
  {
   "cell_type": "markdown",
   "source": [
    "### Emissions from operations "
   ],
   "metadata": {
    "collapsed": false
   },
   "id": "b4047b18000edd3"
  },
  {
   "cell_type": "code",
   "outputs": [],
   "source": [
    "# Convert DataFrame to a dictionary for base values\n",
    "base_values = params_df.set_index('Parameter')['Base value'].to_dict()\n",
    "Conversionrate_l_g = base_values['Conversionrate_l_g']\n",
    "Conversionrate_k_m = base_values['Conversionrate_k_m']\n",
    "e_Conv_Bus = base_values['E_Conv_Bus'] / Conversionrate_k_m  # Emission factor conventional bus per km [kg/km]\n",
    "e_MIV = 0.38/1.60934\n",
    "e_MIV2 = ((base_values['Proportion_Gasoline'] * base_values['Consumption_Gasoline'] * base_values['Emissionfactor_Gasoline'] + base_values['Proportion_Diesel'] * base_values['Consumption_Diesel'] * base_values['Emissionfactor_Diesel'] + base_values['Proportion_BEV'] * base_values['Consumption_BEV'] * base_values['Emissionfactor_BEV_conv'] )/base_values['Occupancy_Rate_conv'])/ Conversionrate_k_m \n",
    "e_AEV_conv = base_values['Consumption_BEV'] * base_values['Emissionfactor_BEV_conv'] / base_values['Occupancy_Rate_AEV']\n",
    "e_AEV_renew = base_values['Consumption_BEV'] * base_values['Emissionfactor_BEV_renew'] / base_values['Occupancy_Rate_AEV']\n",
    "e_SAEV = (base_values['Consumption_BEV'] * base_values['Emissionfactor_BEV_renew'] )/ base_values['Occupancy_Rate_SAEV']\n"
   ],
   "metadata": {
    "collapsed": false,
    "ExecuteTime": {
     "end_time": "2025-04-04T14:57:51.243093Z",
     "start_time": "2025-04-04T14:57:51.234433Z"
    }
   },
   "id": "ec751912d45d5740",
   "execution_count": 139
  },
  {
   "cell_type": "code",
   "outputs": [],
   "source": [
    "# Function to calculate D_MIV_neu, D_OPNV_neu, and D_MIV_AE_S based on conditions\n",
    "def calculate_emissions(row):\n",
    "    E_MIV_1 = row ['wegkm_imp_hoch_fac_MIV'] * e_MIV /1000\n",
    "    E_OPNV_1 = row ['wegkm_imp_hoch_fac_PT'] * e_Conv_Bus /1000\n",
    "    return pd.Series([E_MIV_1, E_OPNV_1])\n",
    "\n",
    "for day, df in dfs_tot_MIT_PT_nohw_hw.items():\n",
    "# Apply the function to each row\n",
    "    df[['E_MIV_1', 'E_OPNV_1']] = df.apply(calculate_emissions, axis=1)\n"
   ],
   "metadata": {
    "collapsed": false,
    "ExecuteTime": {
     "end_time": "2025-04-04T14:57:51.286116Z",
     "start_time": "2025-04-04T14:57:51.244171Z"
    }
   },
   "id": "b6c7f027ee6f2739",
   "execution_count": 140
  },
  {
   "cell_type": "code",
   "outputs": [],
   "source": [
    "# Function to calculate D_MIV_neu, D_OPNV_neu, and D_MIV_AE_S based on conditions\n",
    "def calculate_emissions_SAEV(row):\n",
    "    E_SAEV_2 = row['wegkm_saev'] * e_SAEV/1000\n",
    "    E_AEV_2 = row['wegkm_saev'] * e_AEV_conv/1000\n",
    "    E_MIV_2 = row ['d_mit_ae_s'] * e_MIV/1000\n",
    "    E_OPNV_2 = row ['d_opnv_ae_s'] * e_Conv_Bus/1000\n",
    "    return pd.Series([E_SAEV_2,E_AEV_2, E_MIV_2, E_OPNV_2])\n",
    "\n",
    "\n",
    "# Apply the function to calculate emissions for each row and update specific columns\n",
    "for column in combined_df.columns:\n",
    "    combined_df[['E_SAEV_2', 'E_AEV_2', 'E_MIV_2', 'E_OPNV_2']] = combined_df.apply(calculate_emissions_SAEV, axis=1)"
   ],
   "metadata": {
    "collapsed": false,
    "ExecuteTime": {
     "end_time": "2025-04-04T14:57:51.325972Z",
     "start_time": "2025-04-04T14:57:51.287201Z"
    }
   },
   "id": "86b38bac2a735a8e",
   "execution_count": 141
  },
  {
   "cell_type": "code",
   "outputs": [],
   "source": [
    "# Initialize lists to hold the cumulative integrals and day labels across all days\n",
    "\n",
    "cumulative_MIV_1 = []\n",
    "cumulative_OPNV_1 = []\n",
    "cumulative_sum_1 = []\n",
    "\n",
    "day_labels = []\n",
    "\n",
    "# Initialize variables to accumulate the cumulative sum over days\n",
    "total_integral_MIV_1 = 0.0\n",
    "total_integral_OPNV_1 = 0.0\n",
    "\n",
    "# Custom colors for the lines and shaded areas\n",
    "line_colors = ['#49fdfe', '#f7251c', '#fba72f']  # Colors for D_SAEV, D_PT, D_MIT\n",
    "area_colors = ['#b3e5fc', '#f8bbd0', '#ffe0b2']  # Lighter shades for the areas\n",
    "total_line_color = '#0000FF'  # Color for the total line\n",
    "total_area_color = '#add8e6'  # Lighter shade for the total area\n",
    "\n",
    "# Create a pivot table for plotting\n",
    "pivot_df = combined_df.pivot_table(index='day', columns='Scenario', values=['E_SAEV_2', 'E_MIV_2', 'E_OPNV_2'])\n",
    "\n",
    "# Calculate the total demand for each scenario\n",
    "pivot_df['total', 'Scenario 1'] = pivot_df[('E_MIV_2', 'Scenario 1')] + pivot_df[('E_OPNV_2', 'Scenario 1')] + pivot_df[('E_SAEV_2', 'Scenario 1')]\n",
    "pivot_df['total', 'Scenario 2'] = pivot_df[('E_MIV_2', 'Scenario 2')] + pivot_df[('E_OPNV_2', 'Scenario 2')] + pivot_df[('E_SAEV_2', 'Scenario 2')]\n",
    "pivot_df['total', 'Scenario 3'] = pivot_df[('E_MIV_2', 'Scenario 3')] + pivot_df[('E_OPNV_2', 'Scenario 3')] + pivot_df[('E_SAEV_2', 'Scenario 3')]\n",
    "\n",
    "# Compute the cumulative sum for each scenario\n",
    "for scenario in ['Scenario 1', 'Scenario 2', 'Scenario 3']:\n",
    "    pivot_df[('cumulative_E_mit', scenario)] = pivot_df[('E_MIV_2', scenario)].cumsum()\n",
    "    pivot_df[('cumulative_E_opnv', scenario)] = pivot_df[('E_OPNV_2', scenario)].cumsum()\n",
    "    pivot_df[('cumulative_E_saev', scenario)] = pivot_df[('E_SAEV_2', scenario)].cumsum()\n",
    "    pivot_df[('cumulative_total', scenario)] = pivot_df[('total', scenario)].cumsum()\n",
    "\n",
    "\n",
    "# Iterate over each day to compute the cumulative integrals\n",
    "for day, df in dfs_tot_MIT_PT_nohw_hw.items():\n",
    "    # Ensure that the DataFrame is sorted by index (time) to correctly apply the trapezoidal rule\n",
    "    df = df.sort_index()\n",
    "    # Fill NaN values with zeroes\n",
    "    df['E_MIV_1'].fillna(0, inplace=True)\n",
    "    df['E_OPNV_1'].fillna(0, inplace=True)\n",
    "\n",
    "\n",
    "    integral_MIV_1 = np.trapz(df['E_MIV_1'].values, dx=1)\n",
    "    total_integral_MIV_1 += integral_MIV_1\n",
    "    cumulative_MIV_1.append(total_integral_MIV_1)\n",
    "\n",
    "    integral_OPNV_1 = np.trapz(df['E_OPNV_1'].values, dx=1)\n",
    "    total_integral_OPNV_1 += integral_OPNV_1\n",
    "    cumulative_OPNV_1.append(total_integral_OPNV_1)\n",
    "\n",
    "    # Store the day labels for x-axis\n",
    "    day_labels.append(day)\n",
    "\n",
    "\n",
    "# Calculate the cumulative sums\n",
    "for i in range(len(cumulative_MIV_1)):\n",
    "    sum_1 = cumulative_MIV_1[i] + cumulative_OPNV_1[i]\n",
    "    cumulative_sum_1.append(sum_1)"
   ],
   "metadata": {
    "collapsed": false,
    "ExecuteTime": {
     "end_time": "2025-04-04T14:57:51.359175Z",
     "start_time": "2025-04-04T14:57:51.327046Z"
    }
   },
   "id": "99f80436ef6fdddb",
   "execution_count": 142
  },
  {
   "cell_type": "code",
   "outputs": [],
   "source": [
    "# Compute the total emissions per week for each mode across all scenarios\n",
    "total_emissions_week = pd.DataFrame({\n",
    "    'MT': [pivot_df[('E_MIV_2', 'Scenario 1')].sum(), pivot_df[('E_MIV_2', 'Scenario 2')].sum(), pivot_df[('E_MIV_2', 'Scenario 3')].sum()],\n",
    "    'PT': [pivot_df[('E_OPNV_2', 'Scenario 1')].sum(), pivot_df[('E_OPNV_2', 'Scenario 2')].sum(), pivot_df[('E_OPNV_2', 'Scenario 3')].sum()],\n",
    "    'SAEV': [pivot_df[('E_SAEV_2', 'Scenario 1')].sum(), pivot_df[('E_SAEV_2', 'Scenario 2')].sum(), pivot_df[('E_SAEV_2', 'Scenario 3')].sum()],\n",
    "    'Total': [\n",
    "        pivot_df[('total', 'Scenario 1')].sum(),\n",
    "        pivot_df[('total', 'Scenario 2')].sum(),\n",
    "        pivot_df[('total', 'Scenario 3')].sum()\n",
    "    ],\n",
    "    'Scenario': ['Scenario 1', 'Scenario 2', 'Scenario 3']\n",
    "})\n",
    "\n",
    "# Baseline data: Calculate the total baseline emissions per week for each mode\n",
    "baseline_data = {\n",
    "    'MT': cumulative_MIV_1[-1],  # Total emissions over the whole week for MT\n",
    "    'PT': cumulative_OPNV_1[-1],  # Total emissions over the whole week for PT\n",
    "    'SAEV': 0,  # Assuming no baseline value for SAEV, set to 0 or another relevant value\n",
    "    'Total': cumulative_sum_1[-1]  # Total emissions over the whole week for all modes\n",
    "}\n",
    "\n"
   ],
   "metadata": {
    "collapsed": false,
    "ExecuteTime": {
     "end_time": "2025-04-04T14:57:51.369568Z",
     "start_time": "2025-04-04T14:57:51.360279Z"
    }
   },
   "id": "167a939bd509235b",
   "execution_count": 143
  },
  {
   "cell_type": "code",
   "outputs": [],
   "source": [
    "# Compute total emissions per week for each mode across all scenarios\n",
    "total_emissions_week = pd.DataFrame({\n",
    "    'MT': [pivot_df[('E_MIV_2', 'Scenario 1')].sum(), pivot_df[('E_MIV_2', 'Scenario 2')].sum(), pivot_df[('E_MIV_2', 'Scenario 3')].sum()],\n",
    "    'PT': [pivot_df[('E_OPNV_2', 'Scenario 1')].sum(), pivot_df[('E_OPNV_2', 'Scenario 2')].sum(), pivot_df[('E_OPNV_2', 'Scenario 3')].sum()],\n",
    "    'SAEV': [pivot_df[('E_SAEV_2', 'Scenario 1')].sum(), pivot_df[('E_SAEV_2', 'Scenario 2')].sum(), pivot_df[('E_SAEV_2', 'Scenario 3')].sum()]\n",
    "}, index=['Scenario 1', 'Scenario 2', 'Scenario 3'])\n",
    "\n",
    "# Baseline data: Calculate the total baseline emissions per week for each mode\n",
    "baseline_data = {\n",
    "    'MT': cumulative_MIV_1[-1],  # Total emissions over the whole week for MT\n",
    "    'PT': cumulative_OPNV_1[-1],  # Total emissions over the whole week for PT\n",
    "    'SAEV': 0  # Assuming no baseline value for SAEV, set to 0 or another relevant value\n",
    "}\n",
    "\n",
    "# Add baseline data as a separate DataFrame\n",
    "baseline_df = pd.DataFrame({\n",
    "    'MT': [baseline_data['MT']],\n",
    "    'PT': [baseline_data['PT']],\n",
    "    'SAEV': [baseline_data['SAEV']]\n",
    "}, index=['Baseline'])\n",
    "\n",
    "# Calculate the total baseline for the horizontal line\n",
    "total_baseline = baseline_df.sum(axis=1).values[0]\n",
    "\n",
    "# Concatenate baseline data with scenario data\n",
    "combined_data = pd.concat([baseline_df, total_emissions_week])"
   ],
   "metadata": {
    "collapsed": false,
    "ExecuteTime": {
     "end_time": "2025-04-04T14:57:51.381025Z",
     "start_time": "2025-04-04T14:57:51.370633Z"
    }
   },
   "id": "87fbe5b925801fc3",
   "execution_count": 144
  },
  {
   "cell_type": "code",
   "outputs": [],
   "source": [
    "# Baseline total emissions\n",
    "baseline_total_emissions = baseline_df.sum(axis=1).values[0]\n",
    "\n",
    "# Total emissions for each scenario\n",
    "scenario_totals = total_emissions_week.sum(axis=1)\n",
    "\n",
    "# Calculate the relative change from the baseline to each scenario\n",
    "relative_changes = ((scenario_totals - baseline_total_emissions) / baseline_total_emissions) * 100\n",
    "\n",
    "# Create a DataFrame to display the relative changes\n",
    "relative_changes_df = pd.DataFrame({\n",
    "    'Scenario': ['Scenario 1', 'Scenario 2', 'Scenario 3'],\n",
    "    'Relative Change (%)': relative_changes.values\n",
    "})\n"
   ],
   "metadata": {
    "collapsed": false,
    "ExecuteTime": {
     "end_time": "2025-04-04T14:57:51.390138Z",
     "start_time": "2025-04-04T14:57:51.382173Z"
    }
   },
   "id": "bd46e2ef58d5ccc8",
   "execution_count": 145
  },
  {
   "cell_type": "markdown",
   "source": [
    "### Emissions from production & End-of-life"
   ],
   "metadata": {
    "collapsed": false
   },
   "id": "da0993b1413738a3"
  },
  {
   "cell_type": "markdown",
   "source": [
    "#### Fleet size: "
   ],
   "metadata": {
    "collapsed": false
   },
   "id": "3f9922b8eeab2f86"
  },
  {
   "cell_type": "markdown",
   "source": [
    "Li et al:\n",
    "We examine three different assumptions for the growth of the SAEV fleet based on different proportions of current Uber and Lyft market size, which is around 96,000 vehicles in the San Francisco Bay Area of California. Under medium adoption level, the SAEV fleet will be as large as 10% of current TNC market by 2030. And the low and high adoption levels correspond to 5% and 25% respectively. We assume a linear growth in the market adoption from 0% in 2021 to 2030.\n",
    "\n",
    "\n",
    "For the remaining part of the Results section, one scenario was analyzed in more detail. The 10% demand–10% fleet scenario was chosen as an example because it combines a large demand with a small fleet, which introduces competition for AVs in the scenario (Bösch Paper)\n"
   ],
   "metadata": {
    "collapsed": false
   },
   "id": "98ed8d57b4e62b83"
  },
  {
   "cell_type": "code",
   "outputs": [
    {
     "name": "stdout",
     "output_type": "stream",
     "text": [
      "46100\n",
      "449475\n"
     ]
    }
   ],
   "source": [
    "# Extract individual values from the dictionary\n",
    "Fleetsize = base_values['Fleet_Seattle']   # Emission factor conventional bus per km [t/km]\n",
    "\n",
    "#Scanrio builder\n",
    "Fleetproportion = 0.1\n",
    "Private_Vehicle_Replacement_Rate = 4\n",
    "Fleetsize_SAEV = round(Fleetproportion * Fleetsize)\n",
    "Fleetsize_private =round( Fleetsize- (Fleetsize_SAEV/Private_Vehicle_Replacement_Rate))\n",
    "\n",
    "print(Fleetsize_SAEV)\n",
    "print(Fleetsize_private)"
   ],
   "metadata": {
    "collapsed": false,
    "ExecuteTime": {
     "end_time": "2025-04-04T14:57:51.395642Z",
     "start_time": "2025-04-04T14:57:51.391352Z"
    }
   },
   "id": "ec8b4bf2977ff000",
   "execution_count": 146
  },
  {
   "cell_type": "code",
   "outputs": [],
   "source": [
    "# Load excel file\n",
    "# Specify path for EmissionDatav2.xlsx\n",
    "#params_path =\n",
    "params_df = pd.read_excel(EmissionDatapath, sheet_name='VehSea')  \n",
    "\n",
    "# Entfernen der Spalten I bis M\n",
    "emission_df = params_df.drop(params_df.columns[8:13], axis=1)  # Spaltenindex 8 entspricht Spalte I, und 13 entspricht Spalte M\n",
    "\n",
    "# Behalten von nur den Zeilen 0 (Header), 1, 2, 10, und 12 (Python indexiert ab 0)\n",
    "emission_df = emission_df.iloc[[1, 2, 9, 9,11]]\n",
    "\n",
    "# Hinzufügen einer neuen Spalte 'Modell' mit den entsprechenden Werten\n",
    "emission_df.loc[1, 'Modell'] = 'E_Conv_Car_Gasoline'\n",
    "emission_df.loc[2, 'Modell'] = 'E_Conv_Car_Diesel'\n",
    "# Rename the first occurrence of row with index 9 in the 'Modell' column \n",
    "emission_df.iloc[emission_df.index.get_indexer_for([9])[0], emission_df.columns.get_loc('Modell')] = 'E_EA_PooledTaxi/Ind.Taxi'\n",
    "# Rename the second occurrence of row with index 9 in the 'Modell' column \n",
    "emission_df.iloc[emission_df.index.get_indexer_for([9])[1], emission_df.columns.get_loc('Modell')] = 'E_Conv_Car_BEV'\n",
    "emission_df.loc[11, 'Modell'] = 'E_Conv_Bus'\n",
    "\n",
    "# Platzieren der neuen Spalte 'Modell' ganz vorne im DataFrame\n",
    "emission_df = emission_df[['Modell'] + [col for col in emission_df.columns if col != 'Modell']]\n",
    "\n",
    "# Konvertieren der Spalte 'Curb Weight (kg)' in numerische Werte (float)\n",
    "emission_df['Curb Weight (kg)'] = pd.to_numeric(emission_df['Curb Weight (kg)'], errors='coerce')\n",
    "\n",
    "# Variable für Produktionsemissionen\n",
    "production_emissions_vehicle_body = 4.56 #kg CO2 − eq.∕kg\n",
    "production_emissions_battery_pack = 83.50 #kg CO2 − eq.∕kWh\n",
    "\n",
    "#Variable for Recyling emission\n",
    "recycling_emissions_vehicle_body = 2.93#kg CO2 − eq.∕kg\n",
    "recycling_emissions_battery_pack = 48.4 #kg CO2 − eq.∕kWh\n",
    "\n",
    "\n",
    "# Multipliziere die Spalte 'Curb Weight (kg)' mit der Variable 'production_emissions_vehicle_body'\n",
    "emission_df['Production Emissions (kg Co2 Eq)'] = emission_df['Curb Weight (kg)'] * production_emissions_vehicle_body + emission_df['Battery Gross Capacity (kWh)'] * production_emissions_battery_pack\n",
    "\n",
    "# Multipliziere die Spalte 'Curb Weight (kg)' mit der Variable 'recycling_emissions_vehicle_body'\n",
    "emission_df['Recycling Emissions (kg Co2 Eq)'] = -(emission_df['Curb Weight (kg)'] * recycling_emissions_vehicle_body) - (emission_df['Battery Gross Capacity (kWh)'] * recycling_emissions_battery_pack)\n",
    "\n",
    "# Am Ende alle Spalten außer der ersten und letzten löschen\n",
    "emission_df = emission_df.iloc[:, [0, -1, -2]]"
   ],
   "metadata": {
    "collapsed": false,
    "ExecuteTime": {
     "end_time": "2025-04-04T14:57:51.430561Z",
     "start_time": "2025-04-04T14:57:51.396766Z"
    }
   },
   "id": "9b297c1f2191d419",
   "execution_count": 147
  },
  {
   "cell_type": "markdown",
   "source": [
    "#### Emissions from production"
   ],
   "metadata": {
    "collapsed": false
   },
   "id": "3fec359c3adfa242"
  },
  {
   "cell_type": "code",
   "outputs": [
    {
     "name": "stdout",
     "output_type": "stream",
     "text": [
      "463821400.09647846\n"
     ]
    }
   ],
   "source": [
    "lifetime = 15.7  # Buberger\n",
    "ProportionDiesel = 0.29\n",
    "ProportionBenzin = 0.62\n",
    "ProportionBEV = 0.09\n",
    "# https://www.kba.de/DE/Statistik/Fahrzeuge/Bestand/Jahrebilanz_Bestand/fz_b_jahresbilanz_node.html#:~:text=Mit%2049.098.685%20Einheiten%20und,8%20%25)%20die%20h%C3%A4ufigsten%20Kraftstoffarten.\n",
    "\n",
    "production_emissions_afterSAEV = Fleetsize_SAEV * (emission_df.loc[\n",
    "    emission_df['Modell'].str.strip() == 'E_EA_PooledTaxi/Ind.Taxi', 'Production Emissions (kg Co2 Eq)'].values[\n",
    "    0]) + Fleetsize_private * (ProportionDiesel * (\n",
    "emission_df.loc[emission_df['Modell'].str.strip() == 'E_Conv_Car_Diesel', 'Production Emissions (kg Co2 Eq)'].values[\n",
    "    0]) + ProportionBenzin * (emission_df.loc[\n",
    "    emission_df['Modell'].str.strip() == 'E_Conv_Car_Gasoline', 'Production Emissions (kg Co2 Eq)'].values[\n",
    "    0]) + ProportionBEV * (emission_df.loc[\n",
    "    emission_df['Modell'].str.strip() == 'E_Conv_Car_BEV', 'Production Emissions (kg Co2 Eq)'].values[0]))\n",
    "\n",
    "production_emissions_preSAEV = Fleetsize * (ProportionDiesel * (\n",
    "emission_df.loc[emission_df['Modell'].str.strip() == 'E_Conv_Car_Diesel', 'Production Emissions (kg Co2 Eq)'].values[\n",
    "    0]) + ProportionBenzin * (emission_df.loc[\n",
    "    emission_df['Modell'].str.strip() == 'E_Conv_Car_Gasoline', 'Production Emissions (kg Co2 Eq)'].values[\n",
    "    0]) + ProportionBEV * (emission_df.loc[\n",
    "    emission_df['Modell'].str.strip() == 'E_Conv_Car_BEV', 'Production Emissions (kg Co2 Eq)'].values[0]))\n",
    "\n",
    "production_emissions_savings = production_emissions_afterSAEV - production_emissions_preSAEV\n",
    "\n",
    "print(production_emissions_savings)"
   ],
   "metadata": {
    "collapsed": false,
    "ExecuteTime": {
     "end_time": "2025-04-04T14:57:51.442083Z",
     "start_time": "2025-04-04T14:57:51.431694Z"
    }
   },
   "id": "6fbd97d35eb0284e",
   "execution_count": 148
  },
  {
   "cell_type": "markdown",
   "source": [
    "#### Emissions from End-of-life"
   ],
   "metadata": {
    "collapsed": false
   },
   "id": "31942dab83518e6"
  },
  {
   "cell_type": "code",
   "outputs": [],
   "source": [
    "recycling_emissions_afterSAEV = Fleetsize_SAEV * (emission_df.loc[emission_df['Modell'].str.strip() == 'E_EA_PooledTaxi/Ind.Taxi', 'Recycling Emissions (kg Co2 Eq)'].values[0]) + Fleetsize_private * (ProportionDiesel  * (emission_df.loc[emission_df['Modell'].str.strip() == 'E_Conv_Car_Diesel', 'Recycling Emissions (kg Co2 Eq)'].values[0]) + ProportionBenzin * (emission_df.loc[emission_df['Modell'].str.strip() == 'E_Conv_Car_Gasoline', 'Recycling Emissions (kg Co2 Eq)'].values[0]) + ProportionBEV * (emission_df.loc[emission_df['Modell'].str.strip() == 'E_Conv_Car_BEV', 'Recycling Emissions (kg Co2 Eq)'].values[0]))\n",
    "\n",
    "recycling_emissions_preSAEV = Fleetsize * (ProportionDiesel  * (emission_df.loc[emission_df['Modell'].str.strip() == 'E_Conv_Car_Diesel', 'Recycling Emissions (kg Co2 Eq)'].values[0]) + ProportionBenzin * (emission_df.loc[emission_df['Modell'].str.strip() == 'E_Conv_Car_Gasoline', 'Recycling Emissions (kg Co2 Eq)'].values[0]) + ProportionBEV * (emission_df.loc[emission_df['Modell'].str.strip() == 'E_Conv_Car_BEV', 'Recycling Emissions (kg Co2 Eq)'].values[0]))\n",
    "\n",
    "recycling_emissions_savings =   recycling_emissions_afterSAEV - recycling_emissions_preSAEV\n"
   ],
   "metadata": {
    "collapsed": false,
    "ExecuteTime": {
     "end_time": "2025-04-04T14:57:51.452217Z",
     "start_time": "2025-04-04T14:57:51.443250Z"
    }
   },
   "id": "3f6845915b08594b",
   "execution_count": 149
  },
  {
   "cell_type": "markdown",
   "source": [
    "### Lifecycle Emissions"
   ],
   "metadata": {
    "collapsed": false
   },
   "id": "a0f691e27eca378b"
  },
  {
   "cell_type": "markdown",
   "source": [
    "#### Scenario 1"
   ],
   "metadata": {
    "collapsed": false
   },
   "id": "5b2141fe7d3bb56b"
  },
  {
   "cell_type": "code",
   "outputs": [
    {
     "data": {
      "text/plain": "<Figure size 800x500 with 1 Axes>",
      "image/png": "[encoded data removed]"
     },
     "metadata": {},
     "output_type": "display_data"
    }
   ],
   "source": [
    "# Extract Thursday's baseline emissions from Scenario 1 (excluding SAEV)\n",
    "thursday_baseline_emissions = pivot_df.loc['Thursday', ('E_MIV_2', 'Scenario 1')] + \\\n",
    "                              pivot_df.loc['Thursday', ('E_OPNV_2', 'Scenario 1')]  # Excluding E_SAEV_2\n",
    "\n",
    "# **Scaling factor: 365 days for full-year emissions**\n",
    "scaling_factor = 365  \n",
    "\n",
    "# **Scale total baseline emissions for the year (without SAEV)**\n",
    "total_value = (((production_emissions_preSAEV / 1000) / lifetime) + \n",
    "               (thursday_baseline_emissions * scaling_factor) + \n",
    "               ((recycling_emissions_preSAEV / 1000) / lifetime))\n",
    "\n",
    "# **Scale only the emission changes (blocks) over 365 days**\n",
    "first_block = pivot_df.loc['Thursday', ('E_SAEV_2', 'Scenario 1')]* scaling_factor\n",
    "second_block = ((production_emissions_savings / 1000) / lifetime) + ((recycling_emissions_savings / 1000) / lifetime)\n",
    "third_block = total_value + first_block - second_block\n",
    "\n",
    "blocks = [first_block, second_block, third_block]\n",
    "\n",
    "# Calculate the cumulative values to create a falling waterfall\n",
    "cumulative = [total_value]  # **Now using scaled baseline emissions**\n",
    "for block in blocks:\n",
    "    cumulative.append(cumulative[-1] - block)\n",
    "\n",
    "# Plotting the waterfall diagram\n",
    "fig, ax = plt.subplots(figsize=(8, 5))\n",
    "\n",
    "# Define colors for the bars (similar shades)\n",
    "colors = ['#01579b', '#0288d1', '#49fdfe']  # Different shades of blue for the blocks\n",
    "\n",
    "# Plot the initial total bar on the left side (Scaled Baseline Emissions)\n",
    "ax.bar(0, total_value, color=colors[0], edgecolor='black', label='Baseline Emissions (Annualized, No SAEV)')\n",
    "\n",
    "# Plot the waterfall blocks (Scaled impacts)\n",
    "for i in range(3):\n",
    "    ax.bar(i + 1, -blocks[i], bottom=cumulative[i], color=colors[i], edgecolor='black')\n",
    "\n",
    "# Draw lines connecting the bars to create the waterfall effect\n",
    "for i in range(0, 3):\n",
    "    ax.plot([i, i + 1], [cumulative[i], cumulative[i]], color='black', linestyle='--', linewidth=1)\n",
    "\n",
    "# Add labels for the bars\n",
    "ax.set_xticks(range(4))\n",
    "ax.set_xticklabels(['Baseline Emissions (Annualized, No SAEV)', 'Utilization Change', 'Production+Recycling', 'Total Emissions after SAEV'])\n",
    "\n",
    "# Set title and labels\n",
    "ax.set_ylabel('Total CO2 emissions per year (tons)')\n",
    "\n",
    "# Apply the custom formatter to the y-axis\n",
    "ax.yaxis.set_major_formatter(FuncFormatter(lambda x, _: f'{x/1e6:.1f}M'))\n",
    "\n",
    "# Add gridlines\n",
    "ax.grid(True, axis='y', linestyle='--', alpha=0.6)\n",
    "plt.xticks(rotation=45, ha='right')\n",
    "\n",
    "# Scale the y-axis higher for better visibility\n",
    "ax.set_ylim([0, total_value * 1.2])  # Adjust this multiplier as needed\n",
    "\n",
    "plt.tight_layout()\n",
    "plt.show()\n"
   ],
   "metadata": {
    "collapsed": false,
    "ExecuteTime": {
     "end_time": "2025-04-04T14:57:51.656006Z",
     "start_time": "2025-04-04T14:57:51.454517Z"
    }
   },
   "id": "9245ee0d978570d7",
   "execution_count": 150
  },
  {
   "cell_type": "code",
   "outputs": [
    {
     "name": "stdout",
     "output_type": "stream",
     "text": [
      "                                         Description         Value\n",
      "0                    Total Emissions pre SAEV (tons)  1.961097e+06\n",
      "1                        Operations Reduction (tons)  3.431130e+03\n",
      "2            Production + Recycling Reduction (tons)  1.143463e+04\n",
      "3                  Total Emissions after SAEV (tons)  1.953094e+06\n",
      "4  Percentage Reduction from pre SAEV to post SAE... -4.081134e-01\n"
     ]
    }
   ],
   "source": [
    "\n",
    "\n",
    "# Create the DataFrame to calculate and display the values\n",
    "data = {\n",
    "    'Description': [\n",
    "        'Total Emissions pre SAEV (tons)',\n",
    "        'Operations Reduction (tons)',\n",
    "        'Production + Recycling Reduction (tons)',\n",
    "        'Total Emissions after SAEV (tons)',\n",
    "        'Percentage Reduction from pre SAEV to post SAEV (%)'\n",
    "    ],\n",
    "    'Value': [\n",
    "        total_value,\n",
    "        first_block,\n",
    "        second_block,\n",
    "        #cumulative[-1],\n",
    "        third_block,\n",
    "        ((third_block-total_value) / total_value) * 100\n",
    "    ]\n",
    "}\n",
    "\n",
    "# Create the DataFrame\n",
    "emission_reduction_df = pd.DataFrame(data)\n",
    "\n",
    "# Display the DataFrame\n",
    "print(emission_reduction_df)\n"
   ],
   "metadata": {
    "collapsed": false,
    "ExecuteTime": {
     "end_time": "2025-04-04T14:57:51.664706Z",
     "start_time": "2025-04-04T14:57:51.657133Z"
    }
   },
   "id": "454e9668f7a875bd",
   "execution_count": 151
  },
  {
   "cell_type": "markdown",
   "source": [
    "#### Scenario 2"
   ],
   "metadata": {
    "collapsed": false
   },
   "id": "e2aaa1eaa6448a81"
  },
  {
   "cell_type": "code",
   "outputs": [
    {
     "data": {
      "text/plain": "<Figure size 800x500 with 1 Axes>",
      "image/png": "[encoded data removed]"
     },
     "metadata": {},
     "output_type": "display_data"
    }
   ],
   "source": [
    "# Extract Thursday's baseline emissions from Scenario 1 (excluding SAEV)\n",
    "thursday_baseline_emissions = pivot_df.loc['Thursday', ('E_MIV_2', 'Scenario 1')] + \\\n",
    "                              pivot_df.loc['Thursday', ('E_OPNV_2', 'Scenario 1')]  # Excluding E_SAEV_2\n",
    "\n",
    "# **Scaling factor: 365 days for full-year emissions**\n",
    "scaling_factor = 365  \n",
    "\n",
    "# **Scale total baseline emissions for the year (without SAEV)**\n",
    "total_value = (((production_emissions_preSAEV / 1000) / lifetime) + \n",
    "               (thursday_baseline_emissions * scaling_factor) + \n",
    "               ((recycling_emissions_preSAEV / 1000) / lifetime))\n",
    "\n",
    "# **Scale only the emission changes (blocks) over 365 days**\n",
    "first_block = -((pivot_df.loc['Thursday', ('total', 'Scenario 2')] * scaling_factor) - \n",
    "               (thursday_baseline_emissions * scaling_factor))  \n",
    "\n",
    "\n",
    "second_block = 0\n",
    "third_block = total_value - first_block - second_block\n",
    "\n",
    "blocks = [first_block, second_block, third_block]\n",
    "\n",
    "# Calculate the cumulative values to create a falling waterfall\n",
    "cumulative = [total_value]  # **Now using scaled baseline emissions**\n",
    "for block in blocks:\n",
    "    cumulative.append(cumulative[-1] - block)\n",
    "\n",
    "# Plotting the waterfall diagram\n",
    "fig, ax = plt.subplots(figsize=(8, 5))\n",
    "\n",
    "# Define colors for the bars (similar shades)\n",
    "colors = ['#01579b', '#0288d1', '#49fdfe']  # Different shades of blue for the blocks\n",
    "\n",
    "# Plot the initial total bar on the left side (Scaled Baseline Emissions)\n",
    "ax.bar(0, total_value, color=colors[0], edgecolor='black', label='Baseline Emissions (Annualized, No SAEV)')\n",
    "\n",
    "# Plot the waterfall blocks (Scaled impacts)\n",
    "for i in range(3):\n",
    "    ax.bar(i + 1, -blocks[i], bottom=cumulative[i], color=colors[i], edgecolor='black')\n",
    "\n",
    "# Draw lines connecting the bars to create the waterfall effect\n",
    "for i in range(0, 3):\n",
    "    ax.plot([i, i + 1], [cumulative[i], cumulative[i]], color='black', linestyle='--', linewidth=1)\n",
    "\n",
    "# Add labels for the bars\n",
    "ax.set_xticks(range(4))\n",
    "ax.set_xticklabels(['Baseline Emissions (Annualized, No SAEV)', 'Utilization Change', 'Production+Recycling', 'Total Emissions after SAEV'])\n",
    "\n",
    "# Set title and labels\n",
    "ax.set_ylabel('Total CO2 emissions per year (tons)')\n",
    "\n",
    "# Apply the custom formatter to the y-axis\n",
    "ax.yaxis.set_major_formatter(FuncFormatter(lambda x, _: f'{x/1e6:.1f}M'))\n",
    "\n",
    "# Add gridlines\n",
    "ax.grid(True, axis='y', linestyle='--', alpha=0.6)\n",
    "plt.xticks(rotation=45, ha='right')\n",
    "\n",
    "# Scale the y-axis higher for better visibility\n",
    "ax.set_ylim([0, total_value * 1.2])  # Adjust this multiplier as needed\n",
    "\n",
    "plt.tight_layout()\n",
    "plt.show()"
   ],
   "metadata": {
    "collapsed": false,
    "ExecuteTime": {
     "end_time": "2025-04-04T14:57:51.850322Z",
     "start_time": "2025-04-04T14:57:51.665783Z"
    }
   },
   "id": "d7727c06d6396b45",
   "execution_count": 152
  },
  {
   "cell_type": "code",
   "outputs": [
    {
     "name": "stdout",
     "output_type": "stream",
     "text": [
      "                                         Description         Value\n",
      "0                    Total Emissions pre SAEV (tons)  1.961097e+06\n",
      "1                        Operations Reduction (tons)  6.143459e+04\n",
      "2            Production + Recycling Reduction (tons)  0.000000e+00\n",
      "3                  Total Emissions after SAEV (tons)  1.899663e+06\n",
      "4  Percentage Reduction from pre SAEV to post SAE... -3.132664e+00\n"
     ]
    }
   ],
   "source": [
    "\n",
    "\n",
    "# Create the DataFrame to calculate and display the values\n",
    "data = {\n",
    "    'Description': [\n",
    "        'Total Emissions pre SAEV (tons)',\n",
    "        'Operations Reduction (tons)',\n",
    "        'Production + Recycling Reduction (tons)',\n",
    "        'Total Emissions after SAEV (tons)',\n",
    "        'Percentage Reduction from pre SAEV to post SAEV (%)'\n",
    "    ],\n",
    "    'Value': [\n",
    "        total_value,\n",
    "        first_block,\n",
    "        second_block,\n",
    "        #cumulative[-1],\n",
    "        third_block,\n",
    "        ((third_block-total_value) / total_value) * 100\n",
    "    ]\n",
    "}\n",
    "\n",
    "# Create the DataFrame\n",
    "emission_reduction_df = pd.DataFrame(data)\n",
    "\n",
    "# Display the DataFrame\n",
    "print(emission_reduction_df)"
   ],
   "metadata": {
    "collapsed": false,
    "ExecuteTime": {
     "end_time": "2025-04-04T14:57:51.860146Z",
     "start_time": "2025-04-04T14:57:51.851488Z"
    }
   },
   "id": "81e92d7933c8cabf",
   "execution_count": 153
  },
  {
   "cell_type": "markdown",
   "source": [
    "#### Scenario 3"
   ],
   "metadata": {
    "collapsed": false
   },
   "id": "179b5642a1674be"
  },
  {
   "cell_type": "code",
   "outputs": [
    {
     "data": {
      "text/plain": "<Figure size 800x500 with 1 Axes>",
      "image/png": "[encoded data removed]"
     },
     "metadata": {},
     "output_type": "display_data"
    }
   ],
   "source": [
    "# Extract Thursday's baseline emissions from Scenario 1 (excluding SAEV)\n",
    "thursday_baseline_emissions = pivot_df.loc['Thursday', ('E_MIV_2', 'Scenario 1')] + \\\n",
    "                              pivot_df.loc['Thursday', ('E_OPNV_2', 'Scenario 1')]  # Excluding E_SAEV_2\n",
    "\n",
    "# **Scaling factor: 365 days for full-year emissions**\n",
    "scaling_factor = 365  \n",
    "\n",
    "# **Scale total baseline emissions for the year (without SAEV)**\n",
    "total_value = (((production_emissions_preSAEV / 1000) / lifetime) + \n",
    "               (thursday_baseline_emissions * scaling_factor) + \n",
    "               ((recycling_emissions_preSAEV / 1000) / lifetime))\n",
    "\n",
    "# **Scale only the emission changes (blocks) over 365 days**\n",
    "first_block = -((pivot_df.loc['Thursday', ('total', 'Scenario 3')] * scaling_factor) - \n",
    "               (thursday_baseline_emissions * scaling_factor))  \n",
    "\n",
    "\n",
    "second_block = ((production_emissions_savings / 1000) / lifetime) + ((recycling_emissions_savings / 1000) / lifetime)\n",
    "third_block = total_value - first_block - second_block\n",
    "\n",
    "blocks = [first_block, second_block, third_block]\n",
    "\n",
    "# Calculate the cumulative values to create a falling waterfall\n",
    "cumulative = [total_value]  # **Now using scaled baseline emissions**\n",
    "for block in blocks:\n",
    "    cumulative.append(cumulative[-1] - block)\n",
    "\n",
    "# Plotting the waterfall diagram\n",
    "fig, ax = plt.subplots(figsize=(8, 5))\n",
    "\n",
    "# Define colors for the bars (similar shades)\n",
    "colors = ['#01579b', '#0288d1', '#49fdfe']  # Different shades of blue for the blocks\n",
    "\n",
    "# Plot the initial total bar on the left side (Scaled Baseline Emissions)\n",
    "ax.bar(0, total_value, color=colors[0], edgecolor='black', label='Baseline Emissions (Annualized, No SAEV)')\n",
    "\n",
    "# Plot the waterfall blocks (Scaled impacts)\n",
    "for i in range(3):\n",
    "    ax.bar(i + 1, -blocks[i], bottom=cumulative[i], color=colors[i], edgecolor='black')\n",
    "\n",
    "# Draw lines connecting the bars to create the waterfall effect\n",
    "for i in range(0, 3):\n",
    "    ax.plot([i, i + 1], [cumulative[i], cumulative[i]], color='black', linestyle='--', linewidth=1)\n",
    "\n",
    "# Add labels for the bars\n",
    "ax.set_xticks(range(4))\n",
    "ax.set_xticklabels(['Baseline Emissions (Annualized, No SAEV)', 'Utilization Change', 'Production+Recycling', 'Total Emissions after SAEV'])\n",
    "\n",
    "# Set title and labels\n",
    "ax.set_ylabel('Total CO2 emissions per year (tons)')\n",
    "\n",
    "# Apply the custom formatter to the y-axis\n",
    "ax.yaxis.set_major_formatter(FuncFormatter(lambda x, _: f'{x/1e6:.1f}M'))\n",
    "\n",
    "# Add gridlines\n",
    "ax.grid(True, axis='y', linestyle='--', alpha=0.6)\n",
    "plt.xticks(rotation=45, ha='right')\n",
    "\n",
    "# Scale the y-axis higher for better visibility\n",
    "ax.set_ylim([0, total_value * 1.2])  # Adjust this multiplier as needed\n",
    "\n",
    "plt.tight_layout()\n",
    "plt.show()"
   ],
   "metadata": {
    "collapsed": false,
    "ExecuteTime": {
     "end_time": "2025-04-04T14:57:52.084377Z",
     "start_time": "2025-04-04T14:57:51.861219Z"
    }
   },
   "id": "8e2b20d5b2e13f0e",
   "execution_count": 154
  },
  {
   "cell_type": "code",
   "outputs": [
    {
     "name": "stdout",
     "output_type": "stream",
     "text": [
      "                                         Description         Value\n",
      "0                    Total Emissions pre SAEV (tons)  1.961097e+06\n",
      "1                        Operations Reduction (tons)  2.461360e+05\n",
      "2            Production + Recycling Reduction (tons)  1.143463e+04\n",
      "3                  Total Emissions after SAEV (tons)  1.703527e+06\n",
      "4  Percentage Reduction from pre SAEV to post SAE... -1.313401e+01\n"
     ]
    }
   ],
   "source": [
    "\n",
    "\n",
    "# Create the DataFrame to calculate and display the values\n",
    "data = {\n",
    "    'Description': [\n",
    "        'Total Emissions pre SAEV (tons)',\n",
    "        'Operations Reduction (tons)',\n",
    "        'Production + Recycling Reduction (tons)',\n",
    "        'Total Emissions after SAEV (tons)',\n",
    "        'Percentage Reduction from pre SAEV to post SAEV (%)'\n",
    "    ],\n",
    "    'Value': [\n",
    "        total_value,\n",
    "        first_block,\n",
    "        second_block,\n",
    "        #cumulative[-1],\n",
    "        third_block,\n",
    "        ((third_block-total_value) / total_value) * 100\n",
    "    ]\n",
    "}\n",
    "\n",
    "# Create the DataFrame\n",
    "emission_reduction_df = pd.DataFrame(data)\n",
    "\n",
    "# Display the DataFrame\n",
    "print(emission_reduction_df)"
   ],
   "metadata": {
    "collapsed": false,
    "ExecuteTime": {
     "end_time": "2025-04-04T14:57:52.093203Z",
     "start_time": "2025-04-04T14:57:52.085449Z"
    }
   },
   "id": "275dd191e815fee4",
   "execution_count": 155
  }
 ],
 "metadata": {
  "kernelspec": {
   "display_name": "Python 3",
   "language": "python",
   "name": "python3"
  },
  "language_info": {
   "codemirror_mode": {
    "name": "ipython",
    "version": 3
   },
   "file_extension": ".py",
   "mimetype": "text/x-python",
   "name": "python",
   "nbconvert_exporter": "python",
   "pygments_lexer": "ipython3",
   "version": "3.8.5"
  }
 },
 "nbformat": 4,
 "nbformat_minor": 5
}
