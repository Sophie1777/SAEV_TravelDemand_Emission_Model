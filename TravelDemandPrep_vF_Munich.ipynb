{
 "cells": [
  {
   "metadata": {
    "collapsed": true,
    "ExecuteTime": {
     "end_time": "2025-04-04T15:04:21.509994Z",
     "start_time": "2025-04-04T15:04:21.321406Z"
    }
   },
   "cell_type": "code",
   "source": [
    "# -------------------------------------------------------------------------------------------------------------------- #\n",
    "# external imports\n",
    "# ----------------\n",
    "import numpy as np\n",
    "import pandas as pd\n",
    "import matplotlib.pyplot as plt\n",
    "from statsmodels.tsa.holtwinters import ExponentialSmoothing\n",
    "from matplotlib.ticker import FuncFormatter\n",
    "\n"
   ],
   "id": "initial_id",
   "outputs": [],
   "execution_count": 1
  },
  {
   "cell_type": "code",
   "outputs": [],
   "source": [
    "# Defining pathes\n",
    "MiDpath =  \n",
    "VehicleDatapath = \n",
    "EmissionDatapath = "
   ],
   "metadata": {
    "collapsed": false,
    "ExecuteTime": {
     "end_time": "2025-04-04T15:04:21.522398Z",
     "start_time": "2025-04-04T15:04:21.517496Z"
    }
   },
   "id": "c35d18b7c924f4fd",
   "execution_count": 2
  },
  {
   "cell_type": "markdown",
   "source": [
    "# Travel Demand Model"
   ],
   "metadata": {
    "collapsed": false
   },
   "id": "8556a45ae0d15100"
  },
  {
   "cell_type": "markdown",
   "source": [
    "### Load data\n",
    "Reading the data and filtering to only include Munich travel data (any other city code works as well)"
   ],
   "metadata": {
    "collapsed": false
   },
   "id": "6c48b9aae3a0fdd"
  },
  {
   "cell_type": "code",
   "source": [
    "# Specify path for B2_Regional-Datensatzpaket\\\\CSV\\\\MiD2017_Regional_Wege.csv \n",
    "# MiDpath = \n",
    "\n",
    "# Read csv file\n",
    "df = pd.read_csv(MiDpath, sep=';', decimal=',',  index_col=0)\n",
    "\n",
    "# Filter dataframe to only include Munich travel data                                                               -> 48627 entries\n",
    "# The study was conducted over 2016 and 2017 so all data is relevant especially because else the extrapolation factor would be wrong\n",
    "df_mun = df[(df['VBGEM'] == 91620000)]\n",
    "\n"
   ],
   "metadata": {
    "collapsed": false,
    "ExecuteTime": {
     "end_time": "2025-04-04T15:04:34.818581Z",
     "start_time": "2025-04-04T15:04:21.524598Z"
    }
   },
   "id": "5fd2cbd42f622536",
   "outputs": [],
   "execution_count": 3
  },
  {
   "cell_type": "markdown",
   "source": [
    "### Cleaning of data\n",
    "We clean the Munich data by excluding hvm values that are not relevant. (everything except MIT and PT) Further, we drop all rows that don't list the mode of transport. Additionally, we exclude long paths >= 100km as these trips most likely are not done in the boundaries of the city. Finally, we map all hvm values of 4 to 3 as with SAEVs you are never driving by yourself."
   ],
   "metadata": {
    "collapsed": false
   },
   "id": "3515fc936e48850a"
  },
  {
   "cell_type": "code",
   "source": [
    "# Include only city traffic and therefore take out LKW (17+18), Schiff/Fähre (19), Fernzug (20), Fernlinienbus (21), Reisebus (22), Flugzeug (23), andere (24) ('hvm_diff2' column equals) [position 71 in codebook]                                   -> 47905 entries\n",
    "df_mun_clean = df_mun[~df_mun['hvm_diff2'].isin(range(17, 25))]\n",
    "\n",
    "# Drop rows where hvm equals 1, 2 and 9(Zu Fuß, Fahrrad, keine Angabe)                                              -> 28323 entries\n",
    "df_mun_clean = df_mun_clean[~df_mun_clean['hvm'].isin([1, 2, 9])] # hvm = 9 = 106 entries\n",
    "\n",
    "# Drop rows where hvm equals 703 (Weg ohne Detail) as we cant use this data                                         -> 25774 entries\n",
    "df_mun_clean = df_mun_clean[~df_mun_clean['hvm'].isin([703])] # hvm = 703 = 2549 entries                                                   \n",
    "\n",
    "# Exclude long paths >= 100km, using wegkm_imp here as we would underestimate otherwise                             -> 25090 entries\n",
    "df_mun_clean = df_mun_clean[(df_mun_clean['wegkm_imp'] < 100)]\n",
    "\n",
    "# Replace values where hvm is 4 with 3 (3 = Mitfahrer)\n",
    "df_mun_clean.loc[df_mun_clean['hvm'] == 4, 'hvm'] = 3\n",
    "\n",
    "# Build smaller df with only selected columns [position 5, 6, 10, 11, 12, 13, 14, 16, 17, 21, 41, 42, 44, 69, 71 in codebook]\n",
    "selected_columns = [\"W_GEW\",\"W_HOCH\",\"ST_MONAT\", \"ST_JAHR\", \"ST_WOTAG\", \"ST_WOCHE\", \"arbwo\", \"feiertag\", \"saison\", \"W_SZ\", \"zweck_mop\", \"wegkm\", \"wegkm_imp\", \"hvm\", \"hvm_diff2\"]\n",
    "df_mun_clean = df_mun_clean[selected_columns]"
   ],
   "metadata": {
    "collapsed": false,
    "ExecuteTime": {
     "end_time": "2025-04-04T15:04:34.940881Z",
     "start_time": "2025-04-04T15:04:34.819633Z"
    }
   },
   "id": "19979cdc02e5060",
   "outputs": [],
   "execution_count": 4
  },
  {
   "cell_type": "markdown",
   "source": [
    "### Cleaning of data 2\n",
    "We drop all rows that don't have a starting time as these rows are unusable for our analysis. We change the index to datetime, round 'W_SZ' to 30min and sort the data by 'ST_WOTAG', 'W_SZ' and 'wegkm_imp' to prepare for further processing."
   ],
   "metadata": {
    "collapsed": false
   },
   "id": "eca20f59780efe47"
  },
  {
   "cell_type": "code",
   "source": [
    "# Replace blanks with NaN values\n",
    "df_mun_sort = df_mun_clean.replace(' ', np.nan)\n",
    "\n",
    "# Drop rows with NaN values in 'W_SZ' column                                                                        -> 23336 entries\n",
    "df_mun_sort.dropna(subset=['W_SZ'], inplace=True)\n",
    "# Maybe we have to use a factor here to not underestimate the wegkm as we only use data with starting time and drop 1754 rows which is 3,61% of the original Munich data \n",
    "\n",
    "# Convert 'W_SZ' column to datetime with time only\n",
    "df_mun_sort['W_SZ'] = pd.to_datetime(df_mun_sort['W_SZ'], format='%H:%M:%S', errors='coerce')\n",
    "\n",
    "# Drop rows with NaT values in 'W_SZ' column\n",
    "df_mun_sort = df_mun_sort.dropna(subset=['W_SZ'])\n",
    "\n",
    "# Round 'W_SZ' to nearest 60 minutes -> Why change back to string?\n",
    "df_mun_sort['W_SZ'] = df_mun_sort['W_SZ'].dt.floor('60min')#.dt.strftime('%H:%M:%S')\n",
    "\n",
    "# Sort df by datetime in 'W_SZ' column\n",
    "df_mun_sort = df_mun_sort.sort_values(by=[\"ST_WOTAG\", 'W_SZ', 'wegkm_imp'])\n",
    "\n",
    "# Reorder columns\n",
    "new_column_order = [\"ST_WOCHE\", \"ST_WOTAG\", \"W_SZ\", \"wegkm_imp\", \"wegkm\", \"ST_MONAT\", \"ST_JAHR\", \"W_GEW\",\"W_HOCH\", \"feiertag\", \"saison\", \"zweck_mop\", \"hvm\", \"hvm_diff2\", \"arbwo\"]\n",
    "df_mun_sort = df_mun_sort[new_column_order]\n",
    "\n"
   ],
   "metadata": {
    "collapsed": false,
    "ExecuteTime": {
     "end_time": "2025-04-04T15:04:35.002829Z",
     "start_time": "2025-04-04T15:04:34.941931Z"
    }
   },
   "id": "2eea365bb6c28e58",
   "outputs": [],
   "execution_count": 5
  },
  {
   "metadata": {},
   "cell_type": "markdown",
   "source": [
    "### Compensation Factor"
   ],
   "id": "afcb507ecd82edb8"
  },
  {
   "cell_type": "markdown",
   "source": [
    "#### First Compensation Factor\n",
    "Calculating first compensation factor (factor_9_703_hoch) to counteract underestimation of wegkm_imp_hoch after eliminating data without mode of transport (hvm = 9, 703). We assume that the distribution of mode of transport for hvm = 9, 703 is the same as in the data with mode of transport. (we use wegkm_imp_hoch for calculation)"
   ],
   "metadata": {
    "collapsed": false
   },
   "id": "84d71b95a062180a"
  },
  {
   "cell_type": "code",
   "source": [
    "### Preparation of the data for the calculation of factor_9_703_hoch\n",
    "selected_columns = [\"W_HOCH\",\"hvm\", \"hvm_diff2\", \"ST_MONAT\", \"ST_JAHR\", \"ST_WOTAG\", \"ST_WOCHE\", \"W_SZ\", \"wegkm\", \"wegkm_imp\", \"saison\", \"arbwo\", \"feiertag\", \"zweck_mop\"]\n",
    "df_mun_factor_9_703 = df_mun[selected_columns].copy()\n",
    "\n",
    "# Replace values where hvm is 4 with 3\n",
    "df_mun_factor_9_703.loc[df_mun_factor_9_703['hvm'] == 4, 'hvm'] = 3\n",
    "\n",
    "df_mun_factor_9_703 = df_mun_factor_9_703[(df_mun_factor_9_703['wegkm_imp'] < 100)]\n",
    "\n",
    "df_mun_factor_9_703 = df_mun_factor_9_703[~df_mun_factor_9_703['hvm_diff2'].isin(range(17, 25))]\n",
    "\n",
    "# Calculate wegkm_imp_hoch \n",
    "df_mun_factor_9_703['wegkm_imp_hoch'] = df_mun_factor_9_703['W_HOCH'] * df_mun_factor_9_703['wegkm_imp']\n",
    "\n",
    "# Calculate sum of wegkm_imp_hoch for all hvm values and store them in a new DataFrame\n",
    "df_hvm_sums = df_mun_factor_9_703.groupby('hvm')['wegkm_imp_hoch'].sum().reset_index(name='sum_hvm_wegkm')\n",
    "\n",
    "# Calculate sum of wegkm_imp_hoch for 9 and 703\n",
    "sum_hvm_9_703 = df_hvm_sums[df_hvm_sums['hvm'].isin([9,703])]['sum_hvm_wegkm'].sum()\n",
    "\n",
    "# Sum the sums of 1,2,3,5 and divide each sum by the total sum\n",
    "sum_hvm_1_2_3_5 = df_hvm_sums[df_hvm_sums['hvm'].isin([1, 2, 3, 5])]['sum_hvm_wegkm'].sum()\n",
    "df_hvm_sums['share'] = df_hvm_sums[df_hvm_sums['hvm'].isin([1, 2, 3, 5])]['sum_hvm_wegkm'] / sum_hvm_1_2_3_5\n",
    "\n",
    "# Calculation of lost kilometers that are attributable to hvm = 3 and hvm = 5 respectively\n",
    "lost_wegkm_3 = np.ceil(sum_hvm_9_703 * df_hvm_sums[df_hvm_sums['hvm'] == 3]['share'].values[0])\n",
    "lost_wegkm_5 = np.ceil(sum_hvm_9_703 * df_hvm_sums[df_hvm_sums['hvm'] == 5]['share'].values[0])\n",
    "lost_wegkm_3_5 = lost_wegkm_3 + lost_wegkm_5\n",
    "\n",
    "# Calculate the compensation factor for hvm 3 and 5 combined\n",
    "sum_hvm_3_5 = df_hvm_sums[df_hvm_sums['hvm'].isin([3, 5])]['sum_hvm_wegkm'].sum()\n",
    "\n",
    "# We only have one compensation factor because we don't know the split between hvm = 3 and hvm = 5\n",
    "factor_9_703_hoch = (lost_wegkm_3_5 + sum_hvm_3_5) / sum_hvm_3_5\n"
   ],
   "metadata": {
    "collapsed": false,
    "ExecuteTime": {
     "end_time": "2025-04-04T15:04:35.044886Z",
     "start_time": "2025-04-04T15:04:35.003896Z"
    }
   },
   "id": "1bff2ab62027f6da",
   "outputs": [],
   "execution_count": 6
  },
  {
   "cell_type": "markdown",
   "source": [
    "We're losing roughly 3 million kms by filtering out hvm 9 and 703. To not underestimate total wegkm we must include a compensation factor to adjust our result.\n",
    "\n",
    "We can adjust our wegkm_imp_hoch by calculating the share of km for each hvm. Next, we multiply the share with the lost kms. The result is then added to the total wegkm_imp_hoch and divided by the total wegkm_imp_hoch to get a compensation factor.\n",
    "\n",
    "A compensation factor of 1.07 means that we would add 7% km to all wegkm_imp_hoch values to account for lost kms."
   ],
   "metadata": {
    "collapsed": false
   },
   "id": "3e4f292a270ec0c2"
  },
  {
   "cell_type": "markdown",
   "source": [
    "#### Second and third compensation factor\n",
    "Calculating second and third compensation factor for hvm = 3 (factor_3_no_SZ_hoch) and hvm = 5 (factor_5_no_SZ_hoch) to counteract underestimation of wegkm_imp_hoch after eliminating data without a starting time. (using wegkm_imp_hoch for calculation)"
   ],
   "metadata": {
    "collapsed": false
   },
   "id": "69fe831d88c4e171"
  },
  {
   "cell_type": "code",
   "source": [
    "# Drop rows where hvm equals 1, 2 and 9(Zu Fuß, Fahrrad, keine Angabe)                                              -> 28323 entries\n",
    "df_mun_factor_no_SZ = df_mun_factor_9_703[~df_mun_factor_9_703['hvm'].isin([1, 2, 9])] # hvm = 9 = 106 entries\n",
    "\n",
    "# Drop rows where hvm equals 703 (Weg ohne Detail) as we cant use this data                                         -> 25774 entries\n",
    "df_mun_factor_no_SZ = df_mun_factor_no_SZ[~df_mun_factor_no_SZ['hvm'].isin([703])] # hvm = 703 = 2549 entries\n",
    "\n",
    "# Replace blanks with NaN values\n",
    "df_mun_factor_no_SZ = df_mun_factor_no_SZ.replace(' ', np.nan)\n",
    "\n",
    "# Filter by 'W_SZ' column and only include rows where 'W_SZ' is NaN\n",
    "df_mun_only_no_SZ = df_mun_factor_no_SZ[df_mun_factor_no_SZ['W_SZ'].isna()]\n",
    "\n",
    "# Sum of wegkm_imp_hoch in df_mun_only_no_SZ (sum of wegkm for all rows without a starting time)\n",
    "sum_wegkm_imp_hoch_no_SZ = df_mun_only_no_SZ['wegkm_imp_hoch'].sum()\n",
    "\n",
    "# Sum of wegkm_imp_hoch in df_mun_only_no_SZ for hvm = 3 and hvm = 5 (sum of wegkm for all rows without a starting time split in hvm = 3 and hvm = 5)\n",
    "sum_wegkm_imp_hoch_no_SZ_3 = df_mun_only_no_SZ[df_mun_only_no_SZ['hvm'] == 3]['wegkm_imp_hoch'].sum()\n",
    "sum_wegkm_imp_hoch_no_SZ_5 = df_mun_only_no_SZ[df_mun_only_no_SZ['hvm'] == 5]['wegkm_imp_hoch'].sum()\n",
    "\n",
    "\n",
    "# Calculating sum of wegkm_imp_hoch for df_mun_factor_no_SZ for hvm = 3 and hvm = 5 (sum of wegkm for all rows including those without a starting time for hvm = 3 and hvm = 5)\n",
    "sum_wegkm_imp_hoch_3 = df_mun_factor_no_SZ[df_mun_factor_no_SZ['hvm'] == 3]['wegkm_imp_hoch'].sum()\n",
    "sum_wegkm_imp_hoch_5 = df_mun_factor_no_SZ[df_mun_factor_no_SZ['hvm'] == 5]['wegkm_imp_hoch'].sum()\n",
    "\n",
    "# Calculating the compensation factor for hvm = 3 and hvm = 5 for no 'W_SZ' values (how many wegkm are lost in relative terms by missing starting times for hvm = 3 and hvm = 5)\n",
    "factor_3_no_SZ_hoch =  sum_wegkm_imp_hoch_3 / (sum_wegkm_imp_hoch_3 - sum_wegkm_imp_hoch_no_SZ_3)\n",
    "factor_5_no_SZ_hoch = sum_wegkm_imp_hoch_5 / (sum_wegkm_imp_hoch_5 - sum_wegkm_imp_hoch_no_SZ_5)\n"
   ],
   "metadata": {
    "collapsed": false,
    "ExecuteTime": {
     "end_time": "2025-04-04T15:04:35.075669Z",
     "start_time": "2025-04-04T15:04:35.045998Z"
    }
   },
   "id": "66da29cf857a1c62",
   "outputs": [],
   "execution_count": 7
  },
  {
   "cell_type": "markdown",
   "source": [
    "For both 9_703_factor and no_SZ_factors using the wegkm_imp_hoch values for their calculation leads to higher values. This can help to counteract the underestimation of the total wegkm_imp_hoch. Furthermore, the user manual on page 33 states that the distribution after using W_HOCH is to be used to assign all other missing values. See percentages in table 5."
   ],
   "metadata": {
    "collapsed": false
   },
   "id": "2b01dd4647ce9d52"
  },
  {
   "cell_type": "markdown",
   "source": [
    "#### Inclusion of compensation factors\n",
    "We include factor_9_703_hoch, factor_3_no_SZ_hoch, factor_5_no_SZ_hoch in df_mun_sort"
   ],
   "metadata": {
    "collapsed": false
   },
   "id": "26ae5330c060b55e"
  },
  {
   "cell_type": "code",
   "source": [
    "# Create a new column for factor_9_703_hoch\n",
    "df_mun_sort['factor_9_703_hoch'] = factor_9_703_hoch\n",
    "\n",
    "# Create a new column for factor_3_no_SZ_hoch and factor_5_no_SZ_hoch\n",
    "df_mun_sort['factor_no_SZ_hoch'] = np.nan\n",
    "\n",
    "# Apply factor_3_no_SZ_hoch for entries where hvm == 3\n",
    "df_mun_sort.loc[df_mun_sort['hvm'] == 3, 'factor_no_SZ_hoch'] = factor_3_no_SZ_hoch\n",
    "\n",
    "# Apply factor_5_no_SZ_hoch for entries where hvm == 5\n",
    "df_mun_sort.loc[df_mun_sort['hvm'] == 5, 'factor_no_SZ_hoch'] = factor_5_no_SZ_hoch"
   ],
   "metadata": {
    "collapsed": false,
    "ExecuteTime": {
     "end_time": "2025-04-04T15:04:35.084675Z",
     "start_time": "2025-04-04T15:04:35.076730Z"
    }
   },
   "id": "4c395be2bc6c1b30",
   "outputs": [],
   "execution_count": 8
  },
  {
   "cell_type": "markdown",
   "source": [
    "#### Extrapolation of wegkm\n",
    "Next we calculate 'wegkm_imp_hoch' (wegkm extrapolated for the total munich population) by multiplying 'wegkm_imp' with the provided extrapolation factor 'W_HOCH' and the three compensation factors."
   ],
   "metadata": {
    "collapsed": false
   },
   "id": "8e1577f433a15472"
  },
  {
   "cell_type": "code",
   "source": [
    "# Add a new column 'wegkm_imp_hoch' which is the product of 'W_HOCH' and 'wegkm_imp'\n",
    "# Rounding up to lessen the effect of underestimation\n",
    "df_mun_sort['wegkm_imp_hoch'] = np.ceil(df_mun_sort['W_HOCH'] * df_mun_sort['factor_9_703_hoch'] * df_mun_sort['factor_no_SZ_hoch']) * df_mun_sort['wegkm_imp']\n",
    "\n",
    "# Specify the new column order\n",
    "new_column_order = [\"ST_WOCHE\", \"ST_WOTAG\", \"W_SZ\", \"W_GEW\",\"W_HOCH\", \"wegkm_imp_hoch\",  \"wegkm_imp\", \"wegkm\", \"ST_MONAT\", \"ST_JAHR\", \"feiertag\", \"saison\", \"zweck_mop\", \"hvm\", \"hvm_diff2\", \"arbwo\", \"factor_9_703_hoch\", \"factor_no_SZ_hoch\"]\n",
    "\n",
    "# Reassign the DataFrame to the new column order\n",
    "df_mun_sort = df_mun_sort[new_column_order]"
   ],
   "metadata": {
    "collapsed": false,
    "ExecuteTime": {
     "end_time": "2025-04-04T15:04:35.099911Z",
     "start_time": "2025-04-04T15:04:35.089068Z"
    }
   },
   "id": "525a13314ea331ce",
   "outputs": [],
   "execution_count": 9
  },
  {
   "cell_type": "markdown",
   "source": [
    "#### Scaling of extrapolation factors\n",
    "As the extrapolation factors are calculated for one sample day, we have to multiply the wegkm_imp_hoch by 7 because we split the data into 7 days and therefore roughly only have 1/7 of total wegkm per day. Below, three different approaches are discussed."
   ],
   "metadata": {
    "collapsed": false
   },
   "id": "4aa74cb9f017979"
  },
  {
   "cell_type": "markdown",
   "source": [
    "Some comments on the extrapolation factor W_HOCH (siehe Nutzerhandbuch MiD2017, S. 31ff und Methodenhandbuch MiD2017, S. 47ff):\n",
    "1. Using W_HOCH gives the estimated number of journeys made by the German resident population on an average day in Germany.\n",
    "2. W_HOCH already includes W_GEW, so we don't have to multiply it with W_GEW.\n",
    "3. W_GEW accounts for differing probability of being selected for the survey. It also aligns the distribution of relevant characteristics with the population. For example, small households are systematically underrepresented in the study. W_GEW corrects this bias.\n",
    "4. W_GEW was calibrated on Federal state, employment or predominant livelihood, school-leaving qualification, primary school area, gender and age group.\n",
    "5. A compensation factor is included in W_HOCH which accounts for people that were mobile but did not report on their trips. It also accounts for people that reported more than 8/12 trips, after which they were not recorded in detail.\n",
    "6. When evaluating characteristics with many missing values or when analyzing very specific groups with small case numbers (for example, 80+ year olds with a driving license in a multi-person household in a rural area), the influence of weight should be analyzed by comparing weighted and unweighted values before interpreting the results. -> It is not clear if we have to do this comparison for the Munich data as it still seems to be big and includes many different groups.\n",
    "7. The following should be noted when extrapolating to total values: Many MiD-variables have missing values (missings). For the correct determination of extrapolated values, it is often necessary to include some of these missing values in the extrapolation. See explanation on page 33 of the user manual. "
   ],
   "metadata": {
    "collapsed": false
   },
   "id": "ae244baf9360a342"
  },
  {
   "cell_type": "markdown",
   "source": [
    "#### Calculate weekly km\n",
    "Multiplying all wegkm_imp_hoch values by 7 to account for the split into 7 days"
   ],
   "metadata": {
    "collapsed": false
   },
   "id": "d1e19488a155c181"
  },
  {
   "cell_type": "code",
   "source": [
    "# Create 'wegkm_imp_hoch_fac' column -> Multiply all wegkm_imp_hoch values by 7 to account for the split into 7 days\n",
    "df_mun_sort['wegkm_imp_hoch_fac'] = df_mun_sort['wegkm_imp_hoch'] * 7\n",
    "\n",
    "# Specify the new column order\n",
    "new_column_order = [\"ST_WOCHE\", \"ST_WOTAG\",\"W_SZ\", \"W_GEW\",\"W_HOCH\", \"wegkm_imp_hoch\", \"wegkm_imp_hoch_fac\",  \"wegkm_imp\", \"wegkm\",  \"ST_MONAT\", \"ST_JAHR\", \"feiertag\", \"saison\", \"zweck_mop\", \"hvm\", \"hvm_diff2\", \"arbwo\", \"factor_9_703_hoch\", \"factor_no_SZ_hoch\"]\n",
    "\n",
    "# Reassign the DataFrame to the new column order\n",
    "df_mun_sort = df_mun_sort[new_column_order]"
   ],
   "metadata": {
    "collapsed": false,
    "ExecuteTime": {
     "end_time": "2025-04-04T15:04:35.110877Z",
     "start_time": "2025-04-04T15:04:35.101067Z"
    }
   },
   "id": "d23694ffb0eaf03",
   "outputs": [],
   "execution_count": 10
  },
  {
   "cell_type": "code",
   "source": [
    "# Group by 'ST_WOTAG' and calculate the sum for 'wegkm_imp_hoch_fac'\n",
    "total_wegkm_day = df_mun_sort.groupby('ST_WOTAG')['wegkm_imp_hoch_fac'].sum().reset_index()\n",
    "\n",
    "# Rename the columns for better clarity\n",
    "total_wegkm_day.columns = ['Day of Week', 'Total wegkm_imp_hoch_fac']\n",
    "\n",
    "# Optionally, map numeric days to weekday names\n",
    "weekday_names = {1: 'Monday', 2: 'Tuesday', 3: 'Wednesday', 4: 'Thursday', 5: 'Friday', 6: 'Saturday', 7: 'Sunday'}\n",
    "total_wegkm_day['Day of Week'] = total_wegkm_day['Day of Week'].map(weekday_names)\n"
   ],
   "metadata": {
    "collapsed": false,
    "ExecuteTime": {
     "end_time": "2025-04-04T15:04:35.120343Z",
     "start_time": "2025-04-04T15:04:35.111956Z"
    }
   },
   "id": "19a767270dadeecc",
   "outputs": [],
   "execution_count": 11
  },
  {
   "metadata": {},
   "cell_type": "markdown",
   "source": [
    "### Exponential smoothing of data\n",
    "Applying Holt-Winters Exponential Smoothing to the dataset before aggregation and saving aggregated data of plots in dictionary with dfs for each day. (dfs_tot_MIT_PT_nohw_hw)"
   ],
   "id": "a210553b76c76f70"
  },
  {
   "metadata": {
    "collapsed": false,
    "ExecuteTime": {
     "end_time": "2025-04-04T15:04:36.277999Z",
     "start_time": "2025-04-04T15:04:35.121501Z"
    }
   },
   "cell_type": "code",
   "source": [
    "# Mapping dictionary for hvm labels\n",
    "hvm_labels = {\n",
    "    3: \"MIV\",\n",
    "    5: \"ÖPNV\",\n",
    "}\n",
    "\n",
    "# Mapping dictionary for ST_WOTAG to weekday names\n",
    "weekday_names = {\n",
    "    1: \"Monday\",\n",
    "    2: \"Tuesday\",\n",
    "    3: \"Wednesday\",\n",
    "    4: \"Thursday\",\n",
    "    5: \"Friday\",\n",
    "    6: \"Saturday\",\n",
    "    7: \"Sunday\"\n",
    "}\n",
    "# Dictionary to store DataFrames for each day\n",
    "dfs_tot_MIT_PT_nohw_hw = {}\n",
    "\n",
    "# Function to smooth and aggregate data\n",
    "def smooth_and_aggregate(group, col, periods):\n",
    "    model = ExponentialSmoothing(\n",
    "        group[col],\n",
    "        seasonal='add',\n",
    "        seasonal_periods=periods\n",
    "    )\n",
    "    fitted_model = model.fit(optimized=True)\n",
    "    group[f'HW_{col}'] = fitted_model.fittedvalues\n",
    "    aggregated_smoothed = group.groupby('W_SZ')[f'HW_{col}'].sum().reset_index()\n",
    "    aggregated_original = group.groupby('W_SZ')[col].sum().reset_index()\n",
    "    return aggregated_smoothed, aggregated_original\n",
    "\n",
    "# Group by 'ST_WOTAG' and apply the smoothing function\n",
    "for name, group in df_mun_sort.groupby('ST_WOTAG'):\n",
    "    #plt.figure(figsize=(20, 6))\n",
    "    periods = 7\n",
    "\n",
    "    # Aggregate original and smoothed 'wegkm_imp_hoch_fac' data\n",
    "    aggregated_smoothed, aggregated_group = smooth_and_aggregate(group.copy(), 'wegkm_imp_hoch_fac', periods)\n",
    "\n",
    "    # Combine aggregated and smoothed data into one DataFrame\n",
    "    combined_df = pd.merge(aggregated_group, aggregated_smoothed, on='W_SZ')\n",
    "\n",
    "    # Aggregate original and smoothed 'MIV' data if available\n",
    "    miv_group = group[group['hvm'] == 3].copy()  # Prevent SettingWithCopyWarning\n",
    "    if not miv_group.empty:\n",
    "        miv_smoothed, miv_original = smooth_and_aggregate(miv_group, 'wegkm_imp_hoch_fac', periods)\n",
    "        combined_df = pd.merge(combined_df, miv_original, on='W_SZ', how='left', suffixes=('', '_MIV'))\n",
    "        combined_df = pd.merge(combined_df, miv_smoothed, on='W_SZ', how='left', suffixes=('', '_MIV'))\n",
    "\n",
    "    # Aggregate original and smoothed 'MIV' data if available\n",
    "    pt_group = group[group['hvm'] == 5].copy()  # Prevent SettingWithCopyWarning\n",
    "    if not pt_group.empty:\n",
    "        pt_smoothed, pt_original = smooth_and_aggregate(pt_group, 'wegkm_imp_hoch_fac', periods)\n",
    "        combined_df = pd.merge(combined_df, pt_original, on='W_SZ', how='left', suffixes=('', '_PT'))\n",
    "        combined_df = pd.merge(combined_df, pt_smoothed, on='W_SZ', how='left', suffixes=('', '_PT'))\n",
    "\n",
    "    # Store the combined DataFrame in the dictionary\n",
    "    day_name = weekday_names.get(name, \"Unknown\")\n",
    "    dfs_tot_MIT_PT_nohw_hw[day_name] = combined_df\n",
    "\n"
   ],
   "id": "462fd9a5fa45d9bc",
   "outputs": [
    {
     "name": "stderr",
     "output_type": "stream",
     "text": [
      "C:\\Anaconda3\\Lib\\site-packages\\statsmodels\\tsa\\base\\tsa_model.py:473: ValueWarning: An unsupported index was provided and will be ignored when e.g. forecasting.\n",
      "  self._init_dates(dates, freq)\n",
      "C:\\Anaconda3\\Lib\\site-packages\\statsmodels\\tsa\\holtwinters\\model.py:917: ConvergenceWarning: Optimization failed to converge. Check mle_retvals.\n",
      "  warnings.warn(\n",
      "C:\\Anaconda3\\Lib\\site-packages\\statsmodels\\tsa\\base\\tsa_model.py:473: ValueWarning: An unsupported index was provided and will be ignored when e.g. forecasting.\n",
      "  self._init_dates(dates, freq)\n",
      "C:\\Anaconda3\\Lib\\site-packages\\statsmodels\\tsa\\holtwinters\\model.py:917: ConvergenceWarning: Optimization failed to converge. Check mle_retvals.\n",
      "  warnings.warn(\n",
      "C:\\Anaconda3\\Lib\\site-packages\\statsmodels\\tsa\\base\\tsa_model.py:473: ValueWarning: An unsupported index was provided and will be ignored when e.g. forecasting.\n",
      "  self._init_dates(dates, freq)\n",
      "C:\\Anaconda3\\Lib\\site-packages\\statsmodels\\tsa\\holtwinters\\model.py:917: ConvergenceWarning: Optimization failed to converge. Check mle_retvals.\n",
      "  warnings.warn(\n",
      "C:\\Anaconda3\\Lib\\site-packages\\statsmodels\\tsa\\base\\tsa_model.py:473: ValueWarning: An unsupported index was provided and will be ignored when e.g. forecasting.\n",
      "  self._init_dates(dates, freq)\n",
      "C:\\Anaconda3\\Lib\\site-packages\\statsmodels\\tsa\\holtwinters\\model.py:917: ConvergenceWarning: Optimization failed to converge. Check mle_retvals.\n",
      "  warnings.warn(\n",
      "C:\\Anaconda3\\Lib\\site-packages\\statsmodels\\tsa\\base\\tsa_model.py:473: ValueWarning: An unsupported index was provided and will be ignored when e.g. forecasting.\n",
      "  self._init_dates(dates, freq)\n",
      "C:\\Anaconda3\\Lib\\site-packages\\statsmodels\\tsa\\holtwinters\\model.py:917: ConvergenceWarning: Optimization failed to converge. Check mle_retvals.\n",
      "  warnings.warn(\n",
      "C:\\Anaconda3\\Lib\\site-packages\\statsmodels\\tsa\\base\\tsa_model.py:473: ValueWarning: An unsupported index was provided and will be ignored when e.g. forecasting.\n",
      "  self._init_dates(dates, freq)\n",
      "C:\\Anaconda3\\Lib\\site-packages\\statsmodels\\tsa\\holtwinters\\model.py:917: ConvergenceWarning: Optimization failed to converge. Check mle_retvals.\n",
      "  warnings.warn(\n",
      "C:\\Anaconda3\\Lib\\site-packages\\statsmodels\\tsa\\base\\tsa_model.py:473: ValueWarning: An unsupported index was provided and will be ignored when e.g. forecasting.\n",
      "  self._init_dates(dates, freq)\n",
      "C:\\Anaconda3\\Lib\\site-packages\\statsmodels\\tsa\\holtwinters\\model.py:917: ConvergenceWarning: Optimization failed to converge. Check mle_retvals.\n",
      "  warnings.warn(\n",
      "C:\\Anaconda3\\Lib\\site-packages\\statsmodels\\tsa\\base\\tsa_model.py:473: ValueWarning: An unsupported index was provided and will be ignored when e.g. forecasting.\n",
      "  self._init_dates(dates, freq)\n",
      "C:\\Anaconda3\\Lib\\site-packages\\statsmodels\\tsa\\holtwinters\\model.py:917: ConvergenceWarning: Optimization failed to converge. Check mle_retvals.\n",
      "  warnings.warn(\n",
      "C:\\Anaconda3\\Lib\\site-packages\\statsmodels\\tsa\\base\\tsa_model.py:473: ValueWarning: An unsupported index was provided and will be ignored when e.g. forecasting.\n",
      "  self._init_dates(dates, freq)\n",
      "C:\\Anaconda3\\Lib\\site-packages\\statsmodels\\tsa\\holtwinters\\model.py:917: ConvergenceWarning: Optimization failed to converge. Check mle_retvals.\n",
      "  warnings.warn(\n",
      "C:\\Anaconda3\\Lib\\site-packages\\statsmodels\\tsa\\base\\tsa_model.py:473: ValueWarning: An unsupported index was provided and will be ignored when e.g. forecasting.\n",
      "  self._init_dates(dates, freq)\n",
      "C:\\Anaconda3\\Lib\\site-packages\\statsmodels\\tsa\\holtwinters\\model.py:917: ConvergenceWarning: Optimization failed to converge. Check mle_retvals.\n",
      "  warnings.warn(\n",
      "C:\\Anaconda3\\Lib\\site-packages\\statsmodels\\tsa\\base\\tsa_model.py:473: ValueWarning: An unsupported index was provided and will be ignored when e.g. forecasting.\n",
      "  self._init_dates(dates, freq)\n",
      "C:\\Anaconda3\\Lib\\site-packages\\statsmodels\\tsa\\holtwinters\\model.py:917: ConvergenceWarning: Optimization failed to converge. Check mle_retvals.\n",
      "  warnings.warn(\n",
      "C:\\Anaconda3\\Lib\\site-packages\\statsmodels\\tsa\\base\\tsa_model.py:473: ValueWarning: An unsupported index was provided and will be ignored when e.g. forecasting.\n",
      "  self._init_dates(dates, freq)\n",
      "C:\\Anaconda3\\Lib\\site-packages\\statsmodels\\tsa\\holtwinters\\model.py:917: ConvergenceWarning: Optimization failed to converge. Check mle_retvals.\n",
      "  warnings.warn(\n",
      "C:\\Anaconda3\\Lib\\site-packages\\statsmodels\\tsa\\base\\tsa_model.py:473: ValueWarning: An unsupported index was provided and will be ignored when e.g. forecasting.\n",
      "  self._init_dates(dates, freq)\n",
      "C:\\Anaconda3\\Lib\\site-packages\\statsmodels\\tsa\\holtwinters\\model.py:917: ConvergenceWarning: Optimization failed to converge. Check mle_retvals.\n",
      "  warnings.warn(\n",
      "C:\\Anaconda3\\Lib\\site-packages\\statsmodels\\tsa\\base\\tsa_model.py:473: ValueWarning: An unsupported index was provided and will be ignored when e.g. forecasting.\n",
      "  self._init_dates(dates, freq)\n",
      "C:\\Anaconda3\\Lib\\site-packages\\statsmodels\\tsa\\holtwinters\\model.py:917: ConvergenceWarning: Optimization failed to converge. Check mle_retvals.\n",
      "  warnings.warn(\n",
      "C:\\Anaconda3\\Lib\\site-packages\\statsmodels\\tsa\\base\\tsa_model.py:473: ValueWarning: An unsupported index was provided and will be ignored when e.g. forecasting.\n",
      "  self._init_dates(dates, freq)\n",
      "C:\\Anaconda3\\Lib\\site-packages\\statsmodels\\tsa\\holtwinters\\model.py:917: ConvergenceWarning: Optimization failed to converge. Check mle_retvals.\n",
      "  warnings.warn(\n",
      "C:\\Anaconda3\\Lib\\site-packages\\statsmodels\\tsa\\base\\tsa_model.py:473: ValueWarning: An unsupported index was provided and will be ignored when e.g. forecasting.\n",
      "  self._init_dates(dates, freq)\n",
      "C:\\Anaconda3\\Lib\\site-packages\\statsmodels\\tsa\\holtwinters\\model.py:917: ConvergenceWarning: Optimization failed to converge. Check mle_retvals.\n",
      "  warnings.warn(\n",
      "C:\\Anaconda3\\Lib\\site-packages\\statsmodels\\tsa\\base\\tsa_model.py:473: ValueWarning: An unsupported index was provided and will be ignored when e.g. forecasting.\n",
      "  self._init_dates(dates, freq)\n",
      "C:\\Anaconda3\\Lib\\site-packages\\statsmodels\\tsa\\holtwinters\\model.py:917: ConvergenceWarning: Optimization failed to converge. Check mle_retvals.\n",
      "  warnings.warn(\n",
      "C:\\Anaconda3\\Lib\\site-packages\\statsmodels\\tsa\\base\\tsa_model.py:473: ValueWarning: An unsupported index was provided and will be ignored when e.g. forecasting.\n",
      "  self._init_dates(dates, freq)\n",
      "C:\\Anaconda3\\Lib\\site-packages\\statsmodels\\tsa\\holtwinters\\model.py:917: ConvergenceWarning: Optimization failed to converge. Check mle_retvals.\n",
      "  warnings.warn(\n",
      "C:\\Anaconda3\\Lib\\site-packages\\statsmodels\\tsa\\base\\tsa_model.py:473: ValueWarning: An unsupported index was provided and will be ignored when e.g. forecasting.\n",
      "  self._init_dates(dates, freq)\n",
      "C:\\Anaconda3\\Lib\\site-packages\\statsmodels\\tsa\\holtwinters\\model.py:917: ConvergenceWarning: Optimization failed to converge. Check mle_retvals.\n",
      "  warnings.warn(\n",
      "C:\\Anaconda3\\Lib\\site-packages\\statsmodels\\tsa\\base\\tsa_model.py:473: ValueWarning: An unsupported index was provided and will be ignored when e.g. forecasting.\n",
      "  self._init_dates(dates, freq)\n",
      "C:\\Anaconda3\\Lib\\site-packages\\statsmodels\\tsa\\holtwinters\\model.py:917: ConvergenceWarning: Optimization failed to converge. Check mle_retvals.\n",
      "  warnings.warn(\n",
      "C:\\Anaconda3\\Lib\\site-packages\\statsmodels\\tsa\\base\\tsa_model.py:473: ValueWarning: An unsupported index was provided and will be ignored when e.g. forecasting.\n",
      "  self._init_dates(dates, freq)\n",
      "C:\\Anaconda3\\Lib\\site-packages\\statsmodels\\tsa\\holtwinters\\model.py:917: ConvergenceWarning: Optimization failed to converge. Check mle_retvals.\n",
      "  warnings.warn(\n"
     ]
    }
   ],
   "execution_count": 12
  },
  {
   "cell_type": "markdown",
   "source": [
    "### Interpolation of values\n",
    "Interpolating values."
   ],
   "metadata": {
    "collapsed": false
   },
   "id": "4e341b10c668657d"
  },
  {
   "cell_type": "code",
   "source": [
    "# Copying dictionary to avoid overwriting the original data\n",
    "dfs_interpolated = dfs_tot_MIT_PT_nohw_hw.copy()\n",
    "\n",
    "# Create a full time index by including missing times and reindexing, and fill missing values with NaN\n",
    "full_time_index = pd.date_range(start='1900-01-01 00:00:00', end='1900-01-01 23:00:00', freq='60T')\n",
    "for day, df in dfs_interpolated.items():\n",
    "    dfs_interpolated[day] = df.set_index('W_SZ').reindex(full_time_index)\n",
    "    \n",
    "# Interpolate missing values with method='time' in dfs_interpolated for all days\n",
    "for day, df in dfs_interpolated.items():\n",
    "    dfs_interpolated[day] = df.interpolate(method='time')\n",
    "\n",
    "# ONLY NEEDED FOR 30 MINUTE INTERVALS: Manually calculate the missing value on Monday at 00:00:00 for MIV (idea of wrap around time interpolation)\n",
    "# dfs_interpolated['Monday'].iloc[0]['wegkm_imp_hoch_fac_HW_MIV'] = (dfs_interpolated['Monday'].iloc[1]['wegkm_imp_hoch_fac_HW_MIV'] + dfs_interpolated['Monday'].iloc[-1]['wegkm_imp_hoch_fac_HW_MIV']) / 2\n",
    "# Manually calculate the missing value on Wednesday at 00:00:00 for PT\n",
    "# dfs_interpolated['Wednesday'].iloc[0]['wegkm_imp_hoch_fac_HW_PT'] = (dfs_interpolated['Wednesday'].iloc[1]['wegkm_imp_hoch_fac_HW_PT'] + dfs_interpolated['Wednesday'].iloc[-1]['wegkm_imp_hoch_fac_HW_PT']) / 2"
   ],
   "metadata": {
    "collapsed": false,
    "ExecuteTime": {
     "end_time": "2025-04-04T15:04:36.431021Z",
     "start_time": "2025-04-04T15:04:36.279075Z"
    }
   },
   "id": "fbf32b297e62c1d6",
   "outputs": [],
   "execution_count": 13
  },
  {
   "cell_type": "code",
   "source": [
    "# Copying dictionary to avoid overwriting the original data\n",
    "dfs_interpolated = dfs_tot_MIT_PT_nohw_hw.copy()\n",
    "\n",
    "# Create a full time index by including missing times and reindexing, and fill missing values with NaN\n",
    "full_time_index = pd.date_range(start='1900-01-01 00:00:00', end='1900-01-01 23:00:00', freq='60T')\n",
    "\n",
    "for day, df in dfs_interpolated.items():\n",
    "    # Reindex to include missing times\n",
    "    df = df.set_index('W_SZ').reindex(full_time_index)\n",
    "    \n",
    "    # Replace all NaN values with zero\n",
    "    df = df.fillna(0)\n",
    "    \n",
    "    # Store back to the dictionary\n",
    "    dfs_interpolated[day] = df\n",
    "\n",
    "# Interpolate missing values with method='time' in dfs_interpolated for all days\n",
    "for day, df in dfs_interpolated.items():\n",
    "    dfs_interpolated[day] = df.interpolate(method='time')"
   ],
   "metadata": {
    "collapsed": false,
    "ExecuteTime": {
     "end_time": "2025-04-04T15:04:36.450755Z",
     "start_time": "2025-04-04T15:04:36.432479Z"
    }
   },
   "id": "e665c3ad0d7073d",
   "outputs": [],
   "execution_count": 14
  },
  {
   "metadata": {},
   "cell_type": "markdown",
   "source": [
    "### Calculating daily values\n",
    "Data can be used for plotting the original data without Holt-Winters with interpolated values."
   ],
   "id": "1304363b57958aed"
  },
  {
   "cell_type": "code",
   "source": [
    "\n",
    "# Initialize DataFrame to collect daily totals\n",
    "daily_totals = pd.DataFrame()\n",
    "\n",
    "# Calculate daily totals from dfs_interpolated\n",
    "for day, df in dfs_interpolated.items():\n",
    "    # Sum each column for the current day to get total values\n",
    "    day_total = df[['wegkm_imp_hoch_fac', 'wegkm_imp_hoch_fac_MIV', 'wegkm_imp_hoch_fac_PT']].sum().to_frame().T\n",
    "    day_total['Day'] = day  # Add day information\n",
    "    daily_totals = pd.concat([daily_totals, day_total], ignore_index=True)\n",
    "\n",
    "# Ensure 'Day' is treated as a categorical variable to control the order\n",
    "daily_totals['Day'] = pd.Categorical(daily_totals['Day'], categories=['Monday', 'Tuesday', 'Wednesday', 'Thursday', 'Friday', 'Saturday', 'Sunday'], ordered=True)\n",
    "\n",
    "# Sort by 'Day' to ensure correct plotting order\n",
    "daily_totals = daily_totals.sort_values('Day')\n"
   ],
   "metadata": {
    "collapsed": false,
    "ExecuteTime": {
     "end_time": "2025-04-04T15:04:36.472182Z",
     "start_time": "2025-04-04T15:04:36.451843Z"
    }
   },
   "id": "8444e543f8fa1e8e",
   "outputs": [],
   "execution_count": 15
  },
  {
   "cell_type": "markdown",
   "source": [
    "# Price Elasticity Model"
   ],
   "metadata": {
    "collapsed": false
   },
   "id": "b5b62be637037a07"
  },
  {
   "cell_type": "code",
   "source": [
    "# Path to the Excel file\n",
    "#specify path for VehicleData.xlsx\n",
    "# VehicleDatapath = "
   ],
   "metadata": {
    "collapsed": false,
    "ExecuteTime": {
     "end_time": "2025-04-04T15:04:36.477384Z",
     "start_time": "2025-04-04T15:04:36.473656Z"
    }
   },
   "id": "ba0ab164522ca1f",
   "outputs": [],
   "execution_count": 16
  },
  {
   "cell_type": "markdown",
   "source": [
    "**Formula:**\n",
    "\n",
    "$$\n",
    "C_{vd} = (FC_{vd} + OHC_{vd}) + (VC_{vkm} \\cdot vkm_{tot/d}) + (VSC_{vh} \\cdot DT_{h/d})\n",
    "$$"
   ],
   "metadata": {
    "collapsed": false
   },
   "id": "29af9d65fccd1612"
  },
  {
   "metadata": {},
   "cell_type": "markdown",
   "source": [
    "### Initalizing of data"
   ],
   "id": "6707bbd77317cc8a"
  },
  {
   "metadata": {
    "collapsed": false,
    "ExecuteTime": {
     "end_time": "2025-04-04T15:04:36.939635Z",
     "start_time": "2025-04-04T15:04:36.478486Z"
    }
   },
   "cell_type": "code",
   "source": [
    "# Not used at the moment. Would be cool to calculate the values below using this formula\n",
    "params_df = pd.read_excel(VehicleDatapath, sheet_name='BerlinConvCostsTaxi')  # Adjust the sheet name if different\n",
    "\n",
    "\n",
    "# Load the exchange rate from the \"BerlinExchangeRate\" sheet\n",
    "# Try loading with header=None if unsure about the format\n",
    "exchange_rate_df = pd.read_excel(VehicleDatapath, sheet_name='BerlinExchangeRate', header=None)\n",
    "#print(exchange_rate_df)  # This will help us understand the data structure\n",
    "exchange_rate = exchange_rate_df.iloc[1, 0]\n",
    "\n",
    "\n",
    "# Convert DataFrame to a dictionary for base values\n",
    "base_values = params_df.set_index('Parameter')['Value (in USD)'].to_dict()\n",
    "\n",
    "# Extract individual values from the dictionary\n",
    "FCvd_Conv = base_values['FCvd']     # Fixed cost of the vehicle per day\n",
    "OHCvd_Conv = base_values['OHCvd']   # Overhead costs per day for the service provider\n",
    "VCvkm_Conv = base_values['VCvkm']   # Variable cost of the vehicle per kilometer\n",
    "vkmtot_Conv = base_values['vkmtot/d'] # Total kilometers driven per day\n",
    "VSCvh_Conv = base_values['VSCvh']   # Variable service costs per hour (e.g., the driver)\n",
    "DTh_Conv = base_values['DTh/d']       # Total hours driven per day\n",
    "\n",
    "# Calculate the average total cost per vehicle and day\n",
    "Cvd_Conv = (FCvd_Conv + OHCvd_Conv) + (VCvkm_Conv * vkmtot_Conv) + (VSCvh_Conv * DTh_Conv)\n",
    "\n",
    "# Convert the costs from USD to Euro\n",
    "Cvd_Conv_EUR = Cvd_Conv * exchange_rate"
   ],
   "id": "62115cb44a555a6b",
   "outputs": [],
   "execution_count": 17
  },
  {
   "cell_type": "code",
   "source": [
    "# Load parameter data from Excel\n",
    "params_df = pd.read_excel(VehicleDatapath, sheet_name='BaseValuesBerlin', index_col='Parameter')\n",
    "\n",
    "# Convert DataFrame to a dictionary for base values\n",
    "pricing_values = params_df['Base Value'].to_dict()\n",
    "\n",
    "# Extract individual values from the dictionary\n",
    "r = pricing_values['r']       # Profit Margin (3%) (gleich wie aus der vorherigen Zelle)\n",
    "p = pricing_values['p']       # Transaction fee (0.44%) (gleich wie aus der vorherigen Zelle)\n",
    "VAT = pricing_values['VAT']   # VAT (19%) (Deutschland)\n",
    "C_conv_priv = pricing_values['C_conv_priv'] * exchange_rate\n",
    "C_conv_bus = pricing_values['C_conv_bus'] * exchange_rate\n",
    "C_AE_ind_taxi = pricing_values['C_AE_ind_taxi'] * exchange_rate\n",
    "C_AE_pool_taxi = pricing_values['C_AE_pool_taxi'] * exchange_rate\n",
    "\n",
    "P_conv_priv = (C_conv_priv / ((1 - r) * (1 - p)))  * (1 + VAT)\n",
    "P_conv_bus = (C_conv_bus / ((1 - r) * (1 - p)))  * (1 + VAT)\n",
    "P_AE_ind_taxi = (C_AE_ind_taxi / ((1 - r) * (1 - p)))  * (1 + VAT)\n",
    "P_AE_pool_taxi= (C_AE_pool_taxi / ((1 - r) * (1 - p)))  * (1 + VAT)\n",
    "\n"
   ],
   "metadata": {
    "collapsed": false,
    "ExecuteTime": {
     "end_time": "2025-04-04T15:04:36.977540Z",
     "start_time": "2025-04-04T15:04:36.941891Z"
    }
   },
   "id": "efe282226ebbfcfa",
   "outputs": [],
   "execution_count": 18
  },
  {
   "cell_type": "code",
   "source": [
    "# Calculate the blocks for the waterfall\n",
    "additional_block = 0\n",
    "first_block = P_conv_priv - P_AE_ind_taxi\n",
    "\n",
    "second_block = (P_AE_ind_taxi-(P_AE_ind_taxi - 0.01))\n",
    "third_block = (P_AE_ind_taxi - 0.01) - P_AE_pool_taxi\n",
    "fourth_block = P_AE_pool_taxi\n",
    "\n",
    "# Define the initial total value and the blocks\n",
    "total_value = P_conv_priv\n",
    "blocks = [additional_block, first_block , second_block, third_block, fourth_block]\n",
    "\n",
    "# Calculate the cumulative values to create a falling waterfall\n",
    "cumulative = [total_value]\n",
    "for block in blocks:\n",
    "    cumulative.append(cumulative[-1] - block)\n"
   ],
   "metadata": {
    "collapsed": false,
    "ExecuteTime": {
     "end_time": "2025-04-04T15:04:36.984564Z",
     "start_time": "2025-04-04T15:04:36.978634Z"
    }
   },
   "id": "4c952e62c34791e9",
   "outputs": [],
   "execution_count": 19
  },
  {
   "cell_type": "code",
   "source": [
    "# Price elasticities taken from literature -> khanna2023 (fuel price elasticity)\n",
    "e_MIV = float(- 0.49)"
   ],
   "metadata": {
    "collapsed": false,
    "ExecuteTime": {
     "end_time": "2025-04-04T15:04:36.990035Z",
     "start_time": "2025-04-04T15:04:36.985712Z"
    }
   },
   "id": "5f69dbac82294e4d",
   "outputs": [],
   "execution_count": 20
  },
  {
   "cell_type": "code",
   "source": [
    "# Set 'W_SZ' as index for all DataFrames in the dictionary dfs_tot_MIT_PT_nohw_hw\n",
    "for day, df in dfs_tot_MIT_PT_nohw_hw.items():\n",
    "    dfs_tot_MIT_PT_nohw_hw[day] = df.set_index('W_SZ')"
   ],
   "metadata": {
    "collapsed": false,
    "ExecuteTime": {
     "end_time": "2025-04-04T15:04:37.016447Z",
     "start_time": "2025-04-04T15:04:36.991170Z"
    }
   },
   "id": "3ebafa4f5a5468d0",
   "outputs": [],
   "execution_count": 21
  },
  {
   "cell_type": "markdown",
   "source": [
    "### Assumptions for the calculation of SAEV demand\n",
    "1. Total travel demand only consists of private vehicles and public transport, even though wegkm data of taxis is also included but marginal\n",
    "2. The difference between D_MIT_AE_S and D_MIT is the additional demand for SAEVs \n",
    "\n"
   ],
   "metadata": {
    "collapsed": false
   },
   "id": "9ec913e908b44c31"
  },
  {
   "cell_type": "markdown",
   "source": [
    "**Formula:**\n",
    "\n",
    "$$\n",
    "D_{\\text{individual, AEV, t=2}} = \\epsilon_{\\text{individual}} \\cdot D_{\\text{individual, t=1}} \\cdot \\Delta P_{\\text{individual, AEV, t=2}} + D_{\\text{individual, t=1}}\n",
    "$$"
   ],
   "metadata": {
    "collapsed": false
   },
   "id": "19873d8fe33029b"
  },
  {
   "cell_type": "markdown",
   "source": [
    "## Scenario 1"
   ],
   "metadata": {
    "collapsed": false
   },
   "id": "c6d4fa6b68060844"
  },
  {
   "cell_type": "code",
   "source": [
    "# Function to calculate D_MIV_neu, D_OPNV_neu, and D_MIV_AE_S based on conditions\n",
    "def calculate_values_scenario1(row):  \n",
    "    # Price elasticity (-) * wegkm * Price difference per km (-) + wegkm (additional km)\n",
    "    d_miv_ae = e_MIV * row['wegkm_imp_hoch_fac_MIV'] * (P_AE_ind_taxi - P_conv_priv) + row['wegkm_imp_hoch_fac_MIV'] # Demand MIV autonomous electric\n",
    "       \n",
    "    # Price elasticity (-) * wegkm * Price difference per km (-) + wegkm (additional km)\n",
    "    d_miv_ae_s = e_MIV * d_miv_ae * (P_AE_pool_taxi - P_AE_ind_taxi) + d_miv_ae # Demand MIV autonomous electric shared\n",
    "    return pd.Series([d_miv_ae, d_miv_ae_s])\n",
    "\n",
    "import copy\n",
    "\n",
    "# Create a deep copy of the original dictionary\n",
    "dfs_tot_MIT_PT_nohw_hw_scenario1 = copy.deepcopy(dfs_interpolated)\n",
    "\n",
    "# Apply the function to each DataFrame in the dictionary\n",
    "for day, df in dfs_tot_MIT_PT_nohw_hw_scenario1.items():\n",
    "    df[['d_miv_ae',  'd_miv_ae_s']] = df.apply(calculate_values_scenario1, axis=1)\n",
    "    \n"
   ],
   "metadata": {
    "collapsed": false,
    "ExecuteTime": {
     "end_time": "2025-04-04T15:04:37.055804Z",
     "start_time": "2025-04-04T15:04:37.017505Z"
    }
   },
   "id": "d9088bfb94ba40fe",
   "outputs": [],
   "execution_count": 22
  },
  {
   "cell_type": "markdown",
   "source": [
    "## Scenario 2 /3 "
   ],
   "metadata": {
    "collapsed": false
   },
   "id": "87fcec25ec1f0f6c"
  },
  {
   "cell_type": "code",
   "source": [
    "\n",
    "# Function to calculate D_MIV_neu, D_OPNV_neu, and D_MIV_AE_S based on conditions\n",
    "def calculate_values(row):\n",
    "    if row['wegkm_imp_hoch_fac_MIV'] < row['wegkm_imp_hoch_fac']: # if MIV wegkm is less than all wegkm\n",
    "        # Price elasticity (-) * wegkm * Price difference per km (-) + wegkm (additional km)\n",
    "        d_miv_ae = e_MIV * row['wegkm_imp_hoch_fac_MIV'] * (P_AE_ind_taxi - P_conv_priv) + row['wegkm_imp_hoch_fac_MIV'] # Demand MIV autonomous electric\n",
    "        # Assumption: Total demand remains equal. Additional demand induced by price difference d_miv_ae is substracted from PT\n",
    "        d_opnv_ae = row['wegkm_imp_hoch_fac'] - d_miv_ae # Demand public transport autonomous electric\n",
    "        # Price elasticity (-) * wegkm * Price difference per km (-) + wegkm (additional km)\n",
    "        d_miv_ae_s = e_MIV * d_miv_ae * (P_AE_pool_taxi - P_AE_ind_taxi) + d_miv_ae # Demand MIV autonomous electric shared\n",
    "        # Assumption: Total demand remains equal. Additional demand induced by price difference d_miv_ae is substracted from PT\n",
    "        d_opnv_ae_s = row['wegkm_imp_hoch_fac'] - d_miv_ae_s # Demand public transport autonomous electric shared\n",
    "\n",
    "        # Ensure sum conditions\n",
    "        if d_miv_ae + d_opnv_ae >= row['wegkm_imp_hoch_fac']:\n",
    "            excess = (d_miv_ae + d_opnv_ae) - row['wegkm_imp_hoch_fac']\n",
    "            d_opnv_ae -= excess\n",
    "\n",
    "        if d_miv_ae_s + d_opnv_ae_s >= row['wegkm_imp_hoch_fac']:\n",
    "            excess = (d_miv_ae_s + d_opnv_ae_s) - row['wegkm_imp_hoch_fac']\n",
    "            d_opnv_ae_s -= excess\n",
    "            \n",
    "        if d_miv_ae > row['wegkm_imp_hoch_fac']:\n",
    "            d_miv_ae = row['wegkm_imp_hoch_fac']\n",
    "            d_opnv_ae = d_miv_ae - d_miv_ae\n",
    "            \n",
    "        if d_miv_ae_s > row['wegkm_imp_hoch_fac']:\n",
    "            d_miv_ae_s = row['wegkm_imp_hoch_fac']\n",
    "            d_opnv_ae_s = d_miv_ae_s - d_miv_ae_s\n",
    "\n",
    "    else:\n",
    "        d_miv_ae = row['wegkm_imp_hoch_fac_MIV']  \n",
    "        d_opnv_ae = 0  \n",
    "        d_opnv_ae_s = 0\n",
    "        d_miv_ae_s = d_miv_ae  \n",
    "\n",
    "    return pd.Series([d_miv_ae, d_opnv_ae, d_miv_ae_s, d_opnv_ae_s])\n",
    "\n",
    "# Apply the function to each DataFrame in the dictionary\n",
    "for day, df in dfs_interpolated.items():\n",
    "    df[['d_miv_ae', 'd_opnv_ae', 'd_miv_ae_s', 'd_opnv_ae_s']] = df.apply(calculate_values, axis=1)\n",
    "\n"
   ],
   "metadata": {
    "collapsed": false,
    "ExecuteTime": {
     "end_time": "2025-04-04T15:04:37.101647Z",
     "start_time": "2025-04-04T15:04:37.058060Z"
    }
   },
   "id": "8ccc8485d5a975d5",
   "outputs": [],
   "execution_count": 23
  },
  {
   "cell_type": "markdown",
   "source": [
    "### Calculating SAEV wegkm"
   ],
   "metadata": {
    "collapsed": false
   },
   "id": "845392cc24c3fb9b"
  },
  {
   "cell_type": "markdown",
   "source": [
    "Upper boundary / Scenario 1: Assuming total travel demand is elastic and MIT demand and PT demand is inelastic (we add additional SAEV on top)\n",
    "Lower boundary / Scenario 2: Assuming total travel demand and MIT demand is inelastic and PT demand is elastic (only PT travellers switch to SAEV)\n",
    "Lower boundary / Scenario 3: Assuming total travel demand and PT is inelastic and MIT demand is elastic (only MIT travellers switch to SAEV)"
   ],
   "metadata": {
    "collapsed": false
   },
   "id": "c67acfd201f75b17"
  },
  {
   "cell_type": "code",
   "source": [
    "# Calculate a new column for all dfs in the dictionary that is called wegkm_saev and calculated by d_miv_ae_s - wegkm_imp_hoch_fac_MIV\n",
    "for day, df in dfs_tot_MIT_PT_nohw_hw_scenario1.items():\n",
    "    df['wegkm_saev'] = df['d_miv_ae_s'] - df['wegkm_imp_hoch_fac_MIV']\n",
    "    \n",
    "# Calculate a new column for all dfs in the dictionary that is called wegkm_saev and calculated by d_miv_ae_s - wegkm_imp_hoch_fac_MIV\n",
    "for day, df in dfs_interpolated.items():\n",
    "    df['wegkm_saev'] = df['d_miv_ae_s'] - df['wegkm_imp_hoch_fac_MIV']"
   ],
   "metadata": {
    "collapsed": false,
    "ExecuteTime": {
     "end_time": "2025-04-04T15:04:37.129310Z",
     "start_time": "2025-04-04T15:04:37.118787Z"
    }
   },
   "id": "2b1ee37ab5a8d173",
   "outputs": [],
   "execution_count": 24
  },
  {
   "cell_type": "markdown",
   "source": [
    "## Scenario 1"
   ],
   "metadata": {
    "collapsed": false
   },
   "id": "ce7970498657ef55"
  },
  {
   "cell_type": "code",
   "source": [
    "# Group dfs_tot_MIT_PT_nohw_hw_scenario1 by 'wegkm_imp_hoch_fac', 'wegkm_imp_hoch_fac_MIV', wegkm_imp_hoch_fac_PT, and 'wegkm_saev' by 'ST_WOTAG' and save in a new df\n",
    "# Initialize an empty DataFrame to collect the results\n",
    "total_wegkm_day_SAEV = pd.DataFrame()\n",
    "\n",
    "# Iterate over the dictionary of DataFrames\n",
    "for day, df in dfs_tot_MIT_PT_nohw_hw_scenario1.items():\n",
    "    # Sum the specified columns for each day DataFrame\n",
    "    day_sum = df[['wegkm_imp_hoch_fac', 'wegkm_imp_hoch_fac_MIV', 'wegkm_imp_hoch_fac_PT', 'wegkm_saev']].sum().to_frame().T\n",
    "    \n",
    "    # Add the day information (could be an index or a column as needed)\n",
    "    day_sum['day'] = day\n",
    "    \n",
    "    # Append the summed DataFrame to the results\n",
    "    total_wegkm_day_SAEV = pd.concat([total_wegkm_day_SAEV, day_sum], ignore_index=True)\n",
    "    \n",
    "# Calculate the total sum of the other columns (excluding 'wegkm_saev')\n",
    "total_wegkm_day_SAEV['total_wegkm'] = total_wegkm_day_SAEV[['wegkm_imp_hoch_fac_MIV', 'wegkm_imp_hoch_fac_PT']].sum(axis=1)\n",
    "\n",
    "# Calculate the ratio d_saev/d_tot\n",
    "total_wegkm_day_SAEV['d_saev/d_tot'] = total_wegkm_day_SAEV['wegkm_saev'] / (total_wegkm_day_SAEV['wegkm_saev'] + total_wegkm_day_SAEV['total_wegkm'])\n",
    "# Save only the data that was plotted in a new DataFrame called total_wegkm_day_Scenario3 and rename the column in the same line\n",
    "total_wegkm_day_Scenario1 = total_wegkm_day_SAEV[['day', 'wegkm_imp_hoch_fac_MIV', 'wegkm_imp_hoch_fac_PT', 'wegkm_saev', 'd_saev/d_tot']].rename(columns={'wegkm_imp_hoch_fac_MIV': 'd_mit_ae_s', 'wegkm_imp_hoch_fac_PT': 'd_opnv_ae_s'}).copy()\n",
    "\n"
   ],
   "metadata": {
    "collapsed": false,
    "ExecuteTime": {
     "end_time": "2025-04-04T15:04:37.152521Z",
     "start_time": "2025-04-04T15:04:37.130377Z"
    }
   },
   "id": "23a19f8c7a548cf3",
   "outputs": [],
   "execution_count": 25
  },
  {
   "cell_type": "code",
   "outputs": [],
   "source": [
    "# Function to format y-axis ticks as millions\n",
    "def millions(x, pos):\n",
    "    'The two args are the value and tick position'\n",
    "    return '%1.1fM' % (x * 1e-6)"
   ],
   "metadata": {
    "collapsed": false,
    "ExecuteTime": {
     "end_time": "2025-04-04T15:04:37.157762Z",
     "start_time": "2025-04-04T15:04:37.153596Z"
    }
   },
   "id": "36d0bb26497a5f9",
   "execution_count": 26
  },
  {
   "cell_type": "code",
   "source": [
    "custom_colors = ['#fba72f', '#f7251c', '#49fdfe']\n",
    "\n",
    "# Plot the data using pandas plot with stacked bars\n",
    "ax = total_wegkm_day_SAEV.plot(x='day', y=['wegkm_imp_hoch_fac_MIV', 'wegkm_imp_hoch_fac_PT', 'wegkm_saev'], kind='bar', stacked=True, figsize=(8, 4), rot=0, color=custom_colors)\n",
    "\n",
    "# Set title and labels\n",
    "ax.set_xlabel('Day')\n",
    "ax.set_ylabel('Total Travel Demand per Day (km)')\n",
    "ax.set_title('Scenario 1: Total Travel Demand per Representative Weekday in Munich')\n",
    "\n",
    "# Customize the legend with new labels\n",
    "handles, labels = ax.get_legend_handles_labels()\n",
    "labels = ['D_MIT', 'D_PT', 'D_SAEV']\n",
    "ax.legend(handles[::-1], labels[::-1], title='Type', bbox_to_anchor=(1, 1.02), loc='upper left')\n",
    "\n",
    "# The last container corresponds to 'wegkm_saev'\n",
    "container = ax.containers[-1]\n",
    "labels = [f'{(v*100):.1f}%' if v != 0 else '' for v in total_wegkm_day_SAEV['d_saev/d_tot']]\n",
    "ax.bar_label(container, labels=labels, label_type='center')\n",
    "\n",
    "# Apply the custom formatter to the y-axis\n",
    "ax.yaxis.set_major_formatter(FuncFormatter(millions))\n",
    "\n",
    "\n",
    "\n",
    "\n",
    "\n",
    "# Show the plot\n",
    "plt.tight_layout()\n",
    "plt.show()"
   ],
   "metadata": {
    "collapsed": false,
    "ExecuteTime": {
     "end_time": "2025-04-04T15:04:37.531473Z",
     "start_time": "2025-04-04T15:04:37.158853Z"
    }
   },
   "id": "ca641476ab72693e",
   "outputs": [
    {
     "data": {
      "text/plain": "<Figure size 800x400 with 1 Axes>",
      "image/png": "[encoded data removed]"
     },
     "metadata": {},
     "output_type": "display_data"
    }
   ],
   "execution_count": 27
  },
  {
   "cell_type": "markdown",
   "source": [
    "## Scenario 2"
   ],
   "metadata": {
    "collapsed": false
   },
   "id": "16610a5f4b7f124b"
  },
  {
   "cell_type": "code",
   "source": [
    "# Group dfs_tot_MIT_PT_nohw_hw by 'wegkm_imp_hoch_fac', 'wegkm_imp_hoch_fac_MIV', d_opnv_ae_s, and 'wegkm_saev' by 'ST_WOTAG' and save in a new df\n",
    "# Initialize an empty DataFrame to collect the results\n",
    "total_wegkm_day_SAEV = pd.DataFrame()\n",
    "\n",
    "# Iterate over the dictionary of DataFrames\n",
    "for day, df in dfs_interpolated.items():\n",
    "    # Sum the specified columns for each day DataFrame\n",
    "    day_sum = df[['wegkm_imp_hoch_fac', 'wegkm_imp_hoch_fac_MIV', 'd_opnv_ae_s', 'wegkm_saev']].sum().to_frame().T\n",
    "    \n",
    "    # Add the day information (could be an index or a column as needed)\n",
    "    day_sum['day'] = day\n",
    "    \n",
    "    # Append the summed DataFrame to the results\n",
    "    total_wegkm_day_SAEV = pd.concat([total_wegkm_day_SAEV, day_sum], ignore_index=True)\n",
    "    \n",
    "total_wegkm_day_SAEV['d_saev/d_miv'] = total_wegkm_day_SAEV['wegkm_saev'] / total_wegkm_day_SAEV['wegkm_imp_hoch_fac_MIV']\n",
    "total_wegkm_day_SAEV['d_saev/d_tot'] = total_wegkm_day_SAEV['wegkm_saev'] / total_wegkm_day_SAEV['wegkm_imp_hoch_fac']\n",
    "\n",
    "# Save only the data that was plotted in a new DataFrame called total_wegkm_day_Scenario2 and rename the column in the same line\n",
    "total_wegkm_day_Scenario2 = total_wegkm_day_SAEV[['day', 'wegkm_imp_hoch_fac_MIV', 'd_opnv_ae_s', 'wegkm_saev', 'd_saev/d_tot']].rename(columns={'wegkm_imp_hoch_fac_MIV': 'd_mit_ae_s'}).copy()\n",
    "\n"
   ],
   "metadata": {
    "collapsed": false,
    "ExecuteTime": {
     "end_time": "2025-04-04T15:04:37.555469Z",
     "start_time": "2025-04-04T15:04:37.532582Z"
    }
   },
   "id": "1e4205d7748e2bf5",
   "outputs": [],
   "execution_count": 28
  },
  {
   "cell_type": "code",
   "source": [
    "custom_colors = ['#fba72f', '#f7251c', '#49fdfe']\n",
    "\n",
    "# Plot the data using pandas plot with stacked bars\n",
    "ax = total_wegkm_day_SAEV.plot(x='day', y=['wegkm_imp_hoch_fac_MIV', 'd_opnv_ae_s', 'wegkm_saev'], kind='bar', stacked=True, figsize=(8, 4), rot=0, color=custom_colors)\n",
    "\n",
    "# Set title and labels\n",
    "ax.set_xlabel('Day')\n",
    "ax.set_ylabel('Total Travel Demand per Day (km)')\n",
    "ax.set_title('Scenario 2: Total Travel Demand per Representative Weekday in Munich')\n",
    "\n",
    "# Customize the legend with new labels\n",
    "handles, labels = ax.get_legend_handles_labels()\n",
    "labels = ['D_MIT', 'D_PT', 'D_SAEV']\n",
    "ax.legend(handles[::-1], labels[::-1], title='Type', bbox_to_anchor=(1, 1.02), loc='upper left')\n",
    "\n",
    "# The last container corresponds to 'wegkm_saev'\n",
    "container = ax.containers[-1]\n",
    "labels = [f'{(v*100):.1f}%' if v != 0 else '' for v in total_wegkm_day_SAEV['d_saev/d_tot']]\n",
    "ax.bar_label(container, labels=labels, label_type='center')\n",
    "\n",
    "# Apply the custom formatter to the y-axis\n",
    "ax.yaxis.set_major_formatter(FuncFormatter(millions))\n",
    "\n",
    "\n",
    "# Show the plot\n",
    "plt.tight_layout()\n",
    "plt.show()"
   ],
   "metadata": {
    "collapsed": false,
    "ExecuteTime": {
     "end_time": "2025-04-04T15:04:37.951166Z",
     "start_time": "2025-04-04T15:04:37.556589Z"
    }
   },
   "id": "e5bcca9ff1d56653",
   "outputs": [
    {
     "data": {
      "text/plain": "<Figure size 800x400 with 1 Axes>",
      "image/png": "[encoded data removed]"
     },
     "metadata": {},
     "output_type": "display_data"
    }
   ],
   "execution_count": 29
  },
  {
   "cell_type": "code",
   "source": [
    "# Initialize an empty DataFrame to store the cumulative sum across all days\n",
    "week_sum_df = pd.DataFrame()\n",
    "\n",
    "# Iterate over the dictionary of DataFrames\n",
    "for day, df in dfs_interpolated.items():\n",
    "    if week_sum_df.empty:\n",
    "        # If week_sum_df is empty, initialize it with the current DataFrame\n",
    "        week_sum_df = df.copy()\n",
    "    else:\n",
    "        # Add the current day's DataFrame to the cumulative sum DataFrame\n",
    "        week_sum_df = week_sum_df.add(df, fill_value=0)\n",
    "\n",
    "\n",
    "\n",
    "# Sum each column\n",
    "week_column_sum_df = week_sum_df.sum(axis=0).to_frame().T\n",
    "\n"
   ],
   "metadata": {
    "collapsed": false,
    "ExecuteTime": {
     "end_time": "2025-04-04T15:04:37.961369Z",
     "start_time": "2025-04-04T15:04:37.952241Z"
    }
   },
   "id": "70c4ae3c3e897917",
   "outputs": [],
   "execution_count": 30
  },
  {
   "cell_type": "markdown",
   "source": [
    "## Scenario 3"
   ],
   "metadata": {
    "collapsed": false
   },
   "id": "c57d05b140a360f7"
  },
  {
   "cell_type": "code",
   "source": [
    "# Calculate a new column for all dfs in the dictionary that is called wegkm_saev and calculated by d_miv_ae_s - wegkm_imp_hoch_fac_MIV\n",
    "for day, df in dfs_interpolated.items():\n",
    "    df['wegkm_saev'] = df['d_miv_ae_s'] - df['wegkm_imp_hoch_fac_MIV']\n",
    "    df['d_mit_ae_s'] =  df['wegkm_imp_hoch_fac_MIV'] - df['wegkm_saev']\n",
    "    "
   ],
   "metadata": {
    "collapsed": false,
    "ExecuteTime": {
     "end_time": "2025-04-04T15:04:37.970779Z",
     "start_time": "2025-04-04T15:04:37.962452Z"
    }
   },
   "id": "44a0c93aa61284cc",
   "outputs": [],
   "execution_count": 31
  },
  {
   "cell_type": "code",
   "source": [
    "# Group dfs_tot_MIT_PT_nohw_hw by 'wegkm_imp_hoch_fac', 'wegkm_imp_hoch_fac_MIV', d_opnv_ae_s, and 'wegkm_saev' by 'ST_WOTAG' and save in a new df\n",
    "# Initialize an empty DataFrame to collect the results\n",
    "total_wegkm_day_SAEV = pd.DataFrame()\n",
    "\n",
    "# Iterate over the dictionary of DataFrames\n",
    "for day, df in dfs_interpolated.items():\n",
    "    # Sum the specified columns for each day DataFrame\n",
    "    day_sum = df[['wegkm_imp_hoch_fac', 'd_mit_ae_s', 'wegkm_imp_hoch_fac_PT', 'wegkm_saev']].sum().to_frame().T\n",
    "    \n",
    "    # Add the day information (could be an index or a column as needed)\n",
    "    day_sum['day'] = day\n",
    "    \n",
    "    # Append the summed DataFrame to the results\n",
    "    total_wegkm_day_SAEV = pd.concat([total_wegkm_day_SAEV, day_sum], ignore_index=True)\n",
    "    \n",
    "#total_wegkm_day_SAEV['d_saev/d_miv'] = total_wegkm_day_SAEV['wegkm_saev'] / total_wegkm_day_SAEV['wegkm_imp_hoch_fac_MIV']\n",
    "total_wegkm_day_SAEV['d_saev/d_tot'] = total_wegkm_day_SAEV['wegkm_saev'] / total_wegkm_day_SAEV['wegkm_imp_hoch_fac']\n",
    "\n",
    "# Save only the data that was plotted in a new DataFrame called total_wegkm_day_Scenario3 and rename the column in the same line\n",
    "total_wegkm_day_Scenario3 = total_wegkm_day_SAEV[['day', 'd_mit_ae_s', 'wegkm_imp_hoch_fac_PT', 'wegkm_saev', 'd_saev/d_tot']].rename(columns={'wegkm_imp_hoch_fac_PT': 'd_opnv_ae_s'}).copy()\n",
    "\n"
   ],
   "metadata": {
    "collapsed": false,
    "ExecuteTime": {
     "end_time": "2025-04-04T15:04:37.993576Z",
     "start_time": "2025-04-04T15:04:37.972125Z"
    }
   },
   "id": "4bb6b3d4cc7fe052",
   "outputs": [],
   "execution_count": 32
  },
  {
   "cell_type": "code",
   "source": [
    "custom_colors = ['#fba72f', '#f7251c', '#49fdfe']\n",
    "\n",
    "# Plot the data using pandas plot with stacked bars\n",
    "ax = total_wegkm_day_SAEV.plot(x='day', y=['d_mit_ae_s', 'wegkm_imp_hoch_fac_PT', 'wegkm_saev'], kind='bar', stacked=True, figsize=(8, 4), rot=0, color=custom_colors)\n",
    "\n",
    "# Set title and labels\n",
    "ax.set_xlabel('Day')\n",
    "ax.set_ylabel('Total Travel Demand per Day (km)')\n",
    "ax.set_title('Scenario 3: Total Travel Demand per Representative Weekday in Munich')\n",
    "\n",
    "# Customize the legend with new labels\n",
    "handles, labels = ax.get_legend_handles_labels()\n",
    "labels = ['D_MIT', 'D_PT', 'D_SAEV']\n",
    "ax.legend(handles[::-1], labels[::-1], title='Type', bbox_to_anchor=(1, 1.02), loc='upper left')\n",
    "\n",
    "# The last container corresponds to 'wegkm_saev'\n",
    "container = ax.containers[-1]\n",
    "labels = [f'{(v*100):.1f}%' if v != 0 else '' for v in total_wegkm_day_SAEV['d_saev/d_tot']]\n",
    "ax.bar_label(container, labels=labels, label_type='center')\n",
    "\n",
    "# Apply the custom formatter to the y-axis\n",
    "ax.yaxis.set_major_formatter(FuncFormatter(millions))\n",
    "\n",
    "\n",
    "\n",
    "# Show the plot\n",
    "plt.tight_layout()\n",
    "plt.show()"
   ],
   "metadata": {
    "collapsed": false,
    "ExecuteTime": {
     "end_time": "2025-04-04T15:04:38.309194Z",
     "start_time": "2025-04-04T15:04:37.995728Z"
    }
   },
   "id": "a47f6fc8b9363105",
   "outputs": [
    {
     "data": {
      "text/plain": "<Figure size 800x400 with 1 Axes>",
      "image/png": "[encoded data removed]"
     },
     "metadata": {},
     "output_type": "display_data"
    }
   ],
   "execution_count": 33
  },
  {
   "cell_type": "code",
   "source": [
    "# Custom colors for the types\n",
    "custom_colors = ['#fba72f', '#f7251c', '#49fdfe']  # Colors for D_MIT, D_PT, D_SAEV\n",
    "\n",
    "# Assuming you have the data in DataFrames\n",
    "# total_wegkm_day_Scenario1, total_wegkm_day_Scenario2, total_wegkm_day_Scenario3\n",
    "\n",
    "# Add a 'Scenario' column to each DataFrame to distinguish between the scenarios\n",
    "total_wegkm_day_Scenario1['Scenario'] = 'Scenario 1'\n",
    "total_wegkm_day_Scenario2['Scenario'] = 'Scenario 2'\n",
    "total_wegkm_day_Scenario3['Scenario'] = 'Scenario 3'\n",
    "\n",
    "# Combine the DataFrames\n",
    "combined_df = pd.concat([total_wegkm_day_Scenario1, total_wegkm_day_Scenario2, total_wegkm_day_Scenario3])\n",
    "\n",
    "# Ensure 'day' is treated as a categorical variable to control the order\n",
    "combined_df['day'] = pd.Categorical(combined_df['day'], categories=['Monday', 'Tuesday', 'Wednesday', 'Thursday', 'Friday', 'Saturday', 'Sunday'], ordered=True)\n",
    "\n",
    "# Sort by 'day' and 'Scenario' to ensure correct plotting order\n",
    "combined_df = combined_df.sort_values(['day', 'Scenario'])\n",
    "\n",
    "# Create a pivot table for plotting\n",
    "pivot_df = combined_df.pivot_table(index='day', columns='Scenario', values=['d_mit_ae_s', 'd_opnv_ae_s', 'wegkm_saev', 'd_saev/d_tot'])\n",
    "\n",
    "# Set up the plot\n",
    "fig, ax = plt.subplots(figsize=(12, 6))\n",
    "\n",
    "# Set the width of each bar\n",
    "bar_width = 0.2\n",
    "\n",
    "# Set the positions of the bars on the x-axis\n",
    "positions = np.arange(len(pivot_df))\n",
    "\n",
    "# Plot the data for each scenario\n",
    "for i, scenario in enumerate(pivot_df.columns.levels[1]):\n",
    "    scenario_data = pivot_df.xs(scenario, level='Scenario', axis=1)\n",
    "    bars_mit = ax.bar(positions + i * bar_width, scenario_data['d_mit_ae_s'], bar_width, label=f'Scenario {i+1}', color=custom_colors[0])\n",
    "    bars_opnv = ax.bar(positions + i * bar_width, scenario_data['d_opnv_ae_s'], bar_width, bottom=scenario_data['d_mit_ae_s'], color=custom_colors[1])\n",
    "    bars_saev = ax.bar(positions + i * bar_width, scenario_data['wegkm_saev'], bar_width, bottom=scenario_data['d_mit_ae_s'] + scenario_data['d_opnv_ae_s'], color=custom_colors[2])\n",
    "\n",
    "    # Add labels below the bars indicating the scenario\n",
    "    for bar in bars_saev:\n",
    "        ax.text(\n",
    "            bar.get_x() + bar.get_width() / 2, \n",
    "            -0.2,  # Adjust this value for positioning below the x-axis\n",
    "            f'Scenario {i+1}', \n",
    "            ha='center', \n",
    "            va='top', \n",
    "            fontsize=8, \n",
    "            rotation = 90,\n",
    "            color='black', \n",
    "            transform=ax.get_xaxis_transform()  # Ensures the text is positioned relative to the x-axis\n",
    "        )\n",
    "\n",
    "# Add percentage labels for 'wegkm_saev' for each scenario explicitly\n",
    "# Scenario 1\n",
    "container_scenario_1 = ax.containers[2]  # The container for Scenario 1 'wegkm_saev' bars\n",
    "labels_scenario_1 = [f'{(v * 100):.1f}%' if v != 0 else '' for v in pivot_df[('d_saev/d_tot', 'Scenario 1')]]\n",
    "ax.bar_label(container_scenario_1, labels=labels_scenario_1, label_type='center')\n",
    "\n",
    "# Scenario 2\n",
    "container_scenario_2 = ax.containers[5]  # The container for Scenario 2 'wegkm_saev' bars\n",
    "labels_scenario_2 = [f'{(v * 100):.1f}%' if v != 0 else '' for v in pivot_df[('d_saev/d_tot', 'Scenario 2')]]\n",
    "ax.bar_label(container_scenario_2, labels=labels_scenario_2, label_type='center')\n",
    "\n",
    "# Scenario 3\n",
    "container_scenario_3 = ax.containers[8]  # The container for Scenario 3 'wegkm_saev' bars\n",
    "labels_scenario_3 = [f'{(v * 100):.1f}%' if v != 0 else '' for v in pivot_df[('d_saev/d_tot', 'Scenario 3')]]\n",
    "ax.bar_label(container_scenario_3, labels=labels_scenario_3, label_type='center')\n",
    "\n",
    "# Set x-axis labels\n",
    "ax.set_xticks(positions + bar_width)\n",
    "ax.set_xticklabels(pivot_df.index)\n",
    "\n",
    "# Set title and labels\n",
    "ax.set_xlabel('Day')\n",
    "ax.set_ylabel('Total Travel Demand per Day (km)')\n",
    "ax.set_title('Total Travel Demand per Representative Weekday in Munich Across Scenarios')\n",
    "\n",
    "# Customize the legend with new labels\n",
    "handles, labels = ax.get_legend_handles_labels()\n",
    "labels = ['D_SAEV', 'D_PT', 'D_MIT']\n",
    "ax.legend(handles[::-1], labels[::-1], title='Type', bbox_to_anchor=(1, 1.02), loc='upper left')\n",
    "\n",
    "# Apply the custom formatter to the y-axis\n",
    "ax.yaxis.set_major_formatter(FuncFormatter(lambda x, _: f'{x/1e6:.1f}M'))\n",
    "\n",
    "# Apply tight layout\n",
    "plt.tight_layout()\n",
    "\n",
    "\n",
    "# Show the plot\n",
    "plt.show()"
   ],
   "metadata": {
    "collapsed": false,
    "ExecuteTime": {
     "end_time": "2025-04-04T15:04:38.864494Z",
     "start_time": "2025-04-04T15:04:38.311412Z"
    }
   },
   "id": "41e4ae7f6c355a56",
   "outputs": [
    {
     "data": {
      "text/plain": "<Figure size 1200x600 with 1 Axes>",
      "image/png": "[encoded data removed]"
     },
     "metadata": {},
     "output_type": "display_data"
    }
   ],
   "execution_count": 34
  },
  {
   "cell_type": "code",
   "outputs": [
    {
     "data": {
      "text/plain": "<Figure size 1000x600 with 1 Axes>",
      "image/png": "[encoded data removed]"
     },
     "metadata": {},
     "output_type": "display_data"
    }
   ],
   "source": [
    "# Compute total travel demand per week for each mode across all scenarios\n",
    "total_demand_week = pd.DataFrame({\n",
    "    'MT': [pivot_df[('d_mit_ae_s', 'Scenario 1')].sum(), pivot_df[('d_mit_ae_s', 'Scenario 2')].sum(), pivot_df[('d_mit_ae_s', 'Scenario 3')].sum()],\n",
    "    'PT': [pivot_df[('d_opnv_ae_s', 'Scenario 1')].sum(), pivot_df[('d_opnv_ae_s', 'Scenario 2')].sum(), pivot_df[('d_opnv_ae_s', 'Scenario 3')].sum()],\n",
    "    'SAEV': [pivot_df[('wegkm_saev', 'Scenario 1')].sum(), pivot_df[('wegkm_saev', 'Scenario 2')].sum(), pivot_df[('wegkm_saev', 'Scenario 3')].sum()]\n",
    "}, index=['Scenario 1', 'Scenario 2', 'Scenario 3'])\n",
    "\n",
    "# Baseline data: Calculate the total baseline travel demand per week for each mode\n",
    "baseline_demand = {\n",
    "    'MT': daily_totals['wegkm_imp_hoch_fac_MIV'].sum(),  # Total demand over the whole week for MT\n",
    "    'PT': daily_totals['wegkm_imp_hoch_fac_PT'].sum(),  # Total demand over the whole week for PT\n",
    "    'SAEV': 0  # Assuming no baseline value for SAEV\n",
    "}\n",
    "\n",
    "# Add baseline data as a separate DataFrame\n",
    "baseline_df_demand = pd.DataFrame({\n",
    "    'MT': [baseline_demand['MT']],\n",
    "    'PT': [baseline_demand['PT']],\n",
    "    'SAEV': [baseline_demand['SAEV']]\n",
    "}, index=['Baseline'])\n",
    "\n",
    "# Calculate the total baseline for the horizontal line\n",
    "total_baseline_demand = baseline_df_demand.sum(axis=1).values[0]\n",
    "\n",
    "# Concatenate baseline data with scenario data\n",
    "combined_data_demand = pd.concat([baseline_df_demand, total_demand_week])\n",
    "\n",
    "# Custom colors for the bars to match the original plot colors\n",
    "bar_colors_demand = ['#fba72f', '#f7251c', '#49fdfe']  # MT, PT, SAEV\n",
    "\n",
    "# Plotting the stacked bar chart for travel demand\n",
    "fig, ax = plt.subplots(figsize=(10, 6))\n",
    "\n",
    "# Plot each mode as a stacked bar with cyan outline for SAEV\n",
    "combined_data_demand[['MT', 'PT', 'SAEV']].plot(\n",
    "    kind='bar', \n",
    "    stacked=True, \n",
    "    color=bar_colors_demand, \n",
    "    ax=ax, \n",
    "    edgecolor=['black', 'black', 'black']  # Cyan outline for SAEV\n",
    ")\n",
    "\n",
    "# Draw a single horizontal dotted line for the total baseline\n",
    "ax.axhline(total_baseline_demand, color='black', linestyle='--', linewidth=1, label='Total Baseline')\n",
    "\n",
    "# Add percentage labels for 'SAEV' for each scenario explicitly\n",
    "for i, scenario in enumerate(combined_data_demand.index):\n",
    "    if combined_data_demand['SAEV'][i] > 0:  # Only add labels for non-zero SAEV values\n",
    "        saev_percent = (combined_data_demand['SAEV'][i] / combined_data_demand.loc[scenario].sum()) * 100\n",
    "        ax.text(i, combined_data_demand.loc[scenario].sum() - combined_data_demand['SAEV'][i] / 2, \n",
    "                f'{saev_percent:.1f}%', ha='center', va='center', fontsize=10, color='black')\n",
    "\n",
    "# Set labels and title\n",
    "ax.set_xlabel('Scenario')\n",
    "ax.set_ylabel('Total Travel Demand per Week (km)')\n",
    "ax.set_title('Total Travel Demand per Week for Different Modes Across Scenarios and Baseline')\n",
    "\n",
    "# Apply the custom formatter to the y-axis\n",
    "ax.yaxis.set_major_formatter(FuncFormatter(lambda x, _: f'{x/1e6:.1f}M'))\n",
    "\n",
    "# Customize the legend\n",
    "ax.legend(title='Transport Mode', loc='upper left', bbox_to_anchor=(1, 1))\n",
    "\n",
    "plt.tight_layout()\n",
    "\n",
    "# Show plot\n",
    "plt.show()"
   ],
   "metadata": {
    "collapsed": false,
    "ExecuteTime": {
     "end_time": "2025-04-04T15:04:39.173745Z",
     "start_time": "2025-04-04T15:04:38.866114Z"
    }
   },
   "id": "1069df9f8ba1e76d",
   "execution_count": 35
  },
  {
   "cell_type": "markdown",
   "source": [
    "# Emission Model"
   ],
   "metadata": {
    "collapsed": false
   },
   "id": "651e1569214a8bd6"
  },
  {
   "cell_type": "code",
   "source": [
    "# Specify path for EmissionDatav2.xlsx\n",
    "# EmissionDatapath = \n",
    "\n",
    "params_df = pd.read_excel(EmissionDatapath, sheet_name='Munich')"
   ],
   "metadata": {
    "collapsed": false,
    "ExecuteTime": {
     "end_time": "2025-04-04T15:04:39.252957Z",
     "start_time": "2025-04-04T15:04:39.181350Z"
    }
   },
   "id": "226e860c24ec7001",
   "outputs": [],
   "execution_count": 36
  },
  {
   "cell_type": "markdown",
   "source": [
    "### Emissions from operations "
   ],
   "metadata": {
    "collapsed": false
   },
   "id": "3bc09ad835b399b5"
  },
  {
   "cell_type": "code",
   "source": [
    "# Convert DataFrame to a dictionary for base values\n",
    "base_values = params_df.set_index('Parameter')['Base value'].to_dict()\n",
    "e_Conv_Bus = base_values['E_Conv_Bus']   # Emission factor conventional bus per km [kg/km]\n",
    "e_MIV = 0.166\n",
    "e_MIV2 = (base_values['Proportion_Gasoline'] * base_values['Consumption_Gasoline'] * base_values['Emissionfactor_Gasoline'] + base_values['Proportion_Diesel'] * base_values['Consumption_Diesel'] * base_values['Emissionfactor_Diesel'] + base_values['Proportion_BEV'] * base_values['Consumption_BEV'] * base_values['Emissionfactor_BEV_conv'] )/base_values['Occupancy_Rate_conv']\n",
    "e_AEV_conv = base_values['Consumption_BEV'] * base_values['Emissionfactor_BEV_conv'] / base_values['Occupancy_Rate_AEV']\n",
    "e_AEV_renew = base_values['Consumption_BEV'] * base_values['Emissionfactor_BEV_renew'] / base_values['Occupancy_Rate_AEV']\n",
    "e_SAEV = (base_values['Consumption_BEV'] * base_values['Emissionfactor_BEV_renew'] )/ base_values['Occupancy_Rate_SAEV']\n"
   ],
   "metadata": {
    "collapsed": false,
    "ExecuteTime": {
     "end_time": "2025-04-04T15:04:39.267306Z",
     "start_time": "2025-04-04T15:04:39.255219Z"
    }
   },
   "id": "924c55a489260da2",
   "outputs": [],
   "execution_count": 37
  },
  {
   "cell_type": "code",
   "source": [
    "# Function to calculate D_MIV_neu, D_OPNV_neu, and D_MIV_AE_S based on conditions\n",
    "def calculate_emissions(row):\n",
    "    E_MIV_1 = row ['wegkm_imp_hoch_fac_MIV'] * e_MIV /1000\n",
    "    E_OPNV_1 = row ['wegkm_imp_hoch_fac_PT'] * e_Conv_Bus /1000\n",
    "    return pd.Series([E_MIV_1, E_OPNV_1])\n",
    "\n",
    "for day, df in dfs_tot_MIT_PT_nohw_hw.items():\n",
    "# Apply the function to each row\n",
    "    df[['E_MIV_1', 'E_OPNV_1']] = df.apply(calculate_emissions, axis=1)\n",
    "\n"
   ],
   "metadata": {
    "collapsed": false,
    "ExecuteTime": {
     "end_time": "2025-04-04T15:04:39.341069Z",
     "start_time": "2025-04-04T15:04:39.269084Z"
    }
   },
   "id": "9d0609c6ca249b7f",
   "outputs": [],
   "execution_count": 38
  },
  {
   "cell_type": "code",
   "source": [
    "# Function to calculate D_MIV_neu, D_OPNV_neu, and D_MIV_AE_S based on conditions\n",
    "def calculate_emissions_SAEV(row):\n",
    "    E_SAEV_2 = row['wegkm_saev'] * e_SAEV/1000\n",
    "    E_AEV_2 = row['wegkm_saev'] * e_AEV_conv/1000\n",
    "    E_MIV_2 = row ['d_mit_ae_s'] * e_MIV/1000\n",
    "    E_OPNV_2 = row ['d_opnv_ae_s'] * e_Conv_Bus/1000\n",
    "    return pd.Series([E_SAEV_2,E_AEV_2, E_MIV_2, E_OPNV_2])\n",
    "\n",
    "\n",
    "# Apply the function to calculate emissions for each row and update specific columns\n",
    "for column in combined_df.columns:\n",
    "    combined_df[['E_SAEV_2', 'E_AEV_2', 'E_MIV_2', 'E_OPNV_2']] = combined_df.apply(calculate_emissions_SAEV, axis=1)\n"
   ],
   "metadata": {
    "collapsed": false,
    "ExecuteTime": {
     "end_time": "2025-04-04T15:04:39.383206Z",
     "start_time": "2025-04-04T15:04:39.342180Z"
    }
   },
   "id": "8502cbd1374ba79",
   "outputs": [],
   "execution_count": 39
  },
  {
   "metadata": {
    "collapsed": false,
    "ExecuteTime": {
     "end_time": "2025-04-04T15:04:39.420167Z",
     "start_time": "2025-04-04T15:04:39.384284Z"
    }
   },
   "cell_type": "code",
   "source": [
    "# Initialize lists to hold the cumulative integrals and day labels across all days\n",
    "\n",
    "cumulative_MIV_1 = []\n",
    "cumulative_OPNV_1 = []\n",
    "cumulative_sum_1 = []\n",
    "\n",
    "day_labels = []\n",
    "\n",
    "# Initialize variables to accumulate the cumulative sum over days\n",
    "total_integral_MIV_1 = 0.0\n",
    "total_integral_OPNV_1 = 0.0\n",
    "\n",
    "# Custom colors for the lines and shaded areas\n",
    "line_colors = ['#49fdfe', '#f7251c', '#fba72f']  # Colors for D_SAEV, D_PT, D_MIT\n",
    "area_colors = ['#b3e5fc', '#f8bbd0', '#ffe0b2']  # Lighter shades for the areas\n",
    "total_line_color = '#0000FF'  # Color for the total line\n",
    "total_area_color = '#add8e6'  # Lighter shade for the total area\n",
    "\n",
    "# Create a pivot table for plotting\n",
    "pivot_df = combined_df.pivot_table(index='day', columns='Scenario', values=['E_SAEV_2', 'E_MIV_2', 'E_OPNV_2'])\n",
    "\n",
    "# Calculate the total demand for each scenario\n",
    "pivot_df['total', 'Scenario 1'] = pivot_df[('E_MIV_2', 'Scenario 1')] + pivot_df[('E_OPNV_2', 'Scenario 1')] + pivot_df[('E_SAEV_2', 'Scenario 1')]\n",
    "pivot_df['total', 'Scenario 2'] = pivot_df[('E_MIV_2', 'Scenario 2')] + pivot_df[('E_OPNV_2', 'Scenario 2')] + pivot_df[('E_SAEV_2', 'Scenario 2')]\n",
    "pivot_df['total', 'Scenario 3'] = pivot_df[('E_MIV_2', 'Scenario 3')] + pivot_df[('E_OPNV_2', 'Scenario 3')] + pivot_df[('E_SAEV_2', 'Scenario 3')]\n",
    "\n",
    "# Compute the cumulative sum for each scenario\n",
    "for scenario in ['Scenario 1', 'Scenario 2', 'Scenario 3']:\n",
    "    pivot_df[('cumulative_E_mit', scenario)] = pivot_df[('E_MIV_2', scenario)].cumsum()\n",
    "    pivot_df[('cumulative_E_opnv', scenario)] = pivot_df[('E_OPNV_2', scenario)].cumsum()\n",
    "    pivot_df[('cumulative_E_saev', scenario)] = pivot_df[('E_SAEV_2', scenario)].cumsum()\n",
    "    pivot_df[('cumulative_total', scenario)] = pivot_df[('total', scenario)].cumsum()\n",
    "\n",
    "\n",
    "# Iterate over each day to compute the cumulative integrals\n",
    "for day, df in dfs_tot_MIT_PT_nohw_hw.items():\n",
    "    # Ensure that the DataFrame is sorted by index (time) to correctly apply the trapezoidal rule\n",
    "    df = df.sort_index()\n",
    "    # Fill NaN values with zeroes\n",
    "    df['E_MIV_1'].fillna(0, inplace=True)\n",
    "    df['E_OPNV_1'].fillna(0, inplace=True)\n",
    "\n",
    "\n",
    "    integral_MIV_1 = np.trapz(df['E_MIV_1'].values, dx=1)\n",
    "    total_integral_MIV_1 += integral_MIV_1\n",
    "    cumulative_MIV_1.append(total_integral_MIV_1)\n",
    "\n",
    "    integral_OPNV_1 = np.trapz(df['E_OPNV_1'].values, dx=1)\n",
    "    total_integral_OPNV_1 += integral_OPNV_1\n",
    "    cumulative_OPNV_1.append(total_integral_OPNV_1)\n",
    "\n",
    "    # Store the day labels for x-axis\n",
    "    day_labels.append(day)\n",
    "\n",
    "\n",
    "# Calculate the cumulative sums\n",
    "for i in range(len(cumulative_MIV_1)):\n",
    "    sum_1 = cumulative_MIV_1[i] + cumulative_OPNV_1[i]\n",
    "    cumulative_sum_1.append(sum_1)\n",
    "\n"
   ],
   "id": "87c1ec9e66b326c1",
   "outputs": [],
   "execution_count": 40
  },
  {
   "cell_type": "code",
   "source": [
    "# Compute the total emissions per week for each mode across all scenarios\n",
    "total_emissions_week = pd.DataFrame({\n",
    "    'MT': [pivot_df[('E_MIV_2', 'Scenario 1')].sum(), pivot_df[('E_MIV_2', 'Scenario 2')].sum(), pivot_df[('E_MIV_2', 'Scenario 3')].sum()],\n",
    "    'PT': [pivot_df[('E_OPNV_2', 'Scenario 1')].sum(), pivot_df[('E_OPNV_2', 'Scenario 2')].sum(), pivot_df[('E_OPNV_2', 'Scenario 3')].sum()],\n",
    "    'SAEV': [pivot_df[('E_SAEV_2', 'Scenario 1')].sum(), pivot_df[('E_SAEV_2', 'Scenario 2')].sum(), pivot_df[('E_SAEV_2', 'Scenario 3')].sum()],\n",
    "    'Total': [\n",
    "        pivot_df[('total', 'Scenario 1')].sum(),\n",
    "        pivot_df[('total', 'Scenario 2')].sum(),\n",
    "        pivot_df[('total', 'Scenario 3')].sum()\n",
    "    ],\n",
    "    'Scenario': ['Scenario 1', 'Scenario 2', 'Scenario 3']\n",
    "})\n",
    "\n",
    "# Baseline data: Calculate the total baseline emissions per week for each mode\n",
    "baseline_data = {\n",
    "    'MT': cumulative_MIV_1[-1],  # Total emissions over the whole week for MT\n",
    "    'PT': cumulative_OPNV_1[-1],  # Total emissions over the whole week for PT\n",
    "    'SAEV': 0,  # Assuming no baseline value for SAEV, set to 0 or another relevant value\n",
    "    'Total': cumulative_sum_1[-1]  # Total emissions over the whole week for all modes\n",
    "}\n",
    "\n",
    "\n"
   ],
   "metadata": {
    "collapsed": false,
    "ExecuteTime": {
     "end_time": "2025-04-04T15:04:39.432423Z",
     "start_time": "2025-04-04T15:04:39.421244Z"
    }
   },
   "id": "49f6c7e0a558dc11",
   "outputs": [],
   "execution_count": 41
  },
  {
   "cell_type": "code",
   "source": [
    "# Compute total emissions per week for each mode across all scenarios\n",
    "total_emissions_week = pd.DataFrame({\n",
    "    'MT': [pivot_df[('E_MIV_2', 'Scenario 1')].sum(), pivot_df[('E_MIV_2', 'Scenario 2')].sum(), pivot_df[('E_MIV_2', 'Scenario 3')].sum()],\n",
    "    'PT': [pivot_df[('E_OPNV_2', 'Scenario 1')].sum(), pivot_df[('E_OPNV_2', 'Scenario 2')].sum(), pivot_df[('E_OPNV_2', 'Scenario 3')].sum()],\n",
    "    'SAEV': [pivot_df[('E_SAEV_2', 'Scenario 1')].sum(), pivot_df[('E_SAEV_2', 'Scenario 2')].sum(), pivot_df[('E_SAEV_2', 'Scenario 3')].sum()]\n",
    "}, index=['Scenario 1', 'Scenario 2', 'Scenario 3'])\n",
    "\n",
    "# Baseline data: Calculate the total baseline emissions per week for each mode\n",
    "baseline_data = {\n",
    "    'MT': cumulative_MIV_1[-1],  # Total emissions over the whole week for MT\n",
    "    'PT': cumulative_OPNV_1[-1],  # Total emissions over the whole week for PT\n",
    "    'SAEV': 0  # Assuming no baseline value for SAEV, set to 0 or another relevant value\n",
    "}\n",
    "\n",
    "# Add baseline data as a separate DataFrame\n",
    "baseline_df = pd.DataFrame({\n",
    "    'MT': [baseline_data['MT']],\n",
    "    'PT': [baseline_data['PT']],\n",
    "    'SAEV': [baseline_data['SAEV']]\n",
    "}, index=['Baseline'])\n",
    "\n",
    "# Calculate the total baseline for the horizontal line\n",
    "total_baseline = baseline_df.sum(axis=1).values[0]\n",
    "\n",
    "# Concatenate baseline data with scenario data\n",
    "combined_data = pd.concat([baseline_df, total_emissions_week])\n",
    "\n"
   ],
   "metadata": {
    "collapsed": false,
    "ExecuteTime": {
     "end_time": "2025-04-04T15:04:39.444870Z",
     "start_time": "2025-04-04T15:04:39.433563Z"
    }
   },
   "id": "fb8d914edffe5b2f",
   "outputs": [],
   "execution_count": 42
  },
  {
   "cell_type": "code",
   "source": [
    "# Baseline total emissions\n",
    "baseline_total_emissions = baseline_df.sum(axis=1).values[0]\n",
    "\n",
    "# Total emissions for each scenario\n",
    "scenario_totals = total_emissions_week.sum(axis=1)\n",
    "\n",
    "# Calculate the relative change from the baseline to each scenario\n",
    "relative_changes = ((scenario_totals - baseline_total_emissions) / baseline_total_emissions) * 100\n",
    "\n",
    "# Create a DataFrame to display the relative changes\n",
    "relative_changes_df = pd.DataFrame({\n",
    "    'Scenario': ['Scenario 1', 'Scenario 2', 'Scenario 3'],\n",
    "    'Relative Change (%)': relative_changes.values\n",
    "})\n"
   ],
   "metadata": {
    "collapsed": false,
    "ExecuteTime": {
     "end_time": "2025-04-04T15:04:39.453909Z",
     "start_time": "2025-04-04T15:04:39.446116Z"
    }
   },
   "id": "2bfa79b396fd4471",
   "outputs": [],
   "execution_count": 43
  },
  {
   "cell_type": "markdown",
   "source": [
    "### Emissions from production and End-of-life\n",
    "#### Fleet size: \n",
    "Li et al:\n",
    "We examine three different assumptions for the growth of the SAEV fleet based on different proportions of current Uber and Lyft market size, which is around 96,000 vehicles in the San Francisco Bay Area of California. Under medium adoption level, the SAEV fleet will be as large as 10% of current TNC market by 2030. And the low and high adoption levels correspond to 5% and 25% respectively. We assume a linear growth in the market adoption from 0% in 2021 to 2030.\n",
    "\n",
    "For the remaining part of the Results section, one scenario was analyzed in more detail. The 10% demand–10% fleet scenario was chosen as an example because it combines a large demand with a small fleet, which introduces competition for AVs in the scenario (Bösch Paper)\n"
   ],
   "metadata": {
    "collapsed": false
   },
   "id": "1867b48e5f1f1261"
  },
  {
   "cell_type": "code",
   "source": [
    "# Extract individual values from the dictionary\n",
    "Fleetsize = base_values['Fleet_Munich']   # Emission factor conventional bus per km [t/km]\n",
    "\n",
    "#Scanrio builder\n",
    "Fleetproportion = 0.1\n",
    "Private_Vehicle_Replacement_Rate = 4\n",
    "Fleetsize_SAEV = round(Fleetproportion * Fleetsize)\n",
    "Fleetsize_private =round( Fleetsize- (Fleetsize_SAEV/Private_Vehicle_Replacement_Rate))\n",
    "\n"
   ],
   "metadata": {
    "collapsed": false,
    "ExecuteTime": {
     "end_time": "2025-04-04T15:04:39.460617Z",
     "start_time": "2025-04-04T15:04:39.455084Z"
    }
   },
   "id": "9cb535ba36f5f3cb",
   "outputs": [],
   "execution_count": 44
  },
  {
   "cell_type": "code",
   "source": [
    "\n",
    "\n",
    "params_df = pd.read_excel(EmissionDatapath, sheet_name='VehMun')  \n",
    "\n",
    "emission_df = params_df.drop(params_df.columns[8:13], axis=1)  # Spaltenindex 8 entspricht Spalte I, und 13 entspricht Spalte M\n",
    "\n",
    "emission_df = emission_df.iloc[[1, 2, 9, 9,11]]\n",
    "\n",
    "emission_df.loc[1, 'Modell'] = 'E_Conv_Car_Gasoline'\n",
    "emission_df.loc[2, 'Modell'] = 'E_Conv_Car_Diesel'\n",
    "# Rename the first occurrence of row with index 9 in the 'Modell' column \n",
    "emission_df.iloc[emission_df.index.get_indexer_for([9])[0], emission_df.columns.get_loc('Modell')] = 'E_EA_PooledTaxi/Ind.Taxi'\n",
    "# Rename the second occurrence of row with index 9 in the 'Modell' column \n",
    "emission_df.iloc[emission_df.index.get_indexer_for([9])[1], emission_df.columns.get_loc('Modell')] = 'E_Conv_Car_BEV'\n",
    "emission_df.loc[11, 'Modell'] = 'E_Conv_Bus'\n",
    "\n",
    "# Platzieren der neuen Spalte 'Modell' ganz vorne im DataFrame\n",
    "emission_df = emission_df[['Modell'] + [col for col in emission_df.columns if col != 'Modell']]\n",
    "\n",
    "# Konvertieren der Spalte 'Curb Weight (kg)' in numerische Werte (float)\n",
    "emission_df['Curb Weight (kg)'] = pd.to_numeric(emission_df['Curb Weight (kg)'], errors='coerce')\n",
    "\n",
    "# Variable für Produktionsemissionen\n",
    "production_emissions_vehicle_body = 4.56 #kg CO2 − eq.∕kg\n",
    "production_emissions_battery_pack = 83.50 #kg CO2 − eq.∕kWh\n",
    "\n",
    "#Variable for Recyling emission\n",
    "recycling_emissions_vehicle_body = 2.93#kg CO2 − eq.∕kg\n",
    "recycling_emissions_battery_pack = 48.4 #kg CO2 − eq.∕kWh\n",
    "\n",
    "\n",
    "# Multipliziere die Spalte 'Curb Weight (kg)' mit der Variable 'production_emissions_vehicle_body'\n",
    "emission_df['Production Emissions (kg Co2 Eq)'] = emission_df['Curb Weight (kg)'] * production_emissions_vehicle_body + emission_df['Battery Gross Capacity (kWh)'] * production_emissions_battery_pack\n",
    "\n",
    "# Multipliziere die Spalte 'Curb Weight (kg)' mit der Variable 'recycling_emissions_vehicle_body'\n",
    "emission_df['Recycling Emissions (kg Co2 Eq)'] = -(emission_df['Curb Weight (kg)'] * recycling_emissions_vehicle_body) - (emission_df['Battery Gross Capacity (kWh)'] * recycling_emissions_battery_pack)\n",
    "\n",
    "# Am Ende alle Spalten außer der ersten und letzten löschen\n",
    "emission_df = emission_df.iloc[:, [0, -1, -2]]\n",
    "\n"
   ],
   "metadata": {
    "collapsed": false,
    "ExecuteTime": {
     "end_time": "2025-04-04T15:04:39.504339Z",
     "start_time": "2025-04-04T15:04:39.462019Z"
    }
   },
   "id": "a20665b14394c904",
   "outputs": [],
   "execution_count": 45
  },
  {
   "cell_type": "markdown",
   "source": [
    "#### Emissions from production"
   ],
   "metadata": {
    "collapsed": false
   },
   "id": "894dc335375f2783"
  },
  {
   "cell_type": "code",
   "source": [
    "lifetime = 15.7 # Buberger\n",
    "ProportionDiesel = 0.29\n",
    "ProportionBenzin = 0.62\n",
    "ProportionBEV = 0.09\n",
    "# https://www.kba.de/DE/Statistik/Fahrzeuge/Bestand/Jahrebilanz_Bestand/fz_b_jahresbilanz_node.html#:~:text=Mit%2049.098.685%20Einheiten%20und,8%20%25)%20die%20h%C3%A4ufigsten%20Kraftstoffarten.\n",
    "\n",
    "production_emissions_afterSAEV = Fleetsize_SAEV * (emission_df.loc[emission_df['Modell'].str.strip() == 'E_EA_PooledTaxi/Ind.Taxi', 'Production Emissions (kg Co2 Eq)'].values[0]) + Fleetsize_private * (ProportionDiesel  * (emission_df.loc[emission_df['Modell'].str.strip() == 'E_Conv_Car_Diesel', 'Production Emissions (kg Co2 Eq)'].values[0]) + ProportionBenzin * (emission_df.loc[emission_df['Modell'].str.strip() == 'E_Conv_Car_Gasoline', 'Production Emissions (kg Co2 Eq)'].values[0]) + ProportionBEV * (emission_df.loc[emission_df['Modell'].str.strip() == 'E_Conv_Car_BEV', 'Production Emissions (kg Co2 Eq)'].values[0]))\n",
    "\n",
    "production_emissions_preSAEV = Fleetsize * (ProportionDiesel  * (emission_df.loc[emission_df['Modell'].str.strip() == 'E_Conv_Car_Diesel', 'Production Emissions (kg Co2 Eq)'].values[0]) + ProportionBenzin * (emission_df.loc[emission_df['Modell'].str.strip() == 'E_Conv_Car_Gasoline', 'Production Emissions (kg Co2 Eq)'].values[0]) + ProportionBEV * (emission_df.loc[emission_df['Modell'].str.strip() == 'E_Conv_Car_BEV', 'Production Emissions (kg Co2 Eq)'].values[0]))\n",
    "\n",
    "production_emissions_savings =  production_emissions_afterSAEV - production_emissions_preSAEV\n",
    "\n"
   ],
   "metadata": {
    "collapsed": false,
    "ExecuteTime": {
     "end_time": "2025-04-04T15:04:39.516518Z",
     "start_time": "2025-04-04T15:04:39.505460Z"
    }
   },
   "id": "a0ae5f4ffbdc06b",
   "outputs": [],
   "execution_count": 46
  },
  {
   "cell_type": "markdown",
   "source": [
    "#### Emissions from End-of-life"
   ],
   "metadata": {
    "collapsed": false
   },
   "id": "60b02f97cb83f87"
  },
  {
   "cell_type": "code",
   "source": [
    "recycling_emissions_afterSAEV = Fleetsize_SAEV * (emission_df.loc[emission_df['Modell'].str.strip() == 'E_EA_PooledTaxi/Ind.Taxi', 'Recycling Emissions (kg Co2 Eq)'].values[0]) + Fleetsize_private * (ProportionDiesel  * (emission_df.loc[emission_df['Modell'].str.strip() == 'E_Conv_Car_Diesel', 'Recycling Emissions (kg Co2 Eq)'].values[0]) + ProportionBenzin * (emission_df.loc[emission_df['Modell'].str.strip() == 'E_Conv_Car_Gasoline', 'Recycling Emissions (kg Co2 Eq)'].values[0]) + ProportionBEV * (emission_df.loc[emission_df['Modell'].str.strip() == 'E_Conv_Car_BEV', 'Recycling Emissions (kg Co2 Eq)'].values[0]))\n",
    "\n",
    "recycling_emissions_preSAEV = Fleetsize * (ProportionDiesel  * (emission_df.loc[emission_df['Modell'].str.strip() == 'E_Conv_Car_Diesel', 'Recycling Emissions (kg Co2 Eq)'].values[0]) + ProportionBenzin * (emission_df.loc[emission_df['Modell'].str.strip() == 'E_Conv_Car_Gasoline', 'Recycling Emissions (kg Co2 Eq)'].values[0]) + ProportionBEV * (emission_df.loc[emission_df['Modell'].str.strip() == 'E_Conv_Car_BEV', 'Recycling Emissions (kg Co2 Eq)'].values[0]))\n",
    "\n",
    "recycling_emissions_savings =   recycling_emissions_afterSAEV - recycling_emissions_preSAEV\n"
   ],
   "metadata": {
    "collapsed": false,
    "ExecuteTime": {
     "end_time": "2025-04-04T15:04:39.529906Z",
     "start_time": "2025-04-04T15:04:39.517584Z"
    }
   },
   "id": "589a10a999e3abc",
   "outputs": [],
   "execution_count": 47
  },
  {
   "cell_type": "markdown",
   "source": [
    "### Lifecycle Emissions"
   ],
   "metadata": {
    "collapsed": false
   },
   "id": "1a9f0d9c957ebfd8"
  },
  {
   "cell_type": "markdown",
   "source": [
    "#### Scenario 1"
   ],
   "metadata": {
    "collapsed": false
   },
   "id": "7108d804c0a3de10"
  },
  {
   "cell_type": "code",
   "source": [
    "number_of_weeks = 52\n",
    "# Define the initial total value and the blocks\n",
    "total_value = (production_emissions_preSAEV/1000)/lifetime  + cumulative_sum_1[-1] * number_of_weeks + (recycling_emissions_preSAEV/1000)/lifetime\n",
    "# Calculate the blocks for the waterfall\n",
    "first_block = -(pivot_df[('cumulative_total', 'Scenario 1')].iloc[-1]* number_of_weeks  - cumulative_sum_1[-1] * number_of_weeks )#considers only base case and scenario 1\n",
    "second_block = (production_emissions_savings/1000)/lifetime + (recycling_emissions_savings/1000)/lifetime\n",
    "third_block = total_value+first_block-second_block\n",
    "\n",
    "\n",
    "blocks = [  first_block,second_block,third_block]\n",
    "\n",
    "# Calculate the cumulative values to create a falling waterfall\n",
    "cumulative = [total_value]\n",
    "for block in blocks:\n",
    "    cumulative.append(cumulative[-1] - block)\n",
    "\n",
    "# Plotting the waterfall diagram\n",
    "fig, ax = plt.subplots(figsize=(8, 5))\n",
    "\n",
    "# Define colors for the bars (similar shades)\n",
    "colors = ['#01579b', '#0288d1', '#49fdfe']  # Different shades of blue for the blocks\n",
    "\n",
    "# Plot the initial total bar on the left side\n",
    "ax.bar(0, total_value, color=colors[0], edgecolor='black', label='Total')\n",
    "\n",
    "# Plot the waterfall blocks\n",
    "for i in range(3):\n",
    "    # Use a darker color for the last bar\n",
    "    bar_color = colors[i] \n",
    "\n",
    "\n",
    "    ax.bar(i + 1, -blocks[i], bottom=cumulative[i], color=bar_color, edgecolor='black')\n",
    "# Draw lines connecting the bars to create the waterfall effect\n",
    "for i in range(0, 3):\n",
    "    ax.plot([i, i + 1], [cumulative[i], cumulative[i]], color='black', linestyle='--', linewidth=1)\n",
    "\n",
    "# Add labels for the bars\n",
    "ax.set_xticks(range(4))\n",
    "ax.set_xticklabels(['Total Emissions pre SAEV', 'Utilization','Production+ Recycling',  'Total Emissions after SAEV'])\n",
    "\n",
    "# Set title and labels\n",
    "#ax.set_title('Effect on SAEV emissions')\n",
    "ax.set_ylabel('Total CO2 emissions per year (tons)')\n",
    "#ax.set_xlabel('Lifecycle phase')\n",
    "\n",
    "# Apply the custom formatter to the y-axis\n",
    "ax.yaxis.set_major_formatter(FuncFormatter(lambda x, _: f'{x/1e6:.1f}M'))\n",
    "\n",
    "# Add gridlines\n",
    "ax.grid(True, axis='y', linestyle='--', alpha=0.6)\n",
    "plt.xticks(rotation=45, ha='right')\n",
    "# Scale the y-axis higher for better visibility\n",
    "ax.set_ylim([0, total_value * 1.2])  # Adjust this multiplier as needed\n",
    "\n",
    "plt.tight_layout()\n",
    "plt.show()"
   ],
   "metadata": {
    "collapsed": false,
    "ExecuteTime": {
     "end_time": "2025-04-04T15:04:39.802246Z",
     "start_time": "2025-04-04T15:04:39.537203Z"
    }
   },
   "id": "811fd24f5dd08831",
   "outputs": [
    {
     "data": {
      "text/plain": "<Figure size 800x500 with 1 Axes>",
      "image/png": "[encoded data removed]"
     },
     "metadata": {},
     "output_type": "display_data"
    }
   ],
   "execution_count": 48
  },
  {
   "cell_type": "code",
   "source": [
    "\n",
    "\n",
    "# Create the DataFrame to calculate and display the values\n",
    "data = {\n",
    "    'Description': [\n",
    "        'Total Emissions pre SAEV (tons)',\n",
    "        'Operations Reduction (tons)',\n",
    "        'Production + Recycling Reduction (tons)',\n",
    "        'Total Emissions after SAEV (tons)',\n",
    "        'Percentage Reduction from pre SAEV to post SAEV (%)'\n",
    "    ],\n",
    "    'Value': [\n",
    "        total_value,\n",
    "        first_block,\n",
    "        second_block,\n",
    "        #cumulative[-1],\n",
    "        third_block,\n",
    "        ((third_block-total_value) / total_value) * 100\n",
    "    ]\n",
    "}\n",
    "\n",
    "# Create the DataFrame\n",
    "emission_reduction_df = pd.DataFrame(data)\n",
    "\n",
    "# Display the DataFrame\n",
    "print(emission_reduction_df)\n"
   ],
   "metadata": {
    "collapsed": false,
    "ExecuteTime": {
     "end_time": "2025-04-04T15:04:39.813488Z",
     "start_time": "2025-04-04T15:04:39.803352Z"
    }
   },
   "id": "552ff573b03f5194",
   "outputs": [
    {
     "name": "stdout",
     "output_type": "stream",
     "text": [
      "                                         Description         Value\n",
      "0                    Total Emissions pre SAEV (tons)  1.505534e+06\n",
      "1                        Operations Reduction (tons) -1.269750e+04\n",
      "2            Production + Recycling Reduction (tons)  1.951040e+04\n",
      "3                  Total Emissions after SAEV (tons)  1.473326e+06\n",
      "4  Percentage Reduction from pre SAEV to post SAE... -2.139302e+00\n"
     ]
    }
   ],
   "execution_count": 49
  },
  {
   "cell_type": "markdown",
   "source": [
    "#### Scenario 2"
   ],
   "metadata": {
    "collapsed": false
   },
   "id": "4b1496270a77156b"
  },
  {
   "cell_type": "code",
   "source": [
    "number_of_weeks = 52\n",
    "# Define the initial total value and the blocks\n",
    "total_value = (production_emissions_preSAEV/1000)/lifetime  + cumulative_sum_1[-1] * number_of_weeks + (recycling_emissions_preSAEV/1000)/lifetime\n",
    "# Calculate the blocks for the waterfall\n",
    "first_block = -(pivot_df[('cumulative_total', 'Scenario 2')].iloc[-1]* number_of_weeks  - cumulative_sum_1[-1] * number_of_weeks )#considers only base case and scenario 1\n",
    "second_block = 0\n",
    "third_block =  total_value-first_block-second_block\n",
    "\n",
    "\n",
    "blocks = [  first_block,second_block,third_block]\n",
    "\n",
    "# Calculate the cumulative values to create a falling waterfall\n",
    "cumulative = [total_value]\n",
    "for block in blocks:\n",
    "    cumulative.append(cumulative[-1] - block)\n",
    "\n",
    "# Plotting the waterfall diagram\n",
    "fig, ax = plt.subplots(figsize=(8, 5))\n",
    "\n",
    "# Define colors for the bars (similar shades)\n",
    "colors = ['#01579b', '#0288d1', '#49fdfe']  # Different shades of blue for the blocks\n",
    "\n",
    "# Plot the initial total bar on the left side\n",
    "ax.bar(0, total_value, color=colors[0], edgecolor='black', label='Total')\n",
    "\n",
    "# Plot the waterfall blocks\n",
    "for i in range(3):\n",
    "    # Use a darker color for the last bar\n",
    "    bar_color = colors[i] \n",
    "\n",
    "\n",
    "    ax.bar(i + 1, -blocks[i], bottom=cumulative[i], color=bar_color, edgecolor='black')\n",
    "# Draw lines connecting the bars to create the waterfall effect\n",
    "for i in range(0, 4):\n",
    "    ax.plot([i, i + 1], [cumulative[i], cumulative[i]], color='black', linestyle='--', linewidth=1)\n",
    "\n",
    "# Add labels for the bars\n",
    "ax.set_xticks(range(4))\n",
    "ax.set_xticklabels(['Total Emissions pre SAEV',  'Utilization','Production+ Recycling',  'Total Emissions after SAEV'])\n",
    "\n",
    "# Set title and labels\n",
    "#ax.set_title('Effect on SAEV emissions')\n",
    "ax.set_ylabel('Total CO2 emissions per year (tons)')\n",
    "#ax.set_xlabel('Lifecycle phase')\n",
    "\n",
    "# Apply the custom formatter to the y-axis\n",
    "ax.yaxis.set_major_formatter(FuncFormatter(lambda x, _: f'{x/1e6:.1f}M'))\n",
    "\n",
    "# Add gridlines\n",
    "ax.grid(True, axis='y', linestyle='--', alpha=0.6)\n",
    "\n",
    "# Scale the y-axis higher for better visibility\n",
    "ax.set_ylim([0, total_value * 1.2])  # Adjust this multiplier as needed\n",
    "plt.xticks(rotation=45, ha='right')\n",
    "\n",
    "plt.tight_layout()\n",
    "plt.show()"
   ],
   "metadata": {
    "collapsed": false,
    "ExecuteTime": {
     "end_time": "2025-04-04T15:04:40.308425Z",
     "start_time": "2025-04-04T15:04:39.814632Z"
    }
   },
   "id": "8fbc953c307569ac",
   "outputs": [
    {
     "data": {
      "text/plain": "<Figure size 800x500 with 1 Axes>",
      "image/png": "[encoded data removed]"
     },
     "metadata": {},
     "output_type": "display_data"
    }
   ],
   "execution_count": 50
  },
  {
   "cell_type": "code",
   "source": [
    "\n",
    "# Create the DataFrame to calculate and display the values\n",
    "data = {\n",
    "    'Description': [\n",
    "        'Total Emissions pre SAEV (tons)',\n",
    "        'Operations Reduction (tons)',\n",
    "        'Production + Recycling Reduction (tons)',\n",
    "        'Total Emissions after SAEV (tons)',\n",
    "        'Percentage Reduction from pre SAEV to post SAEV (%)'\n",
    "    ],\n",
    "    'Value': [\n",
    "        total_value,\n",
    "        first_block,\n",
    "        second_block,\n",
    "        #cumulative[-1],\n",
    "        third_block,\n",
    "        ((third_block-total_value) / total_value) * 100\n",
    "    ]\n",
    "}\n",
    "\n",
    "# Create the DataFrame\n",
    "emission_reduction_df = pd.DataFrame(data)\n",
    "\n",
    "# Display the DataFrame\n",
    "print(emission_reduction_df)"
   ],
   "metadata": {
    "collapsed": false,
    "ExecuteTime": {
     "end_time": "2025-04-04T15:04:40.319282Z",
     "start_time": "2025-04-04T15:04:40.309552Z"
    }
   },
   "id": "9daa53d604965c6b",
   "outputs": [
    {
     "name": "stdout",
     "output_type": "stream",
     "text": [
      "                                         Description         Value\n",
      "0                    Total Emissions pre SAEV (tons)  1.505534e+06\n",
      "1                        Operations Reduction (tons)  5.153351e+04\n",
      "2            Production + Recycling Reduction (tons)  0.000000e+00\n",
      "3                  Total Emissions after SAEV (tons)  1.454000e+06\n",
      "4  Percentage Reduction from pre SAEV to post SAE... -3.422939e+00\n"
     ]
    }
   ],
   "execution_count": 51
  },
  {
   "cell_type": "markdown",
   "source": [
    "#### Scenario 3"
   ],
   "metadata": {
    "collapsed": false
   },
   "id": "e4af5f98dd225d87"
  },
  {
   "cell_type": "code",
   "source": [
    "number_of_weeks = 52\n",
    "# Define the initial total value and the blocks\n",
    "total_value = (production_emissions_preSAEV/1000)/lifetime  + cumulative_sum_1[-1] * number_of_weeks + (recycling_emissions_preSAEV/1000)/lifetime\n",
    "# Calculate the blocks for the waterfall\n",
    "first_block = -(pivot_df[('cumulative_total', 'Scenario 3')].iloc[-1]* number_of_weeks  - cumulative_sum_1[-1] * number_of_weeks )#considers only base case and scenario 1\n",
    "second_block = (production_emissions_savings/1000)/lifetime + (recycling_emissions_savings/1000)/lifetime\n",
    "third_block =  total_value-first_block-second_block\n",
    "\n",
    "\n",
    "blocks = [  first_block,second_block,third_block]\n",
    "\n",
    "# Calculate the cumulative values to create a falling waterfall\n",
    "cumulative = [total_value]\n",
    "for block in blocks:\n",
    "    cumulative.append(cumulative[-1] - block)\n",
    "\n",
    "# Plotting the waterfall diagram\n",
    "fig, ax = plt.subplots(figsize=(8, 5))\n",
    "\n",
    "# Define colors for the bars (similar shades)\n",
    "colors = ['#01579b', '#0288d1', '#49fdfe']  # Different shades of blue for the blocks\n",
    "\n",
    "# Plot the initial total bar on the left side\n",
    "ax.bar(0, total_value, color=colors[0], edgecolor='black', label='Total')\n",
    "\n",
    "# Plot the waterfall blocks\n",
    "for i in range(3):\n",
    "    # Use a darker color for the last bar\n",
    "    bar_color = colors[i] \n",
    "\n",
    "\n",
    "    ax.bar(i + 1, -blocks[i], bottom=cumulative[i], color=bar_color, edgecolor='black')\n",
    "# Draw lines connecting the bars to create the waterfall effect\n",
    "for i in range(0, 4):\n",
    "    ax.plot([i, i + 1], [cumulative[i], cumulative[i]], color='black', linestyle='--', linewidth=1)\n",
    "\n",
    "# Add labels for the bars\n",
    "ax.set_xticks(range(4))\n",
    "ax.set_xticklabels(['Total Emissions pre SAEV',  'Utilization','Production+ Recycling',  'Total Emissions after SAEV'])\n",
    "\n",
    "# Set title and labels\n",
    "#ax.set_title('Effect on SAEV emissions')\n",
    "ax.set_ylabel('Total CO2 emissions per year (tons)')\n",
    "#ax.set_xlabel('Lifecycle phase')\n",
    "\n",
    "# Apply the custom formatter to the y-axis\n",
    "ax.yaxis.set_major_formatter(FuncFormatter(lambda x, _: f'{x/1e6:.1f}M'))\n",
    "\n",
    "# Add gridlines\n",
    "ax.grid(True, axis='y', linestyle='--', alpha=0.6)\n",
    "\n",
    "# Scale the y-axis higher for better visibility\n",
    "ax.set_ylim([0, total_value * 1.2])  # Adjust this multiplier as needed\n",
    "plt.xticks(rotation=45, ha='right')\n",
    "\n",
    "plt.tight_layout()\n",
    "plt.show()\n",
    "\n"
   ],
   "metadata": {
    "collapsed": false,
    "ExecuteTime": {
     "end_time": "2025-04-04T15:04:40.605392Z",
     "start_time": "2025-04-04T15:04:40.320421Z"
    }
   },
   "id": "34ad67e281803f00",
   "outputs": [
    {
     "data": {
      "text/plain": "<Figure size 800x500 with 1 Axes>",
      "image/png": "[encoded data removed]"
     },
     "metadata": {},
     "output_type": "display_data"
    }
   ],
   "execution_count": 52
  },
  {
   "cell_type": "code",
   "source": [
    "\n",
    "\n",
    "# Create the DataFrame to calculate and display the values\n",
    "data = {\n",
    "    'Description': [\n",
    "        'Total Emissions pre SAEV (tons)',\n",
    "        'Operations Reduction (tons)',\n",
    "        'Production + Recycling Reduction (tons)',\n",
    "        'Total Emissions after SAEV (tons)',\n",
    "        'Percentage Reduction from pre SAEV to post SAEV (%)'\n",
    "    ],\n",
    "    'Value': [\n",
    "        total_value,\n",
    "        first_block,\n",
    "        second_block,\n",
    "        #cumulative[-1],\n",
    "        third_block,\n",
    "        ((third_block-total_value) / total_value) * 100\n",
    "    ]\n",
    "}\n",
    "\n",
    "# Create the DataFrame\n",
    "emission_reduction_df = pd.DataFrame(data)"
   ],
   "metadata": {
    "collapsed": false,
    "ExecuteTime": {
     "end_time": "2025-04-04T15:04:40.612852Z",
     "start_time": "2025-04-04T15:04:40.606489Z"
    }
   },
   "id": "f2490dc67d8a4352",
   "outputs": [],
   "execution_count": 53
  },
  {
   "cell_type": "markdown",
   "source": [],
   "metadata": {
    "collapsed": false
   },
   "id": "c6db861ffcb18993"
  }
 ],
 "metadata": {
  "kernelspec": {
   "display_name": "Python 3",
   "language": "python",
   "name": "python3"
  },
  "language_info": {
   "codemirror_mode": {
    "name": "ipython",
    "version": 2
   },
   "file_extension": ".py",
   "mimetype": "text/x-python",
   "name": "python",
   "nbconvert_exporter": "python",
   "pygments_lexer": "ipython2",
   "version": "2.7.6"
  }
 },
 "nbformat": 4,
 "nbformat_minor": 5
}
